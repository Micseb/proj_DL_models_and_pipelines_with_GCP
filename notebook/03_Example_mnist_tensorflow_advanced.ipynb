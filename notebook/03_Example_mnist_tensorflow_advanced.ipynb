{
 "cells": [
  {
   "cell_type": "markdown",
   "metadata": {},
   "source": [
    "# MNIST classification example with TensorFlow"
   ]
  },
  {
   "cell_type": "markdown",
   "metadata": {},
   "source": [
    "## Needed librairies"
   ]
  },
  {
   "cell_type": "code",
   "execution_count": 1,
   "metadata": {},
   "outputs": [
    {
     "name": "stderr",
     "output_type": "stream",
     "text": [
      "Using TensorFlow backend.\n"
     ]
    }
   ],
   "source": [
    "import tensorflow as tf\n",
    "from keras.datasets import mnist\n",
    "import keras\n",
    "import numpy as np\n",
    "import matplotlib.pyplot as plt"
   ]
  },
  {
   "cell_type": "code",
   "execution_count": 2,
   "metadata": {},
   "outputs": [
    {
     "data": {
      "text/plain": [
       "'1.11.0'"
      ]
     },
     "execution_count": 2,
     "metadata": {},
     "output_type": "execute_result"
    }
   ],
   "source": [
    "tf.__version__"
   ]
  },
  {
   "cell_type": "markdown",
   "metadata": {},
   "source": [
    "## Import the Data"
   ]
  },
  {
   "cell_type": "code",
   "execution_count": 3,
   "metadata": {},
   "outputs": [],
   "source": [
    "# get mnist data, split between train and test sets\n",
    "# on GCP\n",
    "#(x_train, y_train), (x_test, y_test) = mnist.load_data()\n",
    "# with AXA network\n",
    "import gzip\n",
    "import sys\n",
    "import _pickle as cPickle\n",
    "def load_data(path):\n",
    "    f = gzip.open(path, 'rb')\n",
    "    if sys.version_info < (3,):\n",
    "        data = cPickle.load(f)\n",
    "    else:\n",
    "        data = cPickle.load(f, encoding='bytes')\n",
    "    f.close()\n",
    "    return data\n",
    "(x_train, y_train), (x_test, y_test) = load_data(path='../data/mnist.pkl.gz')"
   ]
  },
  {
   "cell_type": "code",
   "execution_count": 4,
   "metadata": {},
   "outputs": [
    {
     "data": {
      "text/plain": [
       "(60000, 28, 28)"
      ]
     },
     "execution_count": 4,
     "metadata": {},
     "output_type": "execute_result"
    }
   ],
   "source": [
    "# check data shape (training)\n",
    "x_train.shape"
   ]
  },
  {
   "cell_type": "code",
   "execution_count": 5,
   "metadata": {},
   "outputs": [
    {
     "data": {
      "text/plain": [
       "(10000, 28, 28)"
      ]
     },
     "execution_count": 5,
     "metadata": {},
     "output_type": "execute_result"
    }
   ],
   "source": [
    "# check data shape (train)\n",
    "x_test.shape"
   ]
  },
  {
   "cell_type": "code",
   "execution_count": 6,
   "metadata": {},
   "outputs": [
    {
     "data": {
      "text/plain": [
       "(dtype('uint8'), dtype('uint8'))"
      ]
     },
     "execution_count": 6,
     "metadata": {},
     "output_type": "execute_result"
    }
   ],
   "source": [
    "x_train.dtype, x_test.dtype"
   ]
  },
  {
   "cell_type": "code",
   "execution_count": 7,
   "metadata": {},
   "outputs": [
    {
     "data": {
      "text/plain": [
       "(255, 0, 255, 0)"
      ]
     },
     "execution_count": 7,
     "metadata": {},
     "output_type": "execute_result"
    }
   ],
   "source": [
    "np.max(x_train), np.min(x_train), np.max(x_test), np.min(x_test)  "
   ]
  },
  {
   "cell_type": "markdown",
   "metadata": {},
   "source": [
    "## Normalize and reorganize the data"
   ]
  },
  {
   "cell_type": "code",
   "execution_count": 8,
   "metadata": {},
   "outputs": [],
   "source": [
    "# cast uint8 -> float32\n",
    "x_train = x_train.astype('float32')\n",
    "x_test = x_test.astype('float32')"
   ]
  },
  {
   "cell_type": "code",
   "execution_count": 9,
   "metadata": {},
   "outputs": [],
   "source": [
    "# renormalize the data 255 grey variation\n",
    "x_train /= 255\n",
    "x_test /= 255"
   ]
  },
  {
   "cell_type": "code",
   "execution_count": 10,
   "metadata": {},
   "outputs": [],
   "source": [
    "# reshape the data 28 x 28 -> 784\n",
    "x_train = x_train.reshape(len(x_train), x_train.shape[1]*x_train.shape[2])\n",
    "x_test = x_test.reshape(len(x_test), x_test.shape[1]*x_test.shape[2])"
   ]
  },
  {
   "cell_type": "code",
   "execution_count": 11,
   "metadata": {},
   "outputs": [
    {
     "data": {
      "text/plain": [
       "(60000, 784)"
      ]
     },
     "execution_count": 11,
     "metadata": {},
     "output_type": "execute_result"
    }
   ],
   "source": [
    "x_train.shape"
   ]
  },
  {
   "cell_type": "code",
   "execution_count": 12,
   "metadata": {},
   "outputs": [
    {
     "data": {
      "text/plain": [
       "(10000, 784)"
      ]
     },
     "execution_count": 12,
     "metadata": {},
     "output_type": "execute_result"
    }
   ],
   "source": [
    "x_test.shape"
   ]
  },
  {
   "cell_type": "markdown",
   "metadata": {},
   "source": [
    "## Reshape the labels"
   ]
  },
  {
   "cell_type": "code",
   "execution_count": 13,
   "metadata": {},
   "outputs": [
    {
     "data": {
      "text/plain": [
       "(60000,)"
      ]
     },
     "execution_count": 13,
     "metadata": {},
     "output_type": "execute_result"
    }
   ],
   "source": [
    "y_train.shape"
   ]
  },
  {
   "cell_type": "code",
   "execution_count": 14,
   "metadata": {},
   "outputs": [
    {
     "data": {
      "text/plain": [
       "(10000,)"
      ]
     },
     "execution_count": 14,
     "metadata": {},
     "output_type": "execute_result"
    }
   ],
   "source": [
    "y_test.shape"
   ]
  },
  {
   "cell_type": "code",
   "execution_count": 15,
   "metadata": {},
   "outputs": [
    {
     "data": {
      "text/plain": [
       "(array([0, 1, 2, 3, 4, 5, 6, 7, 8, 9], dtype=uint8),\n",
       " array([0, 1, 2, 3, 4, 5, 6, 7, 8, 9], dtype=uint8))"
      ]
     },
     "execution_count": 15,
     "metadata": {},
     "output_type": "execute_result"
    }
   ],
   "source": [
    "np.unique(y_train), np.unique(y_test)"
   ]
  },
  {
   "cell_type": "code",
   "execution_count": 16,
   "metadata": {},
   "outputs": [
    {
     "data": {
      "text/plain": [
       "10"
      ]
     },
     "execution_count": 16,
     "metadata": {},
     "output_type": "execute_result"
    }
   ],
   "source": [
    "num_classes = len(np.unique(y_train))\n",
    "num_classes"
   ]
  },
  {
   "cell_type": "code",
   "execution_count": 17,
   "metadata": {},
   "outputs": [],
   "source": [
    "# convert class vectors to binary class matrices\n",
    "y_train = keras.utils.to_categorical(y_train, num_classes)\n",
    "y_test = keras.utils.to_categorical(y_test, num_classes)"
   ]
  },
  {
   "cell_type": "code",
   "execution_count": 18,
   "metadata": {},
   "outputs": [
    {
     "data": {
      "text/plain": [
       "(60000, 10)"
      ]
     },
     "execution_count": 18,
     "metadata": {},
     "output_type": "execute_result"
    }
   ],
   "source": [
    "y_train.shape"
   ]
  },
  {
   "cell_type": "code",
   "execution_count": 19,
   "metadata": {},
   "outputs": [
    {
     "data": {
      "text/plain": [
       "(10000, 10)"
      ]
     },
     "execution_count": 19,
     "metadata": {},
     "output_type": "execute_result"
    }
   ],
   "source": [
    "y_test.shape"
   ]
  },
  {
   "cell_type": "code",
   "execution_count": 20,
   "metadata": {},
   "outputs": [
    {
     "data": {
      "text/plain": [
       "784"
      ]
     },
     "execution_count": 20,
     "metadata": {},
     "output_type": "execute_result"
    }
   ],
   "source": [
    "dim_input=x_train.shape[1]\n",
    "dim_input"
   ]
  },
  {
   "cell_type": "markdown",
   "metadata": {},
   "source": [
    "## Visualize the data"
   ]
  },
  {
   "cell_type": "code",
   "execution_count": 21,
   "metadata": {},
   "outputs": [
    {
     "data": {
      "image/png": "[encoded data removed]",
      "text/plain": [
       "<Figure size 1440x288 with 5 Axes>"
      ]
     },
     "metadata": {
      "needs_background": "light"
     },
     "output_type": "display_data"
    }
   ],
   "source": [
    "plt.figure(figsize=(20,4))\n",
    "for index, (image, label) in enumerate(zip(x_train[0:5], y_train[0:5])):\n",
    "    plt.subplot(1, 5, index + 1)\n",
    "    plt.imshow(np.reshape(image, (28,28)), cmap=plt.cm.gray)\n",
    "    plt.title('Training: %i\\n' % np.argmax(label), fontsize = 20)"
   ]
  },
  {
   "cell_type": "markdown",
   "metadata": {},
   "source": [
    "## Defined some hyperparameters"
   ]
  },
  {
   "cell_type": "code",
   "execution_count": 22,
   "metadata": {},
   "outputs": [],
   "source": [
    "# number of epoch to train our model\n",
    "epochs = 10\n",
    "\n",
    "# print info every n_print\n",
    "n_print = 1\n",
    "\n",
    "# size of our mini batch\n",
    "mini_batch_size = 100\n",
    "\n",
    "# hidden layer 1\n",
    "n1=300"
   ]
  },
  {
   "cell_type": "code",
   "execution_count": 23,
   "metadata": {},
   "outputs": [],
   "source": [
    "# activation function: activation\n",
    "# X: input features\n",
    "# n: number neurone for a given layer\n",
    "def create_layer (X, n, activation):\n",
    "    ndim = int(X.shape[1])\n",
    "    stddev = 2.0 / np.sqrt(ndim)\n",
    "    # He initialization\n",
    "    initialization = tf.truncated_normal([ndim, n], stddev = stddev)\n",
    "    #       tf.Variable(tf.random_normal([dim_input, n1], stddev=0.03), name='W1')\n",
    "    #       tf.Variable(tf.random_normal([n1]), name='b1')\n",
    "    #       tf.Variable(tf.random_normal([n1, num_classes], stddev=0.03), name='W2')\n",
    "    #       tf.Variable(tf.random_normal([num_classes]), name='b2')\n",
    "    W = tf.Variable(initialization)\n",
    "    b = tf.Variable(tf.zeros([n]))\n",
    "    Z = tf.matmul(X,W)+b\n",
    "    return activation(Z), W, b"
   ]
  },
  {
   "cell_type": "markdown",
   "metadata": {},
   "source": [
    "## Defined our model"
   ]
  },
  {
   "cell_type": "code",
   "execution_count": 24,
   "metadata": {},
   "outputs": [],
   "source": [
    "# x [60000, 784]\n",
    "# y [60000, 10]\n",
    "\n",
    "# 1 layer n1 with 200 neurones\n",
    "# n1 = 300\n",
    "\n",
    "#  . . . . . .    input data (ffattened pixels)      x [batch    ,   dim_input]\n",
    "#   \\x/\\x/x/      -- fully connected layer (relu)    W1[dim_input,          n1]      B1[n1         ]\n",
    "#    . . .                                           Y1[batch    ,          n1]\n",
    "#     \\x/         -- fully connected layer (softmax) W2[n1       , num_classes]      B2[num_classes]\n",
    "#      .                                             Y2[batch    , num_classes]\n",
    "\n",
    "# reset graph before starting\n",
    "tf.reset_default_graph()\n",
    "\n",
    "# tensor (placeholder) for the learning rate\n",
    "learning_rate = tf.placeholder(tf.float32, shape=())\n",
    "\n",
    "# tensor (placeholder) for the momentum\n",
    "momentum = tf.placeholder(tf.float32, shape=())\n",
    "\n",
    "# tensor (placeholder) for the input data [60000, 784]\n",
    "x = tf.placeholder(tf.float32, [None, dim_input])\n",
    "\n",
    "# tensor (placeholder) for the output data [60000, 10]\n",
    "y = tf.placeholder(tf.float32, [None, num_classes])\n",
    "\n",
    "# now declare the weights connecting the input to the hidden layer\n",
    "# calculate the output of the hidden layer\n",
    "Y1, W1, b1 = create_layer (x, n1, activation = tf.nn.relu)\n",
    "\n",
    "# output layer\n",
    "# and the weights connecting the hidden layer to the output layer\n",
    "y_, W2, b2 = create_layer (Y1, num_classes, activation = tf.nn.softmax)\n",
    "# intermediate computation needed for tf.nn.softmax_cross_entropy_with_logits\n",
    "Ylogits= tf.matmul(Y1, W2) + b2\n",
    "\n",
    "# now let's define the cost function which we are going to train the model on\n",
    "\n",
    "# built-in cross entropy\n",
    "# WARNING: This op expects unscaled logits, since it performs a softmax on logits internally for efficiency. \n",
    "# Do not call this op with the output of softmax, as it will produce incorrect results.\n",
    "cross_entropy = tf.nn.softmax_cross_entropy_with_logits_v2(labels=y, logits=Ylogits)\n",
    "cost = tf.reduce_mean(cross_entropy)\n",
    "\n",
    "# add optimisers\n",
    "optimizerGD = tf.train.GradientDescentOptimizer(learning_rate=learning_rate).minimize(cost)\n",
    "optimizerAdam = tf.train.AdamOptimizer(learning_rate=learning_rate).minimize(cost)\n",
    "optimizerMomentum = tf.train.MomentumOptimizer(learning_rate=learning_rate, momentum=momentum).minimize(cost)\n",
    "optimizerRMSP = tf.train.RMSPropOptimizer(learning_rate=learning_rate, momentum=momentum).minimize(cost)\n",
    "\n",
    "# finally setup the initialisation operator\n",
    "init= tf.global_variables_initializer()\n",
    "\n",
    "# define an accuracy assessment operation\n",
    "correct_prediction = tf.equal(tf.argmax(y, 1), tf.argmax(y_, 1))\n",
    "accuracy = tf.reduce_mean(tf.cast(correct_prediction, tf.float32))"
   ]
  },
  {
   "cell_type": "code",
   "execution_count": 25,
   "metadata": {},
   "outputs": [],
   "source": [
    "def run_logistic_model(learning_r, \n",
    "                       momentum_r,\n",
    "                       training_epochs, \n",
    "                       train_obs, \n",
    "                       train_labels, \n",
    "                       test_obs, \n",
    "                       test_labels, \n",
    "                       optString = 'GD',\n",
    "                       n_print=10,\n",
    "                       debug = False,\n",
    "                      ):\n",
    "    sess = tf.Session()\n",
    "    sess.run(init)\n",
    "    \n",
    "    dispatcher = {'GD': optimizerGD, \n",
    "                  'Adam': optimizerAdam,\n",
    "                  'Momentum': optimizerMomentum, \n",
    "                  'RMSP': optimizerRMSP}\n",
    "    try:\n",
    "        opt = dispatcher[optString]\n",
    "    except KeyError:\n",
    "        raise ValueError('Invalid optimizer')\n",
    "    \n",
    "    cost_history_train = np.empty(shape=[0], dtype = float)\n",
    "    cost_history_test = np.empty(shape=[0], dtype = float)\n",
    "    \n",
    "    for epoch in range(training_epochs+1):\n",
    "        for i in range(0, train_obs.shape[0], mini_batch_size):\n",
    "            x_train_batch = train_obs[i:i + mini_batch_size,:]\n",
    "            y_train_batch = train_labels[i:i + mini_batch_size]\n",
    "            \n",
    "            feed_dict_train = {x: x_train_batch, y: y_train_batch, learning_rate: learning_r, momentum: momentum_r}\n",
    "            sess.run(opt, feed_dict = feed_dict_train)\n",
    "        \n",
    "        #cost_ = sess.run(cost, feed_dict=feed_dict_train)\n",
    "        #cost_history = np.append(cost_history, cost_)\n",
    "        \n",
    "        cost_train = sess.run(cost, feed_dict={x: train_obs, y: train_labels})\n",
    "        cost_history_train = np.append(cost_history_train, cost_train)\n",
    "        \n",
    "        cost_test = sess.run(cost, feed_dict={x: test_obs, y: test_labels})\n",
    "        cost_history_test = np.append(cost_history_test, cost_test)\n",
    "        \n",
    "        if (epoch % n_print == 0) & debug:\n",
    "            print(\"Reached epoch\",epoch,\"cost J =\", str.format('{0:.6f}', cost_train))\n",
    "            acc_train = sess.run(accuracy, feed_dict={x: train_obs, y: train_labels})\n",
    "            acc_test = sess.run(accuracy, feed_dict={x: test_obs, y: test_labels})\n",
    "            print(\" accurary on the training set\", str.format('{0:.2f}', acc_train))\n",
    "            print(\" accurary on the testing set\", str.format('{0:.2f}', acc_test))\n",
    "    return sess, cost_history_train, cost_history_test"
   ]
  },
  {
   "cell_type": "code",
   "execution_count": 26,
   "metadata": {},
   "outputs": [
    {
     "name": "stdout",
     "output_type": "stream",
     "text": [
      "Reached epoch 0 cost J = 0.199021\n",
      " accurary on the training set 0.94\n",
      " accurary on the testing set 0.93\n",
      "Reached epoch 10 cost J = 0.054445\n",
      " accurary on the training set 0.99\n",
      " accurary on the testing set 0.97\n",
      "Reached epoch 20 cost J = 0.040334\n",
      " accurary on the training set 0.99\n",
      " accurary on the testing set 0.97\n",
      "Reached epoch 30 cost J = 0.030429\n",
      " accurary on the training set 1.00\n",
      " accurary on the testing set 0.98\n",
      "Reached epoch 40 cost J = 0.036401\n",
      " accurary on the training set 0.99\n",
      " accurary on the testing set 0.97\n",
      "Reached epoch 50 cost J = 0.021354\n",
      " accurary on the training set 1.00\n",
      " accurary on the testing set 0.98\n",
      "Reached epoch 60 cost J = 0.044326\n",
      " accurary on the training set 1.00\n",
      " accurary on the testing set 0.97\n",
      "Reached epoch 70 cost J = 0.027058\n",
      " accurary on the training set 1.00\n",
      " accurary on the testing set 0.98\n",
      "Reached epoch 80 cost J = 0.020835\n",
      " accurary on the training set 1.00\n",
      " accurary on the testing set 0.98\n",
      "Reached epoch 90 cost J = 0.034753\n",
      " accurary on the training set 1.00\n",
      " accurary on the testing set 0.98\n",
      "Reached epoch 100 cost J = 0.013997\n",
      " accurary on the training set 1.00\n",
      " accurary on the testing set 0.98\n"
     ]
    }
   ],
   "source": [
    "sess, cost_history_train, cost_history_test = run_logistic_model(learning_r=0.01,\n",
    "                                                                 momentum_r=0.9,\n",
    "                                                                 training_epochs = 100, \n",
    "                                                                 train_obs = x_train, \n",
    "                                                                 train_labels = y_train, \n",
    "                                                                 test_obs = x_test, \n",
    "                                                                 test_labels = y_test, \n",
    "                                                                 optString = 'Adam',\n",
    "                                                                 debug = True)"
   ]
  },
  {
   "cell_type": "code",
   "execution_count": 27,
   "metadata": {},
   "outputs": [
    {
     "name": "stdout",
     "output_type": "stream",
     "text": [
      "Accuracy on training data: 0.9986333\n",
      "Accuracy on testing data: 0.9777\n"
     ]
    }
   ],
   "source": [
    "print (\"Accuracy on training data:\", accuracy.eval(feed_dict={x: x_train, y: y_train}, session = sess))\n",
    "print (\"Accuracy on testing data:\", accuracy.eval(feed_dict={x: x_test, y: y_test}, session = sess))"
   ]
  },
  {
   "cell_type": "code",
   "execution_count": 29,
   "metadata": {},
   "outputs": [
    {
     "data": {
      "image/png": "[encoded data removed]",
      "text/plain": [
       "<Figure size 720x576 with 1 Axes>"
      ]
     },
     "metadata": {
      "needs_background": "light"
     },
     "output_type": "display_data"
    }
   ],
   "source": [
    "plt.rc('font', family='arial')\n",
    "plt.rc('xtick', labelsize='x-small')\n",
    "plt.rc('ytick', labelsize='x-small')\n",
    "\n",
    "fig = plt.figure(figsize=(10,8))\n",
    "ax = fig.add_subplot(1, 1, 1)\n",
    "ax.plot(cost_history_train, ls='-', color = 'black', lw = 3, label = r'Training $\\gamma = 0.01$')\n",
    "ax.plot(cost_history_test, ls='--', color = 'blue', lw = 3, label = r'Testing $\\gamma = 0.01$')\n",
    "ax.set_xlabel('epochs', fontsize = 16)\n",
    "ax.set_ylabel('Cost function $J$', fontsize = 16)\n",
    "\n",
    "plt.legend(bbox_to_anchor=(1.05, 1), loc=2, borderaxespad=0., fontsize = 16)\n",
    "plt.tick_params(labelsize=16);"
   ]
  }
 ],
 "metadata": {
  "kernelspec": {
   "display_name": "Python [conda env:env_gcp_dl]",
   "language": "python",
   "name": "conda-env-env_gcp_dl-py"
  },
  "language_info": {
   "codemirror_mode": {
    "name": "ipython",
    "version": 3
   },
   "file_extension": ".py",
   "mimetype": "text/x-python",
   "name": "python",
   "nbconvert_exporter": "python",
   "pygments_lexer": "ipython3",
   "version": "3.6.6"
  },
  "latex_envs": {
   "LaTeX_envs_menu_present": true,
   "autoclose": false,
   "autocomplete": true,
   "bibliofile": "biblio.bib",
   "cite_by": "apalike",
   "current_citInitial": 1,
   "eqLabelWithNumbers": true,
   "eqNumInitial": 1,
   "hotkeys": {
    "equation": "Ctrl-E",
    "itemize": "Ctrl-I"
   },
   "labels_anchors": false,
   "latex_user_defs": false,
   "report_style_numbering": false,
   "user_envs_cfg": false
  },
  "toc": {
   "base_numbering": 1,
   "nav_menu": {},
   "number_sections": true,
   "sideBar": true,
   "skip_h1_title": false,
   "title_cell": "Table of Contents",
   "title_sidebar": "Contents",
   "toc_cell": false,
   "toc_position": {},
   "toc_section_display": true,
   "toc_window_display": false
  },
  "varInspector": {
   "cols": {
    "lenName": 16,
    "lenType": 16,
    "lenVar": 40
   },
   "kernels_config": {
    "python": {
     "delete_cmd_postfix": "",
     "delete_cmd_prefix": "del ",
     "library": "var_list.py",
     "varRefreshCmd": "print(var_dic_list())"
    },
    "r": {
     "delete_cmd_postfix": ") ",
     "delete_cmd_prefix": "rm(",
     "library": "var_list.r",
     "varRefreshCmd": "cat(var_dic_list()) "
    }
   },
   "types_to_exclude": [
    "module",
    "function",
    "builtin_function_or_method",
    "instance",
    "_Feature"
   ],
   "window_display": false
  }
 },
 "nbformat": 4,
 "nbformat_minor": 2
}
