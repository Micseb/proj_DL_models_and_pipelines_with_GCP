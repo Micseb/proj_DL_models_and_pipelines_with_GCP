{
 "cells": [
  {
   "cell_type": "markdown",
   "metadata": {},
   "source": [
    "# MNIST classification example with TensorFlow"
   ]
  },
  {
   "cell_type": "markdown",
   "metadata": {},
   "source": [
    "## Install packages on Google  Cloud Datalab (locally use conda env)\n",
    "### Select in the Python3 Kernel:\n",
    "In the menu bar the of 'Kernel', select   \n",
    "**python3**\n",
    "### Install needed packages\n",
    "copy the command below in a Google Cloud Datalab cell  \n",
    "**!pip install tensorflow==1.12**\n",
    "### Restart the Kernel \n",
    "this is to take into account the new installed packages. Click in the menu bar on:  \n",
    "**Reset Session**"
   ]
  },
  {
   "cell_type": "markdown",
   "metadata": {},
   "source": [
    "## Needed librairies"
   ]
  },
  {
   "cell_type": "code",
   "execution_count": 429,
   "metadata": {},
   "outputs": [],
   "source": [
    "import tensorflow as tf\n",
    "import numpy as np\n",
    "import matplotlib.pyplot as plt\n",
    "import time\n",
    "import gzip\n",
    "import sys\n",
    "import _pickle as cPickle\n",
    "import shutil\n",
    "import glob\n",
    "import re\n",
    "import os\n",
    "import codecs\n",
    "import json \n",
    "import subprocess\n",
    "import requests\n",
    "import google.auth"
   ]
  },
  {
   "cell_type": "code",
   "execution_count": 27,
   "metadata": {},
   "outputs": [
    {
     "name": "stdout",
     "output_type": "stream",
     "text": [
      "1.12.0\n",
      "2.1.6-tf\n"
     ]
    }
   ],
   "source": [
    "print(tf.__version__)\n",
    "print(tf.keras.__version__)"
   ]
  },
  {
   "cell_type": "code",
   "execution_count": 28,
   "metadata": {},
   "outputs": [],
   "source": [
    "tf.logging.set_verbosity(tf.logging.INFO)"
   ]
  },
  {
   "cell_type": "markdown",
   "metadata": {},
   "source": [
    "## Import the Data"
   ]
  },
  {
   "cell_type": "code",
   "execution_count": 29,
   "metadata": {},
   "outputs": [],
   "source": [
    "# get mnist data, split between train and test sets\n",
    "# on GCP\n",
    "#(x_train, y_train), (x_test, y_test) = tf.keras.datasets.mnist.load_data()\n",
    "# with AXA network\n",
    "def load_data(path):\n",
    "    f = gzip.open(path, 'rb')\n",
    "    if sys.version_info < (3,):\n",
    "        data = cPickle.load(f)\n",
    "    else:\n",
    "        data = cPickle.load(f, encoding='bytes')\n",
    "    f.close()\n",
    "    return data\n",
    "(x_train, y_train), (x_test, y_test) = load_data(path='../data/mnist.pkl.gz')"
   ]
  },
  {
   "cell_type": "code",
   "execution_count": 30,
   "metadata": {},
   "outputs": [
    {
     "data": {
      "text/plain": [
       "(60000, 28, 28)"
      ]
     },
     "execution_count": 30,
     "metadata": {},
     "output_type": "execute_result"
    }
   ],
   "source": [
    "# check data shape (training)\n",
    "x_train.shape"
   ]
  },
  {
   "cell_type": "code",
   "execution_count": 31,
   "metadata": {},
   "outputs": [
    {
     "data": {
      "text/plain": [
       "(10000, 28, 28)"
      ]
     },
     "execution_count": 31,
     "metadata": {},
     "output_type": "execute_result"
    }
   ],
   "source": [
    "# check data shape (train)\n",
    "x_test.shape"
   ]
  },
  {
   "cell_type": "code",
   "execution_count": 32,
   "metadata": {},
   "outputs": [
    {
     "data": {
      "text/plain": [
       "(dtype('uint8'), dtype('uint8'))"
      ]
     },
     "execution_count": 32,
     "metadata": {},
     "output_type": "execute_result"
    }
   ],
   "source": [
    "x_train.dtype, x_test.dtype"
   ]
  },
  {
   "cell_type": "code",
   "execution_count": 33,
   "metadata": {},
   "outputs": [
    {
     "data": {
      "text/plain": [
       "(255, 0, 255, 0)"
      ]
     },
     "execution_count": 33,
     "metadata": {},
     "output_type": "execute_result"
    }
   ],
   "source": [
    "np.max(x_train), np.min(x_train), np.max(x_test), np.min(x_test)  "
   ]
  },
  {
   "cell_type": "code",
   "execution_count": 34,
   "metadata": {},
   "outputs": [
    {
     "data": {
      "text/plain": [
       "7.476806640625"
      ]
     },
     "execution_count": 34,
     "metadata": {},
     "output_type": "execute_result"
    }
   ],
   "source": [
    "x_test.nbytes/1024.0**2"
   ]
  },
  {
   "cell_type": "code",
   "execution_count": 35,
   "metadata": {},
   "outputs": [
    {
     "data": {
      "text/plain": [
       "44.86083984375"
      ]
     },
     "execution_count": 35,
     "metadata": {},
     "output_type": "execute_result"
    }
   ],
   "source": [
    "x_train.nbytes/1024.0**2"
   ]
  },
  {
   "cell_type": "code",
   "execution_count": 36,
   "metadata": {},
   "outputs": [
    {
     "data": {
      "text/plain": [
       "0.0095367431640625"
      ]
     },
     "execution_count": 36,
     "metadata": {},
     "output_type": "execute_result"
    }
   ],
   "source": [
    "y_test.nbytes/1024.0**2"
   ]
  },
  {
   "cell_type": "code",
   "execution_count": 37,
   "metadata": {},
   "outputs": [
    {
     "data": {
      "text/plain": [
       "0.057220458984375"
      ]
     },
     "execution_count": 37,
     "metadata": {},
     "output_type": "execute_result"
    }
   ],
   "source": [
    "y_train.nbytes/1024.0**2"
   ]
  },
  {
   "cell_type": "markdown",
   "metadata": {},
   "source": [
    "## Normalize and reorganize the data"
   ]
  },
  {
   "cell_type": "code",
   "execution_count": 38,
   "metadata": {},
   "outputs": [],
   "source": [
    "# cast uint8 -> float32\n",
    "x_train = x_train.astype('float32')\n",
    "x_test = x_test.astype('float32')"
   ]
  },
  {
   "cell_type": "code",
   "execution_count": 39,
   "metadata": {},
   "outputs": [],
   "source": [
    "# renormalize the data 255 grey variation\n",
    "x_train /= 255\n",
    "x_test /= 255"
   ]
  },
  {
   "cell_type": "code",
   "execution_count": 40,
   "metadata": {},
   "outputs": [],
   "source": [
    "# reshape the data 28 x 28 -> 784\n",
    "x_train = x_train.reshape(len(x_train), x_train.shape[1]*x_train.shape[2])\n",
    "x_test = x_test.reshape(len(x_test), x_test.shape[1]*x_test.shape[2])"
   ]
  },
  {
   "cell_type": "code",
   "execution_count": 41,
   "metadata": {},
   "outputs": [
    {
     "data": {
      "text/plain": [
       "(60000, 784)"
      ]
     },
     "execution_count": 41,
     "metadata": {},
     "output_type": "execute_result"
    }
   ],
   "source": [
    "x_train.shape"
   ]
  },
  {
   "cell_type": "code",
   "execution_count": 42,
   "metadata": {},
   "outputs": [
    {
     "data": {
      "text/plain": [
       "(10000, 784)"
      ]
     },
     "execution_count": 42,
     "metadata": {},
     "output_type": "execute_result"
    }
   ],
   "source": [
    "x_test.shape"
   ]
  },
  {
   "cell_type": "markdown",
   "metadata": {},
   "source": [
    "## Reshape the labels"
   ]
  },
  {
   "cell_type": "code",
   "execution_count": 43,
   "metadata": {},
   "outputs": [
    {
     "data": {
      "text/plain": [
       "(60000,)"
      ]
     },
     "execution_count": 43,
     "metadata": {},
     "output_type": "execute_result"
    }
   ],
   "source": [
    "y_train.shape"
   ]
  },
  {
   "cell_type": "code",
   "execution_count": 44,
   "metadata": {},
   "outputs": [
    {
     "data": {
      "text/plain": [
       "(10000,)"
      ]
     },
     "execution_count": 44,
     "metadata": {},
     "output_type": "execute_result"
    }
   ],
   "source": [
    "y_test.shape"
   ]
  },
  {
   "cell_type": "code",
   "execution_count": 45,
   "metadata": {},
   "outputs": [
    {
     "data": {
      "text/plain": [
       "(array([0, 1, 2, 3, 4, 5, 6, 7, 8, 9], dtype=uint8),\n",
       " array([0, 1, 2, 3, 4, 5, 6, 7, 8, 9], dtype=uint8))"
      ]
     },
     "execution_count": 45,
     "metadata": {},
     "output_type": "execute_result"
    }
   ],
   "source": [
    "np.unique(y_train), np.unique(y_test)"
   ]
  },
  {
   "cell_type": "code",
   "execution_count": 46,
   "metadata": {},
   "outputs": [
    {
     "data": {
      "text/plain": [
       "10"
      ]
     },
     "execution_count": 46,
     "metadata": {},
     "output_type": "execute_result"
    }
   ],
   "source": [
    "num_classes = len(np.unique(y_train))\n",
    "num_classes"
   ]
  },
  {
   "cell_type": "code",
   "execution_count": 47,
   "metadata": {},
   "outputs": [],
   "source": [
    "# convert class vectors to binary class matrices\n",
    "y_train = tf.keras.utils.to_categorical(y_train, num_classes)\n",
    "y_test = tf.keras.utils.to_categorical(y_test, num_classes)"
   ]
  },
  {
   "cell_type": "code",
   "execution_count": 48,
   "metadata": {},
   "outputs": [
    {
     "data": {
      "text/plain": [
       "(60000, 10)"
      ]
     },
     "execution_count": 48,
     "metadata": {},
     "output_type": "execute_result"
    }
   ],
   "source": [
    "y_train.shape"
   ]
  },
  {
   "cell_type": "code",
   "execution_count": 49,
   "metadata": {},
   "outputs": [
    {
     "data": {
      "text/plain": [
       "(10000, 10)"
      ]
     },
     "execution_count": 49,
     "metadata": {},
     "output_type": "execute_result"
    }
   ],
   "source": [
    "y_test.shape"
   ]
  },
  {
   "cell_type": "code",
   "execution_count": 50,
   "metadata": {},
   "outputs": [
    {
     "data": {
      "text/plain": [
       "784"
      ]
     },
     "execution_count": 50,
     "metadata": {},
     "output_type": "execute_result"
    }
   ],
   "source": [
    "dim_input=x_train.shape[1]\n",
    "dim_input"
   ]
  },
  {
   "cell_type": "markdown",
   "metadata": {},
   "source": [
    "## Visualize the data"
   ]
  },
  {
   "cell_type": "code",
   "execution_count": 51,
   "metadata": {
    "scrolled": true
   },
   "outputs": [
    {
     "data": {
      "image/png": "[encoded data removed]",
      "text/plain": [
       "<Figure size 1440x288 with 5 Axes>"
      ]
     },
     "metadata": {
      "needs_background": "light"
     },
     "output_type": "display_data"
    }
   ],
   "source": [
    "plt.figure(figsize=(20,4))\n",
    "for index, (image, label) in enumerate(zip(x_train[0:5], y_train[0:5])):\n",
    "    plt.subplot(1, 5, index + 1)\n",
    "    plt.imshow(np.reshape(image, (28,28)), cmap=plt.cm.gray)\n",
    "    plt.title('Training: %i\\n' % np.argmax(label), fontsize = 20)"
   ]
  },
  {
   "cell_type": "markdown",
   "metadata": {},
   "source": [
    "## Defined some hyperparameters"
   ]
  },
  {
   "cell_type": "code",
   "execution_count": 52,
   "metadata": {},
   "outputs": [],
   "source": [
    "# learning rate\n",
    "learning_rate = 0.5\n",
    "\n",
    "# number of epoch to train our model\n",
    "EPOCHS = 2\n",
    "\n",
    "# size of our mini batch\n",
    "#BATCH_SIZE = len(x_train)\n",
    "BATCH_SIZE = 128\n",
    "\n",
    "# shuffle buffer size\n",
    "SHUFFLE_BUFFER_SIZE = 10 * BATCH_SIZE\n",
    "\n",
    "# prefetch buffer size\n",
    "PREFETCH_BUFFER_SIZE = 1 #tf.contrib.data.AUTOTUNE\n",
    "\n",
    "# number of paralell calls\n",
    "NUM_PARALELL_CALL = 4\n",
    "\n",
    "# hidden layer 1\n",
    "n1=300"
   ]
  },
  {
   "cell_type": "markdown",
   "metadata": {},
   "source": [
    "## Defined flags"
   ]
  },
  {
   "cell_type": "code",
   "execution_count": 53,
   "metadata": {},
   "outputs": [],
   "source": [
    "def del_all_flags(FLAGS):\n",
    "    flags_dict = FLAGS._flags()    \n",
    "    keys_list = [keys for keys in flags_dict]    \n",
    "    for keys in keys_list:\n",
    "        FLAGS.__delattr__(keys)\n",
    "    \n",
    "del_all_flags(tf.flags.FLAGS)"
   ]
  },
  {
   "cell_type": "code",
   "execution_count": 54,
   "metadata": {},
   "outputs": [],
   "source": [
    "tf.app.flags.DEFINE_string('f', '', 'kernel') # just for jupyter notebook and avoir : \"UnrecognizedFlagError: Unknown command line flag 'f'\"\n",
    "tf.app.flags.DEFINE_string('model_dir', '../results/Models/Mnist/tf_1_12/estimator/ckpt/', 'Dir to save a model and checkpoints')\n",
    "tf.app.flags.DEFINE_string('saved_dir', '../results/Models/Mnist/tf_1_12/estimator/pt/', 'Dir to save a model for TF serving')\n",
    "tf.app.flags.DEFINE_string('model_dir_keras', '../results/Models/Mnist/tf_1_12/keras/ckpt/', 'Dir to save a model and checkpoints with keras')\n",
    "tf.app.flags.DEFINE_string('tensorboard_dir_keras', '../results/Models/Mnist/tf_1_12/keras/logs/', 'Dir to save logs for TensorBoard with keras')\n",
    "tf.app.flags.DEFINE_integer('shuffle_buffer_size', SHUFFLE_BUFFER_SIZE , 'Shuffle buffer size')\n",
    "tf.app.flags.DEFINE_integer('prefetch_buffer_size', PREFETCH_BUFFER_SIZE, 'Prefetch buffer size')\n",
    "tf.app.flags.DEFINE_integer('batch_size', BATCH_SIZE, 'Batch size')\n",
    "tf.app.flags.DEFINE_integer('epoch', EPOCHS, 'number of epoch')\n",
    "tf.app.flags.DEFINE_integer('num_parallel_calls', NUM_PARALELL_CALL, 'Number of paralell calls')\n",
    "FLAGS = tf.app.flags.FLAGS"
   ]
  },
  {
   "cell_type": "code",
   "execution_count": 55,
   "metadata": {},
   "outputs": [
    {
     "name": "stdout",
     "output_type": "stream",
     "text": [
      "\n",
      "/Users/tarrade/anaconda3/envs/env_gcp_dl/lib/python3.6/site-packages/ipykernel_launcher.py:\n",
      "  --batch_size: Batch size\n",
      "    (default: '128')\n",
      "    (an integer)\n",
      "  --epoch: number of epoch\n",
      "    (default: '2')\n",
      "    (an integer)\n",
      "  --f: kernel\n",
      "    (default: '')\n",
      "  --model_dir: Dir to save a model and checkpoints\n",
      "    (default: '../results/Models/Mnist/tf_1_12/estimator/ckpt/')\n",
      "  --model_dir_keras: Dir to save a model and checkpoints with keras\n",
      "    (default: '../results/Models/Mnist/tf_1_12/keras/ckpt/')\n",
      "  --num_parallel_calls: Number of paralell calls\n",
      "    (default: '4')\n",
      "    (an integer)\n",
      "  --prefetch_buffer_size: Prefetch buffer size\n",
      "    (default: '1')\n",
      "    (an integer)\n",
      "  --saved_dir: Dir to save a model for TF serving\n",
      "    (default: '../results/Models/Mnist/tf_1_12/estimator/pt/')\n",
      "  --shuffle_buffer_size: Shuffle buffer size\n",
      "    (default: '1280')\n",
      "    (an integer)\n",
      "  --tensorboard_dir_keras: Dir to save logs for TensorBoard with keras\n",
      "    (default: '../results/Models/Mnist/tf_1_12/keras/logs/')\n",
      "\n",
      "absl.flags:\n",
      "  --flagfile: Insert flag definitions from the given file into the command line.\n",
      "    (default: '')\n",
      "  --undefok: comma-separated list of flag names that it is okay to specify on\n",
      "    the command line even if the program does not define a flag with that name.\n",
      "    IMPORTANT: flags in this list that have arguments MUST use the --flag=value\n",
      "    format.\n",
      "    (default: '')\n"
     ]
    }
   ],
   "source": [
    "print(FLAGS)"
   ]
  },
  {
   "cell_type": "markdown",
   "metadata": {},
   "source": [
    "## tf.data.Dataset\n",
    "https://www.tensorflow.org/guide/performance/datasets  \n",
    "To summarize, one good order for the different transformations is:\n",
    "- create the dataset\n",
    "- shuffle (with a big enough buffer size https://stackoverflow.com/questions/46444018/meaning-of-buffer-size-in-dataset-map-dataset-prefetch-and-dataset-shuffle)\n",
    "- repeat\n",
    "- map with the actual work (preprocessing, augmentation…) using multiple parallel calls\n",
    "- batch\n",
    "- prefetch\n",
    "\n",
    "ModeKeys:  \n",
    "https://www.tensorflow.org/api_docs/python/tf/estimator/ModeKeys  \n",
    "- EVAL\n",
    "- PREDICT\n",
    "- TRAIN"
   ]
  },
  {
   "cell_type": "code",
   "execution_count": 56,
   "metadata": {},
   "outputs": [
    {
     "data": {
      "text/plain": [
       "('eval', 'infer', 'train')"
      ]
     },
     "execution_count": 56,
     "metadata": {},
     "output_type": "execute_result"
    }
   ],
   "source": [
    "tf.estimator.ModeKeys.EVAL, tf.estimator.ModeKeys.PREDICT, tf.estimator.ModeKeys.TRAIN"
   ]
  },
  {
   "cell_type": "code",
   "execution_count": 57,
   "metadata": {},
   "outputs": [],
   "source": [
    "def input_dataset_fn(x_data, y_data, batch_size=128, mode=tf.estimator.ModeKeys.TRAIN):\n",
    "    \n",
    "    if mode == tf.estimator.ModeKeys.PREDICT:\n",
    "        tf.logging.info(\"input_dataset_fn: PREDICT, {}\".format(mode))\n",
    "    elif mode == tf.estimator.ModeKeys.EVAL:\n",
    "        tf.logging.info(\"input_dataset_fn: EVAL, {}\".format(mode))\n",
    "    elif mode == tf.estimator.ModeKeys.TRAIN:\n",
    "        tf.logging.info(\"input_dataset_fn: TRAIN, {}\".format(mode))\n",
    "    \n",
    "    # 1) convert the inputs to a Dataset.\n",
    "    dataset = tf.data.Dataset.from_tensor_slices((x_data, y_data))\n",
    "    \n",
    "    # 2) shuffle (with a big enough buffer size)    :        \n",
    "    if mode == tf.estimator.ModeKeys.TRAIN:\n",
    "        #num_epochs = None # loop indefinitely\n",
    "        num_epochs = FLAGS.epoch\n",
    "        dataset = dataset.shuffle(buffer_size=FLAGS.shuffle_buffer_size, seed=2)# depends on sample size\n",
    "    else:\n",
    "        #num_epochs = 1 # end-of-input after this\n",
    "        num_epochs = FLAGS.epoch\n",
    "        \n",
    "    print('the number of epoch: num_epoch =', num_epochs)\n",
    "        \n",
    "    # caching data\n",
    "    #dataset = dataset.cache()\n",
    "    \n",
    "    # 3) automatically refill the data queue when empty\n",
    "    dataset = dataset.repeat(num_epochs)\n",
    "    \n",
    "    # 4) map\n",
    "    #dataset = dataset.map(map_func=parse_fn, num_parallel_calls=FLAGS.num_parallel_calls)\n",
    "\n",
    "    # 5) create batches of data\n",
    "    dataset = dataset.batch(batch_size=batch_size, drop_remainder=True)\n",
    "    \n",
    "    # 6) prefetch data for faster consumption, based on your system and environment, allows the tf.data runtime to automatically tune the prefetch buffer sizes\n",
    "    dataset = dataset.prefetch(FLAGS.prefetch_buffer_size)\n",
    "\n",
    "    return dataset"
   ]
  },
  {
   "cell_type": "code",
   "execution_count": 58,
   "metadata": {},
   "outputs": [
    {
     "name": "stdout",
     "output_type": "stream",
     "text": [
      "INFO:tensorflow:input_dataset_fn: TRAIN, train\n",
      "the number of epoch: num_epoch = 2\n",
      "INFO:tensorflow:input_dataset_fn: EVAL, eval\n",
      "the number of epoch: num_epoch = 2\n"
     ]
    }
   ],
   "source": [
    "training_dataset = input_dataset_fn(x_train, \n",
    "                                    y_train, \n",
    "                                    mode=tf.estimator.ModeKeys.TRAIN, \n",
    "                                    batch_size=FLAGS.batch_size)\n",
    "testing_dataset = input_dataset_fn(x_test, \n",
    "                                   y_test,\n",
    "                                   mode=tf.estimator.ModeKeys.EVAL, \n",
    "                                   batch_size=len(x_test))"
   ]
  },
  {
   "cell_type": "markdown",
   "metadata": {},
   "source": [
    "### Exploration dataset API"
   ]
  },
  {
   "cell_type": "code",
   "execution_count": 59,
   "metadata": {},
   "outputs": [],
   "source": [
    "iterator = training_dataset.make_one_shot_iterator()"
   ]
  },
  {
   "cell_type": "code",
   "execution_count": 60,
   "metadata": {},
   "outputs": [],
   "source": [
    "# next_element\n",
    "features, labels = iterator.get_next()"
   ]
  },
  {
   "cell_type": "code",
   "execution_count": 61,
   "metadata": {
    "scrolled": false
   },
   "outputs": [
    {
     "name": "stdout",
     "output_type": "stream",
     "text": [
      "iteration n: 0 execution time: 19.241626999999998 seconds\n",
      "(128, 784)\n",
      "(128, 10)\n",
      "first label of the batch 9 \n",
      "\n",
      "iteration n: 1 execution time: 0.004407000000000494 seconds\n",
      "(128, 784)\n",
      "(128, 10)\n",
      "first label of the batch 2 \n",
      "\n",
      "iteration n: 2 execution time: 0.0030760000000000787 seconds\n",
      "(128, 784)\n",
      "(128, 10)\n",
      "first label of the batch 6 \n",
      "\n",
      "iteration n: 3 execution time: 0.0047330000000016526 seconds\n",
      "(128, 784)\n",
      "(128, 10)\n",
      "first label of the batch 1 \n",
      "\n",
      "iteration n: 4 execution time: 0.004023999999994032 seconds\n",
      "(128, 784)\n",
      "(128, 10)\n",
      "first label of the batch 5 \n",
      "\n",
      "iteration n: 5 execution time: 0.004402999999996382 seconds\n",
      "(128, 784)\n",
      "(128, 10)\n",
      "first label of the batch 1 \n",
      "\n",
      "iteration n: 6 execution time: 0.004941000000002305 seconds\n",
      "(128, 784)\n",
      "(128, 10)\n",
      "first label of the batch 9 \n",
      "\n",
      "iteration n: 7 execution time: 0.004837000000001979 seconds\n",
      "(128, 784)\n",
      "(128, 10)\n",
      "first label of the batch 8 \n",
      "\n",
      "iteration n: 8 execution time: 0.005237000000001046 seconds\n",
      "(128, 784)\n",
      "(128, 10)\n",
      "first label of the batch 2 \n",
      "\n",
      "iteration n: 9 execution time: 0.006029000000005169 seconds\n",
      "(128, 784)\n",
      "(128, 10)\n",
      "first label of the batch 3 \n",
      "\n",
      "number of iteration reached\n"
     ]
    }
   ],
   "source": [
    "n=0\n",
    "# maximum: EPOCHS*len(x_train)//BATCH_SIZE\n",
    "n_iter=10\n",
    "with tf.Session() as sess:\n",
    "    while True:\n",
    "        try:\n",
    "            start_time = time.clock()\n",
    "            x,y = sess.run([features, labels])\n",
    "            print('iteration n:', n, 'execution time:', time.clock() - start_time, 'seconds')\n",
    "            print(x.shape)\n",
    "            print(y.shape)\n",
    "            print('first label of the batch',np.argmax(y[0]),'\\n')\n",
    "            n+=1\n",
    "            if n>=n_iter:\n",
    "                print('number of iteration reached')\n",
    "                break\n",
    "        except tf.errors.OutOfRangeError:\n",
    "            print('tf.errors.OutOfRangeError')\n",
    "            break"
   ]
  },
  {
   "cell_type": "code",
   "execution_count": 62,
   "metadata": {},
   "outputs": [],
   "source": [
    "iterator = testing_dataset.make_one_shot_iterator()"
   ]
  },
  {
   "cell_type": "code",
   "execution_count": 63,
   "metadata": {},
   "outputs": [],
   "source": [
    "# next_element\n",
    "features, labels = iterator.get_next()"
   ]
  },
  {
   "cell_type": "code",
   "execution_count": 64,
   "metadata": {
    "scrolled": false
   },
   "outputs": [
    {
     "name": "stdout",
     "output_type": "stream",
     "text": [
      "3.4615380000000044 seconds\n",
      "(10000, 784)\n",
      "(10000, 10)\n",
      "first label of the batch 7 \n",
      "\n",
      "0.1018100000000004 seconds\n",
      "(10000, 784)\n",
      "(10000, 10)\n",
      "first label of the batch 7 \n",
      "\n",
      "tf.errors.OutOfRangeError\n"
     ]
    }
   ],
   "source": [
    "with tf.Session() as sess:\n",
    "    while True:\n",
    "        try:\n",
    "            start_time = time.clock()\n",
    "            x,y = sess.run([features, labels])\n",
    "            print(time.clock() - start_time, 'seconds')\n",
    "            print(x.shape)\n",
    "            print(y.shape)\n",
    "            print('first label of the batch',np.argmax(y[0]),'\\n')\n",
    "        except tf.errors.OutOfRangeError:\n",
    "            print('tf.errors.OutOfRangeError')\n",
    "            break"
   ]
  },
  {
   "cell_type": "markdown",
   "metadata": {},
   "source": [
    "## Machine Learning modelling with Keras\n",
    "### Build the model"
   ]
  },
  {
   "cell_type": "code",
   "execution_count": 65,
   "metadata": {},
   "outputs": [
    {
     "data": {
      "text/plain": [
       "'../results/Models/Mnist/tf_1_12/keras/ckpt/'"
      ]
     },
     "execution_count": 65,
     "metadata": {},
     "output_type": "execute_result"
    }
   ],
   "source": [
    "FLAGS.model_dir_keras"
   ]
  },
  {
   "cell_type": "code",
   "execution_count": 66,
   "metadata": {},
   "outputs": [],
   "source": [
    "shutil.rmtree(FLAGS.model_dir_keras, ignore_errors=True)"
   ]
  },
  {
   "cell_type": "code",
   "execution_count": 67,
   "metadata": {
    "code_folding": []
   },
   "outputs": [],
   "source": [
    "def baseline_model(opt='tf'):\n",
    "    # create model\n",
    "    model = tf.keras.Sequential()\n",
    " \n",
    "    # hidden layer\n",
    "    model.add(tf.keras.layers.Dense(dim_input, \n",
    "                    input_dim=dim_input, \n",
    "                    kernel_initializer=tf.keras.initializers.he_normal(),\n",
    "                    bias_initializer=tf.keras.initializers.Zeros(),\n",
    "                    activation='relu'))\n",
    "    # last layer\n",
    "    model.add(tf.keras.layers.Dense(num_classes, \n",
    "                    kernel_initializer=tf.keras.initializers.he_normal(),\n",
    "                    bias_initializer=tf.keras.initializers.Zeros(),\n",
    "                    activation='softmax'))\n",
    "    \n",
    "    # weight initialisation\n",
    "    # He: keras.initializers.he_normal(seed=None)\n",
    "    # Xavier: keras.initializers.glorot_uniform(seed=None)\n",
    "    # Radom Normal: keras.initializers.RandomNormal(mean=0.0, stddev=0.05, seed=None)\n",
    "    # Truncated Normal: keras.initializers.TruncatedNormal(mean=0.0, stddev=0.05, seed=None)\n",
    "    \n",
    "    if opt=='keras':\n",
    "        optimiser=tf.keras.optimizers.Adam(lr=0.01, beta_1=0.9)\n",
    "        # GD/SGC:   keras.optimizers.SGD(lr=0.01, momentum=0.0, decay=0.0, nesterov=False)\n",
    "        # Adam:     keras.optimizers.Adam(lr=0.001, beta_1=0.9, beta_2=0.999, epsilon=None, decay=0.0, amsgrad=False)\n",
    "        # RMSProp:  keras.optimizers.RMSprop(lr=0.001, rho=0.9, epsilon=None, decay=0.0)\n",
    "        # Momentum: keras.optimizers.SGD(lr=0.01, momentum=0.9, decay=0.0, nesterov=False)\n",
    "    else:\n",
    "        #optimiser (use tf.train and not tf.keras to use MirrorStrategy)\n",
    "        # https://www.tensorflow.org/api_docs/python/tf/train/Optimizer\n",
    "        optimiser=tf.train.AdamOptimizer(learning_rate=0.001, beta1=0.9)\n",
    "        # GD/SGC:   tf.train.GradientDescentOptimizer(learning_rate, use_locking=False, name='GradientDescent') \n",
    "        # Adam:     tf.train.AdamOptimizer(learning_rate=0.001, beta1=0.9, beta2=0.999, epsilon=1e-08, use_locking=False,name='Adam')\n",
    "        # RMSProp:  tf.train.RMSPropOptimizer(learning_rate, decay=0.9, momentum=0.0, epsilon=1e-10, use_locking=False, centered=False, name='RMSProp')\n",
    "        # Momentum: tf.train.MomentumOptimizer(learning_rate, momentum, use_locking=False, name='Momentum', use_nesterov=False)\n",
    "    \n",
    "    # Compile model\n",
    "    model.compile(loss='categorical_crossentropy', \n",
    "                  optimizer=optimiser, \n",
    "                  metrics=['accuracy'])\n",
    "    return model"
   ]
  },
  {
   "cell_type": "code",
   "execution_count": 68,
   "metadata": {},
   "outputs": [],
   "source": [
    "# reset the model\n",
    "tf.keras.backend.clear_session()"
   ]
  },
  {
   "cell_type": "code",
   "execution_count": 69,
   "metadata": {},
   "outputs": [],
   "source": [
    "# build the model\n",
    "# keras optimiser\n",
    "model_opt_keras = baseline_model(opt='keras')"
   ]
  },
  {
   "cell_type": "markdown",
   "metadata": {},
   "source": [
    "### Check the nuber of parameters"
   ]
  },
  {
   "cell_type": "code",
   "execution_count": 70,
   "metadata": {},
   "outputs": [
    {
     "name": "stdout",
     "output_type": "stream",
     "text": [
      "_________________________________________________________________\n",
      "Layer (type)                 Output Shape              Param #   \n",
      "=================================================================\n",
      "dense (Dense)                (None, 784)               615440    \n",
      "_________________________________________________________________\n",
      "dense_1 (Dense)              (None, 10)                7850      \n",
      "=================================================================\n",
      "Total params: 623,290\n",
      "Trainable params: 623,290\n",
      "Non-trainable params: 0\n",
      "_________________________________________________________________\n"
     ]
    }
   ],
   "source": [
    "model_opt_keras.summary()"
   ]
  },
  {
   "cell_type": "markdown",
   "metadata": {},
   "source": [
    "### Check input and output layer names"
   ]
  },
  {
   "cell_type": "code",
   "execution_count": 71,
   "metadata": {},
   "outputs": [
    {
     "data": {
      "text/plain": [
       "['dense_input']"
      ]
     },
     "execution_count": 71,
     "metadata": {},
     "output_type": "execute_result"
    }
   ],
   "source": [
    "model_opt_keras.input_names # Use this name as the dictionary key in the TF input function"
   ]
  },
  {
   "cell_type": "code",
   "execution_count": 72,
   "metadata": {},
   "outputs": [
    {
     "data": {
      "text/plain": [
       "['dense_1']"
      ]
     },
     "execution_count": 72,
     "metadata": {},
     "output_type": "execute_result"
    }
   ],
   "source": [
    "model_opt_keras.output_names"
   ]
  },
  {
   "cell_type": "markdown",
   "metadata": {},
   "source": [
    "## Call back with Keras"
   ]
  },
  {
   "cell_type": "markdown",
   "metadata": {},
   "source": [
    "### Print info during iterations"
   ]
  },
  {
   "cell_type": "code",
   "execution_count": 73,
   "metadata": {},
   "outputs": [],
   "source": [
    "class UDFPrint(tf.keras.callbacks.Callback):\n",
    "    def __init__(self, test_data):\n",
    "        self.test_data = test_data\n",
    "        \n",
    "    def on_train_begin(self, logs={}):\n",
    "        return\n",
    "\n",
    "    def on_train_end(self, logs={}):\n",
    "        return\n",
    "\n",
    "    def on_epoch_begin(self, epoch, logs={}):\n",
    "        _, __, x_train, y_train = self.test_data\n",
    "        loss_train, acc_train = self.model.evaluate(x_train, y_train, verbose=0)\n",
    "        print('Reached epoch {0:3d} cost J = {1:.5f}'.format(epoch, loss_train))\n",
    "        return\n",
    "\n",
    "    def on_epoch_end(self, epoch, logs={}):\n",
    "        x_test, y_test, x_train, y_train = self.test_data\n",
    "        loss_train, acc_train = self.model.evaluate(x_train, y_train, verbose=0)\n",
    "        loss_test, acc_test = self.model.evaluate(x_test, y_test, verbose=0)\n",
    "        print(' accurary on the training set {0:.4f}'.format(acc_train))\n",
    "        print(' accurary on the testing set {0:.4f}'.format(acc_test))\n",
    "\n",
    "    def on_batch_begin(self, batch, logs={}):\n",
    "        #print('  ---> starting minibatch', batch)\n",
    "        return\n",
    "\n",
    "    def on_batch_end(self, batch, logs={}):\n",
    "        #print('  ---> ending minibatch', batch)\n",
    "        return\n",
    "return"
   ]
  },
  {
   "cell_type": "markdown",
   "metadata": {},
   "source": [
    "### TensorBoard"
   ]
  },
  {
   "cell_type": "code",
   "execution_count": 74,
   "metadata": {},
   "outputs": [
    {
     "data": {
      "text/plain": [
       "'../results/Models/Mnist/tf_1_12/keras/logs/'"
      ]
     },
     "execution_count": 74,
     "metadata": {},
     "output_type": "execute_result"
    }
   ],
   "source": [
    "FLAGS.tensorboard_dir_keras"
   ]
  },
  {
   "cell_type": "code",
   "execution_count": 75,
   "metadata": {},
   "outputs": [
    {
     "name": "stdout",
     "output_type": "stream",
     "text": [
      "events.out.tfevents.1549038093.Fabien-Tarrades-MacBook-Pro.local\n",
      "events.out.tfevents.1549050335.Fabien-Tarrades-MacBook-Pro.local\n",
      "events.out.tfevents.1549038351.Fabien-Tarrades-MacBook-Pro.local\n",
      "events.out.tfevents.1549050551.Fabien-Tarrades-MacBook-Pro.local\n"
     ]
    }
   ],
   "source": [
    "for file in glob.glob(FLAGS.tensorboard_dir_keras+'*'):\n",
    "    print(re.findall(r'[^\\\\/]+|[\\\\/]',file)[-1])"
   ]
  },
  {
   "cell_type": "code",
   "execution_count": 76,
   "metadata": {},
   "outputs": [],
   "source": [
    "shutil.rmtree(FLAGS.tensorboard_dir_keras+'*' ,ignore_errors=True)"
   ]
  },
  {
   "cell_type": "code",
   "execution_count": 77,
   "metadata": {},
   "outputs": [],
   "source": [
    "#keras.callbacks.TensorBoard(log_dir='./logs', histogram_freq=0, batch_size=32, write_graph=True, write_grads=False, write_images=False, embeddings_freq=0, embeddings_layer_names=None, embeddings_metadata=None, embeddings_data=None, update_freq='epoch')\n",
    "tbCallBack=tf.keras.callbacks.TensorBoard(log_dir=FLAGS.tensorboard_dir_keras, \n",
    "                                          histogram_freq=1, \n",
    "                                          write_graph=True)"
   ]
  },
  {
   "cell_type": "markdown",
   "metadata": {},
   "source": [
    "## Store the original weights"
   ]
  },
  {
   "cell_type": "code",
   "execution_count": 78,
   "metadata": {},
   "outputs": [],
   "source": [
    "initial_weights = model_opt_keras.get_weights()"
   ]
  },
  {
   "cell_type": "markdown",
   "metadata": {},
   "source": [
    "## Training and inference using Keras\n",
    "https://www.tensorflow.org/guide/keras\n",
    "- batch_size \n",
    "  determines the number of samples in each mini batch. Its maximum is the number of all samples, which makes gradient descent accurate, the loss will decrease towards the minimum if the learning rate is small enough, but iterations are slower. Its minimum is 1, resulting in stochastic gradient descent: Fast but the direction of the gradient step is based only on one example, the loss may jump around. batch_size allows to adjust between the two extremes: accurate gradient direction and fast iteration. Also, the maximum value for batch_size may be limited if your model + data set does not fit into the available (GPU) memory.\n",
    "- steps_per_epoch \n",
    "  the number of batch iterations before a training epoch is considered finished. If you have a training set of fixed size you can ignore it but it may be useful if you have a huge data set or if you are generating random data augmentations on the fly, i.e. if your training set has a (generated) infinite size. If you have the time to go through your whole training data set I recommend to skip this parameter.\n",
    "- validation_steps \n",
    "  similar to steps_per_epoch but on the validation data set instead on the training data. If you have the time to go through your whole validation data set I recommend to skip this parameter.\n",
    "\n"
   ]
  },
  {
   "cell_type": "markdown",
   "metadata": {},
   "source": [
    "### Fit the model using Keras"
   ]
  },
  {
   "cell_type": "code",
   "execution_count": 79,
   "metadata": {},
   "outputs": [
    {
     "name": "stdout",
     "output_type": "stream",
     "text": [
      "Train on 60000 samples, validate on 10000 samples\n",
      "Reached epoch   0 cost J = 2.35535\n",
      "Epoch 1/2\n",
      " accurary on the training set 0.9626\n",
      " accurary on the testing set 0.9548\n",
      " - 104s - loss: 0.2118 - acc: 0.9360 - val_loss: 0.1453 - val_acc: 0.9548\n",
      "Reached epoch   1 cost J = 0.11518\n",
      "Epoch 2/2\n",
      " accurary on the training set 0.9798\n",
      " accurary on the testing set 0.9725\n",
      " - 103s - loss: 0.1113 - acc: 0.9668 - val_loss: 0.1078 - val_acc: 0.9725\n"
     ]
    }
   ],
   "source": [
    "# Set to the original weights for testing other pipelines\n",
    "model_opt_keras.set_weights(initial_weights)\n",
    "\n",
    "# Fit the model\n",
    "hist=model_opt_keras.fit(x_train, # use batch_size\n",
    "                         y_train, # use batch_size\n",
    "                         validation_data=(x_test, y_test), # use full validation step at the end of each epoch\n",
    "                         callbacks=[UDFPrint((x_test, y_test, x_train, y_train)), tbCallBack],\n",
    "                         epochs=EPOCHS, \n",
    "                         batch_size=BATCH_SIZE,\n",
    "                         verbose=2)"
   ]
  },
  {
   "cell_type": "code",
   "execution_count": 80,
   "metadata": {},
   "outputs": [
    {
     "name": "stdout",
     "output_type": "stream",
     "text": [
      "{'val_loss': [0.14530197284817695, 0.107827948564291], 'val_acc': [0.9548, 0.9725], 'loss': [0.21180632532636326, 0.11132152475019295], 'acc': [0.9359500000317892, 0.9667666666348775]}\n"
     ]
    }
   ],
   "source": [
    "print(hist.history)"
   ]
  },
  {
   "cell_type": "markdown",
   "metadata": {},
   "source": [
    "### Evaluate the model using Keras"
   ]
  },
  {
   "cell_type": "code",
   "execution_count": 81,
   "metadata": {},
   "outputs": [
    {
     "name": "stdout",
     "output_type": "stream",
     "text": [
      "Test loss: 0.10782794496663846\n",
      "Test accuracy: 0.9725\n"
     ]
    }
   ],
   "source": [
    "score = model_opt_keras.evaluate(x_test, \n",
    "                                 y_test, \n",
    "                                 verbose=0)\n",
    "print('Test loss:', score[0])\n",
    "print('Test accuracy:', score[1])"
   ]
  },
  {
   "cell_type": "code",
   "execution_count": 82,
   "metadata": {},
   "outputs": [
    {
     "name": "stdout",
     "output_type": "stream",
     "text": [
      "Train loss: 0.06794429655395409\n",
      "Train accuracy: 0.97975\n"
     ]
    }
   ],
   "source": [
    "score = model_opt_keras.evaluate(x_train, \n",
    "                                 y_train, \n",
    "                                 verbose=0)\n",
    "print('Train loss:', score[0])\n",
    "print('Train accuracy:', score[1])"
   ]
  },
  {
   "cell_type": "markdown",
   "metadata": {},
   "source": [
    "### Save the model using Keras"
   ]
  },
  {
   "cell_type": "code",
   "execution_count": 83,
   "metadata": {},
   "outputs": [],
   "source": [
    "# with keras optimiser we can save the model+weight\n",
    "if not os.path.exists(FLAGS.model_dir_keras):\n",
    "    os.makedirs(FLAGS.model_dir_keras)\n",
    "model_opt_keras.save(FLAGS.model_dir_keras+'keras_model.h5')"
   ]
  },
  {
   "cell_type": "markdown",
   "metadata": {},
   "source": [
    "### Reload the model and make evaluation using Keras"
   ]
  },
  {
   "cell_type": "code",
   "execution_count": 84,
   "metadata": {},
   "outputs": [],
   "source": [
    "reload_model_opt_keras=tf.keras.models.load_model(FLAGS.model_dir_keras+'keras_model.h5')"
   ]
  },
  {
   "cell_type": "code",
   "execution_count": 85,
   "metadata": {},
   "outputs": [
    {
     "name": "stdout",
     "output_type": "stream",
     "text": [
      "Train loss: 0.06794429655395409\n",
      "Train accuracy: 0.97975\n"
     ]
    }
   ],
   "source": [
    "score = reload_model_opt_keras.evaluate(x_train, \n",
    "                                        y_train, \n",
    "                                        verbose=0)\n",
    "print('Train loss:', score[0])\n",
    "print('Train accuracy:', score[1])"
   ]
  },
  {
   "cell_type": "markdown",
   "metadata": {},
   "source": [
    "### Monitoring using TensorBoard"
   ]
  },
  {
   "cell_type": "raw",
   "metadata": {},
   "source": [
    "start in a separte shell with the env activated:\n",
    "cd your the working dir pof the project\n",
    "tensorboard --logdir  \"./results/Models/Mnist/tf_1_12/keras/logs/\""
   ]
  },
  {
   "cell_type": "markdown",
   "metadata": {},
   "source": [
    "## Training and inference using  Keras and tf.data.dataset"
   ]
  },
  {
   "cell_type": "markdown",
   "metadata": {},
   "source": [
    "- **batch_size** determines the number of samples in each mini batch. Its maximum is the number of all samples, which makes gradient descent accurate, the loss will decrease towards the minimum if the learning rate is small enough, but iterations are slower. Its minimum is 1, resulting in stochastic gradient descent: Fast but the direction of the gradient step is based only on one example, the loss may jump around. batch_size allows to adjust between the two extremes: accurate gradient direction and fast iteration. Also, the maximum value for batch_size may be limited if your model + data set does not fit into the available (GPU) memory.\n",
    "- **steps_per_epoch** the number of batch iterations before a training epoch is considered finished. If you have a training set of fixed size you can ignore it but it may be useful if you have a huge data set or if you are generating random data augmentations on the fly, i.e. if your training set has a (generated) infinite size. If you have the time to go through your whole training data set I recommend to skip this parameter.\n",
    "- **validation_steps** similar to steps_per_epoch but on the validation data set instead on the training data. If you have the time to go through your whole validation data set I recommend to skip this parameter.\n",
    "\n"
   ]
  },
  {
   "cell_type": "code",
   "execution_count": 86,
   "metadata": {},
   "outputs": [
    {
     "name": "stdout",
     "output_type": "stream",
     "text": [
      "number of events: 60000\n",
      "number of epoch: 2\n",
      "number of batch size: 128\n",
      "number of batches per epoch: 468\n",
      "number of BATCH_SIZE*len(x_train) // BATCH_SIZE* 59904\n"
     ]
    }
   ],
   "source": [
    "print('number of events:', len(x_train))\n",
    "print('number of epoch:', EPOCHS)\n",
    "print('number of batch size:', BATCH_SIZE)\n",
    "print('number of batches per epoch:', len(x_train) // BATCH_SIZE)\n",
    "print('number of BATCH_SIZE*len(x_train) // BATCH_SIZE*', BATCH_SIZE*(len(x_train) // BATCH_SIZE) )"
   ]
  },
  {
   "cell_type": "code",
   "execution_count": 87,
   "metadata": {},
   "outputs": [
    {
     "name": "stdout",
     "output_type": "stream",
     "text": [
      "number of events: 10000\n",
      "number of epoch: 2\n",
      "number of batch size: 128\n",
      "number of batches per epoch: 78\n",
      "number of BATCH_SIZE*len(x_train) // BATCH_SIZE* 9984\n"
     ]
    }
   ],
   "source": [
    "print('number of events:', len(x_test))\n",
    "print('number of epoch:', EPOCHS)\n",
    "print('number of batch size:', BATCH_SIZE)\n",
    "print('number of batches per epoch:', len(x_test) // BATCH_SIZE)\n",
    "print('number of BATCH_SIZE*len(x_train) // BATCH_SIZE*', BATCH_SIZE*(len(x_test) // BATCH_SIZE) )"
   ]
  },
  {
   "cell_type": "markdown",
   "metadata": {},
   "source": [
    "### Fit the model using Keras and tf.data.dataset"
   ]
  },
  {
   "cell_type": "code",
   "execution_count": 88,
   "metadata": {},
   "outputs": [
    {
     "name": "stdout",
     "output_type": "stream",
     "text": [
      "Reached epoch   0 cost J = 2.35535\n",
      "Epoch 1/2\n",
      " accurary on the training set 0.9629\n",
      " accurary on the testing set 0.9561\n",
      " - 130s - loss: 0.2367 - acc: 0.9337 - val_loss: 0.1508 - val_acc: 0.9561\n",
      "Reached epoch   1 cost J = 0.12567\n",
      "Epoch 2/2\n",
      " accurary on the training set 0.9703\n",
      " accurary on the testing set 0.9623\n",
      " - 111s - loss: 0.1057 - acc: 0.9679 - val_loss: 0.1446 - val_acc: 0.9623\n"
     ]
    }
   ],
   "source": [
    "# Set to the original weights for testing other pipelines\n",
    "model_opt_keras.set_weights(initial_weights)\n",
    "\n",
    "# Fit the model (using data.Dataset)\n",
    "hist=model_opt_keras.fit(training_dataset.make_one_shot_iterator(), # use batch_size\n",
    "                         steps_per_epoch=len(x_train) // BATCH_SIZE,\n",
    "                         validation_data=testing_dataset.make_one_shot_iterator(), # use full validation dataset\n",
    "                         validation_steps=1, \n",
    "                         callbacks=[UDFPrint((x_test, y_test, x_train, y_train)), tbCallBack],\n",
    "                         epochs=EPOCHS,\n",
    "                         verbose = 2)"
   ]
  },
  {
   "cell_type": "code",
   "execution_count": 89,
   "metadata": {},
   "outputs": [
    {
     "name": "stdout",
     "output_type": "stream",
     "text": [
      "{'val_loss': [0.15084655582904816, 0.14456292986869812], 'val_acc': [0.9560999870300293, 0.9623000025749207], 'loss': [0.23667740234388754, 0.10565868438555835], 'acc': [0.9336605235042735, 0.9678652510683761]}\n"
     ]
    }
   ],
   "source": [
    "print(hist.history)"
   ]
  },
  {
   "cell_type": "markdown",
   "metadata": {},
   "source": [
    "### Evaluate the model using Keras and tf.data.dataset"
   ]
  },
  {
   "cell_type": "code",
   "execution_count": 90,
   "metadata": {},
   "outputs": [
    {
     "name": "stdout",
     "output_type": "stream",
     "text": [
      "Test loss: 0.14456331603423458\n",
      "Test accuracy: 0.9623\n"
     ]
    }
   ],
   "source": [
    "score = model_opt_keras.evaluate(x_test, \n",
    "                       y_test, \n",
    "                       verbose=0)\n",
    "print('Test loss:', score[0])\n",
    "print('Test accuracy:', score[1])"
   ]
  },
  {
   "cell_type": "code",
   "execution_count": 91,
   "metadata": {},
   "outputs": [
    {
     "name": "stdout",
     "output_type": "stream",
     "text": [
      "Train loss: 0.09529252001663747\n",
      "Train accuracy: 0.9703\n"
     ]
    }
   ],
   "source": [
    "score = model_opt_keras.evaluate(x_train, \n",
    "                       y_train, \n",
    "                       verbose=0)\n",
    "print('Train loss:', score[0])\n",
    "print('Train accuracy:', score[1])"
   ]
  },
  {
   "cell_type": "markdown",
   "metadata": {},
   "source": [
    "## Training and inference using tf.estimator and tf.data.dataset\n",
    "### Convert Keras model to work with tf.train.optimiser"
   ]
  },
  {
   "cell_type": "code",
   "execution_count": 92,
   "metadata": {},
   "outputs": [],
   "source": [
    "# tf optimiser\n",
    "model_opt_tf = baseline_model()"
   ]
  },
  {
   "cell_type": "code",
   "execution_count": 93,
   "metadata": {},
   "outputs": [
    {
     "name": "stdout",
     "output_type": "stream",
     "text": [
      "_________________________________________________________________\n",
      "Layer (type)                 Output Shape              Param #   \n",
      "=================================================================\n",
      "dense_2 (Dense)              (None, 784)               615440    \n",
      "_________________________________________________________________\n",
      "dense_3 (Dense)              (None, 10)                7850      \n",
      "=================================================================\n",
      "Total params: 623,290\n",
      "Trainable params: 623,290\n",
      "Non-trainable params: 0\n",
      "_________________________________________________________________\n"
     ]
    }
   ],
   "source": [
    "model_opt_tf.summary()"
   ]
  },
  {
   "cell_type": "code",
   "execution_count": 94,
   "metadata": {},
   "outputs": [
    {
     "data": {
      "text/plain": [
       "['dense_2_input']"
      ]
     },
     "execution_count": 94,
     "metadata": {},
     "output_type": "execute_result"
    }
   ],
   "source": [
    "model_opt_tf.input_names # Use this name as the dictionary key in the TF input function"
   ]
  },
  {
   "cell_type": "code",
   "execution_count": 95,
   "metadata": {},
   "outputs": [
    {
     "data": {
      "text/plain": [
       "['dense_3']"
      ]
     },
     "execution_count": 95,
     "metadata": {},
     "output_type": "execute_result"
    }
   ],
   "source": [
    "model_opt_tf.output_names"
   ]
  },
  {
   "cell_type": "markdown",
   "metadata": {},
   "source": [
    "### Create some helper function"
   ]
  },
  {
   "cell_type": "code",
   "execution_count": 96,
   "metadata": {},
   "outputs": [],
   "source": [
    "class TimeHistory(tf.train.SessionRunHook):\n",
    "    def begin(self):\n",
    "        self.times = []\n",
    "\n",
    "    def before_run(self, run_context):\n",
    "        self.iter_time_start = time.time()\n",
    "\n",
    "    def after_run(self, run_context, run_values):\n",
    "        self.times.append(time.time() - self.iter_time_start)"
   ]
  },
  {
   "cell_type": "code",
   "execution_count": 97,
   "metadata": {},
   "outputs": [],
   "source": [
    "time_hist = TimeHistory()"
   ]
  },
  {
   "cell_type": "markdown",
   "metadata": {},
   "source": [
    "### Use tf.distribute.startegy work across multiple devices/machines"
   ]
  },
  {
   "cell_type": "code",
   "execution_count": 98,
   "metadata": {},
   "outputs": [
    {
     "name": "stdout",
     "output_type": "stream",
     "text": [
      "INFO:tensorflow:Initializing RunConfig with distribution strategies.\n",
      "INFO:tensorflow:Not using Distribute Coordinator.\n"
     ]
    }
   ],
   "source": [
    "# the tf.distribute.Strategy API is an easy way to distribute your training across multiple devices/machines\n",
    "\n",
    "#strategy=None\n",
    "## work with Keras with tf.train optimiser not tf.keras\n",
    "strategy = tf.contrib.distribute.OneDeviceStrategy('device:CPU:0')\n",
    "#strategy = tf.contrib.distribute.OneDeviceStrategy('device:GPU:0')\n",
    "#NUM_GPUS = 2\n",
    "#strategy = tf.contrib.distribute.MirroredStrategy(num_gpus=NUM_GPUS)\n",
    "#strategy = tf.contrib.distribute.MirroredStrategy()\n",
    "\n",
    "# config tf.estimator to use a give strategy\n",
    "training_config = tf.estimator.RunConfig(train_distribute=strategy,\n",
    "                                         model_dir=FLAGS.model_dir,\n",
    "                                         save_summary_steps=20,\n",
    "                                         save_checkpoints_steps=20)"
   ]
  },
  {
   "cell_type": "markdown",
   "metadata": {},
   "source": [
    "### Transform a keras model to estimator model\n",
    "delete fist the folder for a clean start"
   ]
  },
  {
   "cell_type": "code",
   "execution_count": 99,
   "metadata": {},
   "outputs": [
    {
     "data": {
      "text/plain": [
       "'../results/Models/Mnist/tf_1_12/estimator/ckpt/'"
      ]
     },
     "execution_count": 99,
     "metadata": {},
     "output_type": "execute_result"
    }
   ],
   "source": [
    "FLAGS.model_dir"
   ]
  },
  {
   "cell_type": "code",
   "execution_count": 100,
   "metadata": {},
   "outputs": [
    {
     "name": "stdout",
     "output_type": "stream",
     "text": [
      "keras\n",
      "model.ckpt-880.meta\n",
      "model.ckpt-860.data-00000-of-00001\n",
      "checkpoint\n",
      "model.ckpt-880.data-00000-of-00001\n",
      "model.ckpt-920.meta\n",
      "model.ckpt-900.meta\n",
      "model.ckpt-937.index\n",
      "model.ckpt-900.data-00000-of-00001\n",
      "model.ckpt-937.meta\n",
      "graph.pbtxt\n",
      "model.ckpt-900.index\n",
      "events.out.tfevents.1549050797.Fabien-Tarrades-MacBook-Pro.local\n",
      "model.ckpt-937.data-00000-of-00001\n",
      "model.ckpt-920.index\n",
      "model.ckpt-920.data-00000-of-00001\n",
      "eval\n",
      "model.ckpt-880.index\n",
      "model.ckpt-860.index\n",
      "model.ckpt-860.meta\n"
     ]
    }
   ],
   "source": [
    "for file in glob.glob(FLAGS.model_dir+'*'):\n",
    "    print(re.findall(r'[^\\\\/]+|[\\\\/]',file)[-1])"
   ]
  },
  {
   "cell_type": "code",
   "execution_count": 101,
   "metadata": {},
   "outputs": [],
   "source": [
    "shutil.rmtree(FLAGS.model_dir, ignore_errors=True)"
   ]
  },
  {
   "cell_type": "code",
   "execution_count": 102,
   "metadata": {},
   "outputs": [
    {
     "name": "stdout",
     "output_type": "stream",
     "text": [
      "INFO:tensorflow:Using the Keras model provided.\n",
      "INFO:tensorflow:Using config: {'_model_dir': '../results/Models/Mnist/tf_1_12/estimator/ckpt/', '_tf_random_seed': None, '_save_summary_steps': 20, '_save_checkpoints_steps': 20, '_save_checkpoints_secs': None, '_session_config': allow_soft_placement: true\n",
      "graph_options {\n",
      "  rewrite_options {\n",
      "    meta_optimizer_iterations: ONE\n",
      "  }\n",
      "}\n",
      ", '_keep_checkpoint_max': 5, '_keep_checkpoint_every_n_hours': 10000, '_log_step_count_steps': 100, '_train_distribute': <tensorflow.contrib.distribute.python.one_device_strategy.OneDeviceStrategy object at 0xb47d2bef0>, '_device_fn': None, '_protocol': None, '_eval_distribute': None, '_experimental_distribute': None, '_service': None, '_cluster_spec': <tensorflow.python.training.server_lib.ClusterSpec object at 0xb47d2bf60>, '_task_type': 'worker', '_task_id': 0, '_global_id_in_cluster': 0, '_master': '', '_evaluation_master': '', '_is_chief': True, '_num_ps_replicas': 0, '_num_worker_replicas': 1, '_distribute_coordinator_mode': None}\n"
     ]
    }
   ],
   "source": [
    "# Set to the original weights for testing other pipelines\n",
    "model_opt_tf.set_weights(initial_weights)\n",
    "\n",
    "# transfor keras model to estimator model\n",
    "estimator_train_model = tf.keras.estimator.model_to_estimator(keras_model=model_opt_tf,\n",
    "                                                              config=training_config)"
   ]
  },
  {
   "cell_type": "markdown",
   "metadata": {},
   "source": [
    "### Fit the model using Keras, tf.estimator and tf.data.dataset"
   ]
  },
  {
   "cell_type": "raw",
   "metadata": {},
   "source": [
    "train(\n",
    "    input_fn,\n",
    "    hooks=None,\n",
    "    steps=None,\n",
    "    max_steps=None,\n",
    "    saving_listeners=None\n",
    ")"
   ]
  },
  {
   "cell_type": "raw",
   "metadata": {},
   "source": [
    "# option 1:\n",
    "lambda:input_dataset_fn(x_train,\n",
    "                            y_train, \n",
    "                            mode=tf.estimator.ModeKeys.TRAIN, \n",
    "                            batch_size=FLAGS.batch_size)\n",
    "# option 2\n",
    "def get_train_input_fn():\n",
    "    return input_dataset_fn(x_train,\n",
    "                            y_train, \n",
    "                            mode=tf.estimator.ModeKeys.TRAIN, \n",
    "                            batch_size=FLAGS.batch_size)"
   ]
  },
  {
   "cell_type": "code",
   "execution_count": 103,
   "metadata": {
    "scrolled": true
   },
   "outputs": [
    {
     "name": "stdout",
     "output_type": "stream",
     "text": [
      "INFO:tensorflow:input_dataset_fn: TRAIN, train\n",
      "the number of epoch: num_epoch = 2\n",
      "INFO:tensorflow:Calling model_fn.\n",
      "INFO:tensorflow:Done calling model_fn.\n",
      "INFO:tensorflow:Warm-starting with WarmStartSettings: WarmStartSettings(ckpt_to_initialize_from='../results/Models/Mnist/tf_1_12/estimator/ckpt/keras/keras_model.ckpt', vars_to_warm_start='.*', var_name_to_vocab_info={}, var_name_to_prev_var_name={})\n",
      "INFO:tensorflow:Warm-starting from: ('../results/Models/Mnist/tf_1_12/estimator/ckpt/keras/keras_model.ckpt',)\n",
      "INFO:tensorflow:Warm-starting variable: dense_2/kernel; prev_var_name: Unchanged\n",
      "INFO:tensorflow:Warm-starting variable: dense_2/bias; prev_var_name: Unchanged\n",
      "INFO:tensorflow:Warm-starting variable: dense_3/kernel; prev_var_name: Unchanged\n",
      "INFO:tensorflow:Warm-starting variable: dense_3/bias; prev_var_name: Unchanged\n",
      "INFO:tensorflow:Create CheckpointSaverHook.\n",
      "INFO:tensorflow:Graph was finalized.\n",
      "INFO:tensorflow:Running local_init_op.\n",
      "INFO:tensorflow:Done running local_init_op.\n",
      "INFO:tensorflow:Saving checkpoints for 0 into ../results/Models/Mnist/tf_1_12/estimator/ckpt/model.ckpt.\n",
      "INFO:tensorflow:loss = 2.3301468, step = 0\n",
      "INFO:tensorflow:Saving checkpoints for 20 into ../results/Models/Mnist/tf_1_12/estimator/ckpt/model.ckpt.\n",
      "INFO:tensorflow:Saving checkpoints for 40 into ../results/Models/Mnist/tf_1_12/estimator/ckpt/model.ckpt.\n",
      "INFO:tensorflow:Saving checkpoints for 60 into ../results/Models/Mnist/tf_1_12/estimator/ckpt/model.ckpt.\n",
      "INFO:tensorflow:Saving checkpoints for 80 into ../results/Models/Mnist/tf_1_12/estimator/ckpt/model.ckpt.\n",
      "INFO:tensorflow:Saving checkpoints for 100 into ../results/Models/Mnist/tf_1_12/estimator/ckpt/model.ckpt.\n",
      "INFO:tensorflow:global_step/sec: 5.46311\n",
      "INFO:tensorflow:loss = 0.30597115, step = 100 (18.306 sec)\n",
      "INFO:tensorflow:Saving checkpoints for 120 into ../results/Models/Mnist/tf_1_12/estimator/ckpt/model.ckpt.\n",
      "INFO:tensorflow:Saving checkpoints for 140 into ../results/Models/Mnist/tf_1_12/estimator/ckpt/model.ckpt.\n",
      "INFO:tensorflow:Saving checkpoints for 160 into ../results/Models/Mnist/tf_1_12/estimator/ckpt/model.ckpt.\n",
      "INFO:tensorflow:Saving checkpoints for 180 into ../results/Models/Mnist/tf_1_12/estimator/ckpt/model.ckpt.\n",
      "INFO:tensorflow:Saving checkpoints for 200 into ../results/Models/Mnist/tf_1_12/estimator/ckpt/model.ckpt.\n",
      "INFO:tensorflow:global_step/sec: 4.79778\n",
      "INFO:tensorflow:loss = 0.20820636, step = 200 (20.842 sec)\n",
      "INFO:tensorflow:Saving checkpoints for 220 into ../results/Models/Mnist/tf_1_12/estimator/ckpt/model.ckpt.\n",
      "INFO:tensorflow:Saving checkpoints for 240 into ../results/Models/Mnist/tf_1_12/estimator/ckpt/model.ckpt.\n",
      "INFO:tensorflow:Saving checkpoints for 260 into ../results/Models/Mnist/tf_1_12/estimator/ckpt/model.ckpt.\n",
      "INFO:tensorflow:Saving checkpoints for 280 into ../results/Models/Mnist/tf_1_12/estimator/ckpt/model.ckpt.\n",
      "INFO:tensorflow:Saving checkpoints for 300 into ../results/Models/Mnist/tf_1_12/estimator/ckpt/model.ckpt.\n",
      "INFO:tensorflow:global_step/sec: 4.08826\n",
      "INFO:tensorflow:loss = 0.14536124, step = 300 (24.462 sec)\n",
      "INFO:tensorflow:Saving checkpoints for 320 into ../results/Models/Mnist/tf_1_12/estimator/ckpt/model.ckpt.\n",
      "INFO:tensorflow:Saving checkpoints for 340 into ../results/Models/Mnist/tf_1_12/estimator/ckpt/model.ckpt.\n",
      "INFO:tensorflow:Saving checkpoints for 360 into ../results/Models/Mnist/tf_1_12/estimator/ckpt/model.ckpt.\n",
      "INFO:tensorflow:Saving checkpoints for 380 into ../results/Models/Mnist/tf_1_12/estimator/ckpt/model.ckpt.\n",
      "INFO:tensorflow:Saving checkpoints for 400 into ../results/Models/Mnist/tf_1_12/estimator/ckpt/model.ckpt.\n",
      "INFO:tensorflow:global_step/sec: 3.95786\n",
      "INFO:tensorflow:loss = 0.118823946, step = 400 (25.265 sec)\n",
      "INFO:tensorflow:Saving checkpoints for 420 into ../results/Models/Mnist/tf_1_12/estimator/ckpt/model.ckpt.\n",
      "INFO:tensorflow:Saving checkpoints for 440 into ../results/Models/Mnist/tf_1_12/estimator/ckpt/model.ckpt.\n",
      "INFO:tensorflow:Saving checkpoints for 460 into ../results/Models/Mnist/tf_1_12/estimator/ckpt/model.ckpt.\n",
      "INFO:tensorflow:Saving checkpoints for 480 into ../results/Models/Mnist/tf_1_12/estimator/ckpt/model.ckpt.\n",
      "INFO:tensorflow:Saving checkpoints for 500 into ../results/Models/Mnist/tf_1_12/estimator/ckpt/model.ckpt.\n",
      "INFO:tensorflow:global_step/sec: 4.21719\n",
      "INFO:tensorflow:loss = 0.060583837, step = 500 (23.711 sec)\n",
      "INFO:tensorflow:Saving checkpoints for 520 into ../results/Models/Mnist/tf_1_12/estimator/ckpt/model.ckpt.\n",
      "INFO:tensorflow:Saving checkpoints for 540 into ../results/Models/Mnist/tf_1_12/estimator/ckpt/model.ckpt.\n",
      "INFO:tensorflow:Saving checkpoints for 560 into ../results/Models/Mnist/tf_1_12/estimator/ckpt/model.ckpt.\n",
      "INFO:tensorflow:Saving checkpoints for 580 into ../results/Models/Mnist/tf_1_12/estimator/ckpt/model.ckpt.\n",
      "INFO:tensorflow:Saving checkpoints for 600 into ../results/Models/Mnist/tf_1_12/estimator/ckpt/model.ckpt.\n",
      "INFO:tensorflow:global_step/sec: 6.16367\n",
      "INFO:tensorflow:loss = 0.07921085, step = 600 (16.224 sec)\n",
      "INFO:tensorflow:Saving checkpoints for 620 into ../results/Models/Mnist/tf_1_12/estimator/ckpt/model.ckpt.\n",
      "INFO:tensorflow:Saving checkpoints for 640 into ../results/Models/Mnist/tf_1_12/estimator/ckpt/model.ckpt.\n",
      "INFO:tensorflow:Saving checkpoints for 660 into ../results/Models/Mnist/tf_1_12/estimator/ckpt/model.ckpt.\n",
      "INFO:tensorflow:Saving checkpoints for 680 into ../results/Models/Mnist/tf_1_12/estimator/ckpt/model.ckpt.\n",
      "INFO:tensorflow:Saving checkpoints for 700 into ../results/Models/Mnist/tf_1_12/estimator/ckpt/model.ckpt.\n",
      "INFO:tensorflow:global_step/sec: 6.13631\n",
      "INFO:tensorflow:loss = 0.06226484, step = 700 (16.296 sec)\n",
      "INFO:tensorflow:Saving checkpoints for 720 into ../results/Models/Mnist/tf_1_12/estimator/ckpt/model.ckpt.\n",
      "INFO:tensorflow:Saving checkpoints for 740 into ../results/Models/Mnist/tf_1_12/estimator/ckpt/model.ckpt.\n",
      "INFO:tensorflow:Saving checkpoints for 760 into ../results/Models/Mnist/tf_1_12/estimator/ckpt/model.ckpt.\n",
      "INFO:tensorflow:Saving checkpoints for 780 into ../results/Models/Mnist/tf_1_12/estimator/ckpt/model.ckpt.\n",
      "INFO:tensorflow:Saving checkpoints for 800 into ../results/Models/Mnist/tf_1_12/estimator/ckpt/model.ckpt.\n",
      "INFO:tensorflow:global_step/sec: 5.20393\n",
      "INFO:tensorflow:loss = 0.024773862, step = 800 (19.216 sec)\n",
      "INFO:tensorflow:Saving checkpoints for 820 into ../results/Models/Mnist/tf_1_12/estimator/ckpt/model.ckpt.\n",
      "INFO:tensorflow:Saving checkpoints for 840 into ../results/Models/Mnist/tf_1_12/estimator/ckpt/model.ckpt.\n",
      "INFO:tensorflow:Saving checkpoints for 860 into ../results/Models/Mnist/tf_1_12/estimator/ckpt/model.ckpt.\n",
      "INFO:tensorflow:Saving checkpoints for 880 into ../results/Models/Mnist/tf_1_12/estimator/ckpt/model.ckpt.\n",
      "INFO:tensorflow:Saving checkpoints for 900 into ../results/Models/Mnist/tf_1_12/estimator/ckpt/model.ckpt.\n",
      "INFO:tensorflow:global_step/sec: 5.09446\n",
      "INFO:tensorflow:loss = 0.13263443, step = 900 (19.629 sec)\n",
      "INFO:tensorflow:Saving checkpoints for 920 into ../results/Models/Mnist/tf_1_12/estimator/ckpt/model.ckpt.\n",
      "INFO:tensorflow:Saving checkpoints for 937 into ../results/Models/Mnist/tf_1_12/estimator/ckpt/model.ckpt.\n",
      "INFO:tensorflow:Finalize system.\n",
      "INFO:tensorflow:Loss for final step: 0.11366376.\n"
     ]
    },
    {
     "data": {
      "text/plain": [
       "<tensorflow.python.estimator.estimator.Estimator at 0xb6beecf98>"
      ]
     },
     "execution_count": 103,
     "metadata": {},
     "output_type": "execute_result"
    }
   ],
   "source": [
    "# Fit the model (using estimator.train and data.Dataset)\n",
    "estimator_train_model.train(input_fn=lambda:input_dataset_fn(x_train, y_train,mode=tf.estimator.ModeKeys.TRAIN, batch_size=FLAGS.batch_size),\n",
    "                            steps=1000,\n",
    "                            hooks=[time_hist])"
   ]
  },
  {
   "cell_type": "code",
   "execution_count": 104,
   "metadata": {},
   "outputs": [
    {
     "name": "stdout",
     "output_type": "stream",
     "text": [
      "checkpoint\n",
      "keras_model.ckpt.meta\n",
      "keras_model.ckpt.index\n",
      "keras_model.ckpt.data-00000-of-00001\n"
     ]
    }
   ],
   "source": [
    "for file in glob.glob(FLAGS.model_dir+'keras/*'):\n",
    "    print(re.findall(r'[^\\\\/]+|[\\\\/]',file)[-1])"
   ]
  },
  {
   "cell_type": "code",
   "execution_count": 105,
   "metadata": {},
   "outputs": [
    {
     "name": "stdout",
     "output_type": "stream",
     "text": [
      "keras\n",
      "model.ckpt-880.meta\n",
      "model.ckpt-860.data-00000-of-00001\n",
      "checkpoint\n",
      "model.ckpt-880.data-00000-of-00001\n",
      "model.ckpt-920.meta\n",
      "model.ckpt-900.meta\n",
      "model.ckpt-937.index\n",
      "model.ckpt-900.data-00000-of-00001\n",
      "model.ckpt-937.meta\n",
      "graph.pbtxt\n",
      "model.ckpt-900.index\n",
      "events.out.tfevents.1549054529.Fabien-Tarrades-MacBook-Pro.local\n",
      "model.ckpt-937.data-00000-of-00001\n",
      "model.ckpt-920.index\n",
      "model.ckpt-920.data-00000-of-00001\n",
      "model.ckpt-880.index\n",
      "model.ckpt-860.index\n",
      "model.ckpt-860.meta\n"
     ]
    }
   ],
   "source": [
    "for file in glob.glob(FLAGS.model_dir+'*'):\n",
    "    print(re.findall(r'[^\\\\/]+|[\\\\/]',file)[-1])"
   ]
  },
  {
   "cell_type": "code",
   "execution_count": 106,
   "metadata": {},
   "outputs": [
    {
     "name": "stdout",
     "output_type": "stream",
     "text": [
      "total time with the current strategy: 188.78705406188965 seconds\n"
     ]
    }
   ],
   "source": [
    "total_time = sum(time_hist.times)\n",
    "print(f\"total time with the current strategy: {total_time} seconds\")"
   ]
  },
  {
   "cell_type": "code",
   "execution_count": 107,
   "metadata": {},
   "outputs": [
    {
     "name": "stdout",
     "output_type": "stream",
     "text": [
      "635.2977993961474 images/second\n"
     ]
    }
   ],
   "source": [
    "avg_time_per_batch = np.mean(time_hist.times)\n",
    "print(f\"{BATCH_SIZE/avg_time_per_batch} images/second\")"
   ]
  },
  {
   "cell_type": "raw",
   "metadata": {},
   "source": [
    "start in a separte shell with the env activated:\n",
    "tensorboard --logdir\"./results/Models/Mnist/tf_1_12/estimator/ckpt/\""
   ]
  },
  {
   "cell_type": "markdown",
   "metadata": {},
   "source": [
    "### Evaluate the model using Keras, tf.estimator and tf.data.dataset"
   ]
  },
  {
   "cell_type": "raw",
   "metadata": {},
   "source": [
    "evaluate(\n",
    "    input_fn,\n",
    "    steps=None,\n",
    "    hooks=None,\n",
    "    checkpoint_path=None,\n",
    "    name=None\n",
    ")"
   ]
  },
  {
   "cell_type": "code",
   "execution_count": 108,
   "metadata": {},
   "outputs": [
    {
     "name": "stdout",
     "output_type": "stream",
     "text": [
      "INFO:tensorflow:input_dataset_fn: TRAIN, train\n",
      "the number of epoch: num_epoch = 2\n",
      "INFO:tensorflow:Calling model_fn.\n",
      "INFO:tensorflow:Done calling model_fn.\n",
      "INFO:tensorflow:Starting evaluation at 2019-02-01-21:00:28\n",
      "INFO:tensorflow:Graph was finalized.\n",
      "INFO:tensorflow:Restoring parameters from ../results/Models/Mnist/tf_1_12/estimator/ckpt/model.ckpt-937\n",
      "INFO:tensorflow:Running local_init_op.\n",
      "INFO:tensorflow:Done running local_init_op.\n",
      "INFO:tensorflow:Evaluation [1/1]\n",
      "INFO:tensorflow:Finished evaluation at 2019-02-01-21:00:43\n",
      "INFO:tensorflow:Saving dict for global step 937: accuracy = 0.97863334, global_step = 937, loss = 0.07083233\n",
      "INFO:tensorflow:Saving 'checkpoint_path' summary for global step 937: ../results/Models/Mnist/tf_1_12/estimator/ckpt/model.ckpt-937\n"
     ]
    }
   ],
   "source": [
    "score=estimator_train_model.evaluate(input_fn=lambda:input_dataset_fn(x_train,y_train, mode=tf.estimator.ModeKeys.TRAIN, batch_size=len(y_train)),\n",
    "                                     steps=1)"
   ]
  },
  {
   "cell_type": "code",
   "execution_count": 109,
   "metadata": {},
   "outputs": [
    {
     "data": {
      "text/plain": [
       "{'accuracy': 0.97863334, 'loss': 0.07083233, 'global_step': 937}"
      ]
     },
     "execution_count": 109,
     "metadata": {},
     "output_type": "execute_result"
    }
   ],
   "source": [
    "score"
   ]
  },
  {
   "cell_type": "code",
   "execution_count": 110,
   "metadata": {},
   "outputs": [
    {
     "name": "stdout",
     "output_type": "stream",
     "text": [
      "Train loss: 0.07083233\n",
      "Train accuracy: 0.97863334\n",
      "Train global steps: 937\n"
     ]
    }
   ],
   "source": [
    "print('Train loss:', score['loss'])\n",
    "print('Train accuracy:', score['accuracy'])\n",
    "print('Train global steps:', score['global_step'])"
   ]
  },
  {
   "cell_type": "code",
   "execution_count": 111,
   "metadata": {},
   "outputs": [
    {
     "name": "stdout",
     "output_type": "stream",
     "text": [
      "INFO:tensorflow:input_dataset_fn: EVAL, eval\n",
      "the number of epoch: num_epoch = 2\n",
      "INFO:tensorflow:Calling model_fn.\n",
      "INFO:tensorflow:Done calling model_fn.\n",
      "INFO:tensorflow:Starting evaluation at 2019-02-01-21:00:48\n",
      "INFO:tensorflow:Graph was finalized.\n",
      "INFO:tensorflow:Restoring parameters from ../results/Models/Mnist/tf_1_12/estimator/ckpt/model.ckpt-937\n",
      "INFO:tensorflow:Running local_init_op.\n",
      "INFO:tensorflow:Done running local_init_op.\n",
      "INFO:tensorflow:Finished evaluation at 2019-02-01-21:00:50\n",
      "INFO:tensorflow:Saving dict for global step 937: accuracy = 0.9704, global_step = 937, loss = 0.098214075\n",
      "INFO:tensorflow:Saving 'checkpoint_path' summary for global step 937: ../results/Models/Mnist/tf_1_12/estimator/ckpt/model.ckpt-937\n"
     ]
    }
   ],
   "source": [
    "score=estimator_train_model.evaluate(input_fn=lambda:input_dataset_fn(x_test, y_test,mode=tf.estimator.ModeKeys.EVAL, batch_size=len(x_test)))"
   ]
  },
  {
   "cell_type": "code",
   "execution_count": 112,
   "metadata": {},
   "outputs": [
    {
     "name": "stdout",
     "output_type": "stream",
     "text": [
      "Test loss: 0.098214075\n",
      "Test accuracy: 0.9704\n",
      "Test global steps: 937\n"
     ]
    }
   ],
   "source": [
    "print('Test loss:', score['loss'])\n",
    "print('Test accuracy:', score['accuracy'])\n",
    "print('Test global steps:', score['global_step'])"
   ]
  },
  {
   "cell_type": "markdown",
   "metadata": {},
   "source": [
    "### Prediction using the Keras model, tf.estimator and tf.data.dataset"
   ]
  },
  {
   "cell_type": "raw",
   "metadata": {},
   "source": [
    "predict(\n",
    "    input_fn,\n",
    "    predict_keys=None,\n",
    "    hooks=None,\n",
    "    checkpoint_path=None,\n",
    "    yield_single_examples=True\n",
    ")"
   ]
  },
  {
   "cell_type": "code",
   "execution_count": 113,
   "metadata": {},
   "outputs": [
    {
     "name": "stdout",
     "output_type": "stream",
     "text": [
      "INFO:tensorflow:input_dataset_fn: EVAL, eval\n",
      "the number of epoch: num_epoch = 2\n",
      "INFO:tensorflow:Calling model_fn.\n",
      "INFO:tensorflow:Done calling model_fn.\n",
      "INFO:tensorflow:Graph was finalized.\n",
      "INFO:tensorflow:Restoring parameters from ../results/Models/Mnist/tf_1_12/estimator/ckpt/model.ckpt-937\n",
      "INFO:tensorflow:Running local_init_op.\n",
      "INFO:tensorflow:Done running local_init_op.\n"
     ]
    }
   ],
   "source": [
    "predictions=list(estimator_train_model.predict(input_fn=lambda:input_dataset_fn(x_test, y_test,mode=tf.estimator.ModeKeys.EVAL, batch_size=len(x_test))))"
   ]
  },
  {
   "cell_type": "code",
   "execution_count": 114,
   "metadata": {},
   "outputs": [
    {
     "data": {
      "text/plain": [
       "20000"
      ]
     },
     "execution_count": 114,
     "metadata": {},
     "output_type": "execute_result"
    }
   ],
   "source": [
    "len(predictions)"
   ]
  },
  {
   "cell_type": "code",
   "execution_count": 115,
   "metadata": {},
   "outputs": [
    {
     "data": {
      "text/plain": [
       "dict_keys(['dense_3'])"
      ]
     },
     "execution_count": 115,
     "metadata": {},
     "output_type": "execute_result"
    }
   ],
   "source": [
    "predictions[0].keys()"
   ]
  },
  {
   "cell_type": "code",
   "execution_count": 116,
   "metadata": {},
   "outputs": [],
   "source": [
    "output_layer=model_opt_tf.output_names[0]"
   ]
  },
  {
   "cell_type": "code",
   "execution_count": 117,
   "metadata": {
    "scrolled": false
   },
   "outputs": [
    {
     "name": "stdout",
     "output_type": "stream",
     "text": [
      "Actual label: 7\n",
      "Predicted label:  7\n",
      "Actual label: 2\n",
      "Predicted label:  2\n",
      "Actual label: 1\n",
      "Predicted label:  1\n",
      "Actual label: 0\n",
      "Predicted label:  0\n",
      "Actual label: 4\n",
      "Predicted label:  4\n",
      "Actual label: 1\n",
      "Predicted label:  1\n",
      "Actual label: 4\n",
      "Predicted label:  4\n",
      "Actual label: 9\n",
      "Predicted label:  9\n",
      "Actual label: 5\n",
      "Predicted label:  5\n",
      "Actual label: 9\n",
      "Predicted label:  9\n"
     ]
    }
   ],
   "source": [
    "for i in range(10):\n",
    "    prediction_array = predictions[i][output_layer]\n",
    "    predicted_label = np.argmax(prediction_array)\n",
    "    print('Actual label:', np.argmax(y_test[i]))\n",
    "    print(\"Predicted label: \", predicted_label)"
   ]
  },
  {
   "cell_type": "markdown",
   "metadata": {},
   "source": [
    "### Keras's model checks"
   ]
  },
  {
   "cell_type": "code",
   "execution_count": 118,
   "metadata": {},
   "outputs": [
    {
     "name": "stdout",
     "output_type": "stream",
     "text": [
      "_________________________________________________________________\n",
      "Layer (type)                 Output Shape              Param #   \n",
      "=================================================================\n",
      "dense_2 (Dense)              (None, 784)               615440    \n",
      "_________________________________________________________________\n",
      "dense_3 (Dense)              (None, 10)                7850      \n",
      "=================================================================\n",
      "Total params: 623,290\n",
      "Trainable params: 623,290\n",
      "Non-trainable params: 0\n",
      "_________________________________________________________________\n"
     ]
    }
   ],
   "source": [
    "model_opt_tf.summary()"
   ]
  },
  {
   "cell_type": "code",
   "execution_count": 119,
   "metadata": {},
   "outputs": [
    {
     "data": {
      "text/plain": [
       "['dense_2_input']"
      ]
     },
     "execution_count": 119,
     "metadata": {},
     "output_type": "execute_result"
    }
   ],
   "source": [
    "model_opt_tf.input_names"
   ]
  },
  {
   "cell_type": "code",
   "execution_count": 120,
   "metadata": {},
   "outputs": [
    {
     "data": {
      "text/plain": [
       "['dense_3']"
      ]
     },
     "execution_count": 120,
     "metadata": {},
     "output_type": "execute_result"
    }
   ],
   "source": [
    "model_opt_tf.output_names"
   ]
  },
  {
   "cell_type": "markdown",
   "metadata": {},
   "source": [
    "### Estimator's model checks"
   ]
  },
  {
   "cell_type": "code",
   "execution_count": 121,
   "metadata": {},
   "outputs": [
    {
     "data": {
      "text/plain": [
       "['dense_2/bias',\n",
       " 'dense_2/bias/Adam',\n",
       " 'dense_2/bias/Adam_1',\n",
       " 'dense_2/kernel',\n",
       " 'dense_2/kernel/Adam',\n",
       " 'dense_2/kernel/Adam_1',\n",
       " 'dense_3/bias',\n",
       " 'dense_3/bias/Adam',\n",
       " 'dense_3/bias/Adam_1',\n",
       " 'dense_3/kernel',\n",
       " 'dense_3/kernel/Adam',\n",
       " 'dense_3/kernel/Adam_1',\n",
       " 'global_step',\n",
       " 'training/TFOptimizer/beta1_power',\n",
       " 'training/TFOptimizer/beta2_power']"
      ]
     },
     "execution_count": 121,
     "metadata": {},
     "output_type": "execute_result"
    }
   ],
   "source": [
    "estimator_train_model.get_variable_names()"
   ]
  },
  {
   "cell_type": "code",
   "execution_count": 122,
   "metadata": {},
   "outputs": [
    {
     "data": {
      "text/plain": [
       "(784,)"
      ]
     },
     "execution_count": 122,
     "metadata": {},
     "output_type": "execute_result"
    }
   ],
   "source": [
    "estimator_train_model.get_variable_value(estimator_train_model.get_variable_names()[0]).shape"
   ]
  },
  {
   "cell_type": "code",
   "execution_count": 123,
   "metadata": {},
   "outputs": [
    {
     "data": {
      "text/plain": [
       "(784,)"
      ]
     },
     "execution_count": 123,
     "metadata": {},
     "output_type": "execute_result"
    }
   ],
   "source": [
    "estimator_train_model.get_variable_value(estimator_train_model.get_variable_names()[1]).shape"
   ]
  },
  {
   "cell_type": "code",
   "execution_count": 124,
   "metadata": {},
   "outputs": [
    {
     "data": {
      "text/plain": [
       "'../results/Models/Mnist/tf_1_12/estimator/ckpt/model.ckpt-937'"
      ]
     },
     "execution_count": 124,
     "metadata": {},
     "output_type": "execute_result"
    }
   ],
   "source": [
    "estimator_train_model.latest_checkpoint()"
   ]
  },
  {
   "cell_type": "markdown",
   "metadata": {},
   "source": [
    "## Model serving using Keras, tf.estimator and tf.data.dataset"
   ]
  },
  {
   "cell_type": "code",
   "execution_count": 125,
   "metadata": {},
   "outputs": [
    {
     "data": {
      "text/plain": [
       "'../results/Models/Mnist/tf_1_12/estimator/pt/'"
      ]
     },
     "execution_count": 125,
     "metadata": {},
     "output_type": "execute_result"
    }
   ],
   "source": [
    "FLAGS.saved_dir"
   ]
  },
  {
   "cell_type": "code",
   "execution_count": 126,
   "metadata": {},
   "outputs": [],
   "source": [
    "shutil.rmtree(FLAGS.saved_dir, ignore_errors=True)"
   ]
  },
  {
   "cell_type": "code",
   "execution_count": 127,
   "metadata": {},
   "outputs": [
    {
     "data": {
      "text/plain": [
       "['dense_2_input']"
      ]
     },
     "execution_count": 127,
     "metadata": {},
     "output_type": "execute_result"
    }
   ],
   "source": [
    "model_opt_tf.input_names"
   ]
  },
  {
   "cell_type": "code",
   "execution_count": 128,
   "metadata": {},
   "outputs": [],
   "source": [
    "def serving_input_receiver_fn():\n",
    "    \"\"\"Serving input_fn that builds features from placeholders#\n",
    "\n",
    "    Returns\n",
    "    -------\n",
    "    tf.estimator.export.ServingInputReceiver\n",
    "    \"\"\"\n",
    "    input_images = tf.placeholder(tf.float32, [None, 784])\n",
    "    features = {'dense_2_input' : input_images} # this is the dict that is then passed as \"features\" parameter to your model_fn\n",
    "    receiver_tensors = {'dense_2_input': input_images} # As far as I understand this is needed to map the input to a name you can retrieve later\n",
    "   \n",
    "    return tf.estimator.export.ServingInputReceiver(features, receiver_tensors)"
   ]
  },
  {
   "cell_type": "code",
   "execution_count": 129,
   "metadata": {},
   "outputs": [],
   "source": [
    "if not os.path.exists(FLAGS.saved_dir):\n",
    "    os.makedirs(FLAGS.saved_dir)"
   ]
  },
  {
   "cell_type": "code",
   "execution_count": 130,
   "metadata": {},
   "outputs": [
    {
     "name": "stdout",
     "output_type": "stream",
     "text": [
      "INFO:tensorflow:Calling model_fn.\n",
      "INFO:tensorflow:Done calling model_fn.\n",
      "INFO:tensorflow:Signatures INCLUDED in export for Classify: None\n",
      "INFO:tensorflow:Signatures INCLUDED in export for Regress: None\n",
      "INFO:tensorflow:Signatures INCLUDED in export for Predict: ['serving_default']\n",
      "INFO:tensorflow:Signatures INCLUDED in export for Train: None\n",
      "INFO:tensorflow:Signatures INCLUDED in export for Eval: None\n",
      "INFO:tensorflow:Restoring parameters from ../results/Models/Mnist/tf_1_12/estimator/ckpt/model.ckpt-937\n",
      "WARNING:tensorflow:From /Users/tarrade/anaconda3/envs/env_gcp_dl/lib/python3.6/site-packages/tensorflow/python/estimator/estimator.py:1044: calling SavedModelBuilder.add_meta_graph_and_variables (from tensorflow.python.saved_model.builder_impl) with legacy_init_op is deprecated and will be removed in a future version.\n",
      "Instructions for updating:\n",
      "Pass your op to the equivalent parameter main_op instead.\n",
      "INFO:tensorflow:Assets added to graph.\n",
      "INFO:tensorflow:No assets to write.\n",
      "INFO:tensorflow:SavedModel written to: /Users/tarrade/Desktop/Work/Data_Science/Tutorials_Codes/Python/proj_DL_models_and_pipelines_with_GCP/results/Models/Mnist/tf_1_12/estimator/pt/temp-b'1549054852'/saved_model.pb\n"
     ]
    },
    {
     "data": {
      "text/plain": [
       "b'/Users/tarrade/Desktop/Work/Data_Science/Tutorials_Codes/Python/proj_DL_models_and_pipelines_with_GCP/results/Models/Mnist/tf_1_12/estimator/pt/1549054852'"
      ]
     },
     "execution_count": 130,
     "metadata": {},
     "output_type": "execute_result"
    }
   ],
   "source": [
    "# Option 2: Only export predict mode\n",
    "estimator_train_model.export_saved_model(os.path.abspath(FLAGS.saved_dir), \n",
    "                                         serving_input_receiver_fn=serving_input_receiver_fn)"
   ]
  },
  {
   "cell_type": "code",
   "execution_count": 563,
   "metadata": {},
   "outputs": [
    {
     "name": "stdout",
     "output_type": "stream",
     "text": [
      "1549054852\n"
     ]
    }
   ],
   "source": [
    "for file in glob.glob(FLAGS.saved_dir+'*'):\n",
    "    print(re.findall(r'[^\\\\/]+|[\\\\/]',file)[-1])"
   ]
  },
  {
   "cell_type": "markdown",
   "metadata": {},
   "source": [
    "**Update the model id in the path below with the correct one from above i.e'1549040172'**"
   ]
  },
  {
   "cell_type": "code",
   "execution_count": 564,
   "metadata": {},
   "outputs": [],
   "source": [
    "model_tag='1549054852'\n",
    "os.environ['MODEL_FOR_SERVING']=FLAGS.saved_dir+model_tag+'/'"
   ]
  },
  {
   "cell_type": "code",
   "execution_count": 565,
   "metadata": {},
   "outputs": [
    {
     "name": "stdout",
     "output_type": "stream",
     "text": [
      "variables\n",
      "saved_model.pb\n"
     ]
    }
   ],
   "source": [
    "# replace the folder name below with the one from above i.e '1549040172'\n",
    "for file in glob.glob(FLAGS.saved_dir+model_tag+'/*'):\n",
    "    print(re.findall(r'[^\\\\/]+|[\\\\/]',file)[-1])"
   ]
  },
  {
   "cell_type": "markdown",
   "metadata": {},
   "source": [
    "## Check the saved model before serving "
   ]
  },
  {
   "cell_type": "code",
   "execution_count": 566,
   "metadata": {},
   "outputs": [
    {
     "data": {
      "text/plain": [
       "('serving_default',)"
      ]
     },
     "execution_count": 566,
     "metadata": {},
     "output_type": "execute_result"
    }
   ],
   "source": [
    "tf.saved_model.signature_constants.DEFAULT_SERVING_SIGNATURE_DEF_KEY,"
   ]
  },
  {
   "cell_type": "code",
   "execution_count": 568,
   "metadata": {},
   "outputs": [
    {
     "name": "stdout",
     "output_type": "stream",
     "text": [
      "The given SavedModel SignatureDef contains the following input(s):\r\n",
      "  inputs['dense_2_input'] tensor_info:\r\n",
      "      dtype: DT_FLOAT\r\n",
      "      shape: (-1, 784)\r\n",
      "      name: Placeholder:0\r\n",
      "The given SavedModel SignatureDef contains the following output(s):\r\n",
      "  outputs['dense_3'] tensor_info:\r\n",
      "      dtype: DT_FLOAT\r\n",
      "      shape: (-1, 10)\r\n",
      "      name: dense_3/Softmax:0\r\n",
      "Method name is: tensorflow/serving/predict\r\n"
     ]
    }
   ],
   "source": [
    "! saved_model_cli show --dir $MODEL_FOR_SERVING --tag serve --signature_def serving_default"
   ]
  },
  {
   "cell_type": "markdown",
   "metadata": {},
   "source": [
    "## Use Cloud ML Engine"
   ]
  },
  {
   "cell_type": "markdown",
   "metadata": {},
   "source": [
    "### Checking gcloud installation (SDK)"
   ]
  },
  {
   "cell_type": "raw",
   "metadata": {},
   "source": [
    "install SDK"
   ]
  },
  {
   "cell_type": "raw",
   "metadata": {},
   "source": [
    "in case of issue with \"Bad magic number in .pyc file\" -> mix python 2 and python 3\n",
    "which python -> path (should use python 3)\n",
    "export CLOUDSDK_PYTHON=path (should use python 3)"
   ]
  },
  {
   "cell_type": "raw",
   "metadata": {},
   "source": [
    "!gcloud init"
   ]
  },
  {
   "cell_type": "raw",
   "metadata": {},
   "source": [
    "!gcloud components list"
   ]
  },
  {
   "cell_type": "raw",
   "metadata": {},
   "source": [
    "!gcloud components update"
   ]
  },
  {
   "cell_type": "raw",
   "metadata": {},
   "source": [
    "!gcloud auth configure-docker"
   ]
  },
  {
   "cell_type": "raw",
   "metadata": {},
   "source": [
    "!gcloud version"
   ]
  },
  {
   "cell_type": "raw",
   "metadata": {},
   "source": [
    "!gcloud info"
   ]
  },
  {
   "cell_type": "raw",
   "metadata": {},
   "source": [
    "!gcloud ml-engine versions create --help"
   ]
  },
  {
   "cell_type": "raw",
   "metadata": {},
   "source": [
    "!gcloud ml-engine local predict --help"
   ]
  },
  {
   "cell_type": "code",
   "execution_count": 272,
   "metadata": {},
   "outputs": [],
   "source": [
    "os.environ['CLOUDSDK_PYTHON']='/Users/tarrade/anaconda3/bin/python'"
   ]
  },
  {
   "cell_type": "markdown",
   "metadata": {},
   "source": [
    "### Create a input json file and string"
   ]
  },
  {
   "cell_type": "markdown",
   "metadata": {},
   "source": [
    "Input needed to get prediction using ml-engine an option --json-instances: 'dense_2_input' for each new entry"
   ]
  },
  {
   "cell_type": "code",
   "execution_count": 664,
   "metadata": {},
   "outputs": [],
   "source": [
    "input_prediction=x_test[0:3]"
   ]
  },
  {
   "cell_type": "code",
   "execution_count": 665,
   "metadata": {},
   "outputs": [],
   "source": [
    "data = input_prediction.tolist()\n",
    "json_file = \"../data/input_predict_gcloud.json\" \n",
    "\n",
    "with codecs.open(json_file, 'w', encoding='utf-8') as f:\n",
    "    for el in data:\n",
    "        instance = {'dense_2_input': el}\n",
    "        json.dump(instance, f , sort_keys=True)\n",
    "        f.write(\"\\n\")"
   ]
  },
  {
   "cell_type": "markdown",
   "metadata": {},
   "source": [
    "Input needed to get prediction using ml-engine and cURL"
   ]
  },
  {
   "cell_type": "code",
   "execution_count": 666,
   "metadata": {},
   "outputs": [],
   "source": [
    "data = input_prediction.tolist()\n",
    "json_file = \"../data/input_predict_cURL.json\" \n",
    "\n",
    "with codecs.open(json_file, 'w', encoding='utf-8') as f:\n",
    "    tmp={}\n",
    "    list_tmp=[]\n",
    "    for el in data:\n",
    "        tmp['dense_2_input']=el\n",
    "        list_tmp.append(tmp)\n",
    "    instance = {\"instances\": list_tmp}    \n",
    "    json.dump(instance, f , sort_keys=True)\n",
    "    f.write(\"\\n\")"
   ]
  },
  {
   "cell_type": "raw",
   "metadata": {},
   "source": [
    "Input needed to get prediction using ml-engine and requests"
   ]
  },
  {
   "cell_type": "code",
   "execution_count": 676,
   "metadata": {},
   "outputs": [],
   "source": [
    "input_predict_request = json.dumps({\"signature_name\": \"serving_default\", \"instances\": input_prediction.tolist()})"
   ]
  },
  {
   "cell_type": "markdown",
   "metadata": {},
   "source": [
    "display example"
   ]
  },
  {
   "cell_type": "code",
   "execution_count": 278,
   "metadata": {},
   "outputs": [],
   "source": [
    "def show(img, title):\n",
    "    plt.figure()\n",
    "    plt.imshow(img.reshape(28,28))\n",
    "    plt.axis('off')\n",
    "    plt.title('\\n\\n{}'.format(title), fontdict={'size': 16})"
   ]
  },
  {
   "cell_type": "code",
   "execution_count": 515,
   "metadata": {},
   "outputs": [
    {
     "data": {
      "image/png": "[encoded data removed]",
      "text/plain": [
       "<Figure size 432x288 with 1 Axes>"
      ]
     },
     "metadata": {
      "needs_background": "light"
     },
     "output_type": "display_data"
    }
   ],
   "source": [
    "for i in range(1):\n",
    "    show(x_test[i],'Test dataset, true label: '+str(np.argmax(y_test[i])))"
   ]
  },
  {
   "cell_type": "markdown",
   "metadata": {},
   "source": [
    "### Test the model inference using gcloud locally"
   ]
  },
  {
   "cell_type": "code",
   "execution_count": 670,
   "metadata": {},
   "outputs": [],
   "source": [
    "os.environ['CLOUDSDK_PYTHON']='/Users/tarrade/anaconda3/bin/python'"
   ]
  },
  {
   "cell_type": "code",
   "execution_count": 671,
   "metadata": {},
   "outputs": [
    {
     "name": "stdout",
     "output_type": "stream",
     "text": [
      "\u001b[1;33mWARNING:\u001b[0m 2019-02-07 14:47:57.372308: I tensorflow/core/platform/cpu_feature_guard.cc:141] Your CPU supports instructions that this TensorFlow binary was not compiled to use: SSE4.1 SSE4.2 AVX AVX2 FMA\r\n",
      "2019-02-07 14:47:57.372739: I tensorflow/core/common_runtime/process_util.cc:69] Creating new thread pool with default inter op setting: 8. Tune using inter_op_parallelism_threads for best performance.\r\n",
      "\r\n",
      "DENSE_3\r\n",
      "[5.820228579977993e-06, 2.2560351453648764e-07, 3.986712181358598e-05, 0.00012092345423297957, 1.6469396513230095e-08, 4.26365613748203e-06, 4.727720437358585e-10, 0.999786913394928, 7.320999429794028e-06, 3.4697757655521855e-05]\r\n",
      "[1.374597104586428e-05, 0.004179574083536863, 0.9947308301925659, 0.0008424344123341143, 4.2751646667227305e-10, 0.00018749698938336223, 1.1633811482170131e-05, 2.49833398413557e-09, 3.442165325395763e-05, 7.398723300688914e-10]\r\n",
      "[1.2485852494137362e-05, 0.9962553977966309, 0.000608675240073353, 0.0001076246626325883, 0.0008343913941644132, 0.00012625956151168793, 2.7262765797786415e-05, 0.0016017641173675656, 0.00036735867615789175, 5.882246477995068e-05]\r\n"
     ]
    }
   ],
   "source": [
    "!gcloud ml-engine local predict --model-dir $MODEL_FOR_SERVING --json-instances ../data/input_predict_gcloud.json "
   ]
  },
  {
   "cell_type": "markdown",
   "metadata": {},
   "source": [
    "### Deploy the model using Cloud ML Engine\n",
    "- https://cloud.google.com/ml-engine/docs/v1/predict-request\n",
    "- https://cloud.google.com/ml-engine/docs/tensorflow/online-predict#requesting_predictions"
   ]
  },
  {
   "cell_type": "code",
   "execution_count": 587,
   "metadata": {},
   "outputs": [],
   "source": [
    "os.environ['PROJECT']=subprocess.run('gcloud config list project --format \"value(core.project)\"', shell=True, check=True, stdout=subprocess.PIPE).stdout.decode().replace('\\n', '')\n",
    "os.environ['MODEL']='mnist'\n",
    "os.environ['BUCKET']='gs://'+os.environ['YOUR_PROJECT']\n",
    "os.environ['VERSION']='v2'"
   ]
  },
  {
   "cell_type": "code",
   "execution_count": 581,
   "metadata": {},
   "outputs": [],
   "source": [
    "# gsutil need python 2.7\n",
    "os.environ['CLOUDSDK_PYTHON']='/Users/tarrade/anaconda/bin/python'"
   ]
  },
  {
   "cell_type": "code",
   "execution_count": 585,
   "metadata": {},
   "outputs": [
    {
     "name": "stdout",
     "output_type": "stream",
     "text": [
      "Copying file://../results/Models/Mnist/tf_1_12/estimator/pt/1549054852/saved_model.pb [Content-Type=application/octet-stream]...\n",
      "Copying file://../results/Models/Mnist/tf_1_12/estimator/pt/1549054852/variables/variables.data-00000-of-00001 [Content-Type=application/octet-stream]...\n",
      "Copying file://../results/Models/Mnist/tf_1_12/estimator/pt/1549054852/variables/variables.index [Content-Type=application/octet-stream]...\n",
      "\\ [3 files][  2.4 MiB/  2.4 MiB]                                                \n",
      "Operation completed over 3 objects/2.4 MiB.                                      \n"
     ]
    }
   ],
   "source": [
    "!gsutil cp -r $MODEL_FOR_SERVING $BUCKET/model_dir_tmp/"
   ]
  },
  {
   "cell_type": "code",
   "execution_count": 592,
   "metadata": {},
   "outputs": [
    {
     "name": "stdout",
     "output_type": "stream",
     "text": [
      "NAME   DEFAULT_VERSION_NAME\r\n",
      "mnist  v1\r\n"
     ]
    }
   ],
   "source": [
    "!gcloud ml-engine models list"
   ]
  },
  {
   "cell_type": "markdown",
   "metadata": {},
   "source": [
    "when creating the model for the first time"
   ]
  },
  {
   "cell_type": "raw",
   "metadata": {},
   "source": [
    "!gcloud ml-engine models create ${MODEL} \\\n",
    "--regions us-central1"
   ]
  },
  {
   "cell_type": "markdown",
   "metadata": {},
   "source": [
    "create a version and store the model"
   ]
  },
  {
   "cell_type": "code",
   "execution_count": 595,
   "metadata": {},
   "outputs": [
    {
     "name": "stdout",
     "output_type": "stream",
     "text": [
      "\u001b[1;31mERROR:\u001b[0m (gcloud.ml-engine.versions.create) ALREADY_EXISTS: Field: version.name Error: A version with the same name already exists.\r\n",
      "- '@type': type.googleapis.com/google.rpc.BadRequest\r\n",
      "  fieldViolations:\r\n",
      "  - description: A version with the same name already exists.\r\n",
      "    field: version.name\r\n"
     ]
    }
   ],
   "source": [
    "!gcloud ml-engine versions create ${VERSION} \\\n",
    "--model ${MODEL} \\\n",
    "--origin=${BUCKET}/model_dir_tmp/1549054852 \\\n",
    "--runtime-version=1.12 \\\n",
    "--staging-bucket=${BUCKET}"
   ]
  },
  {
   "cell_type": "markdown",
   "metadata": {},
   "source": [
    "#### Checking the list of model in ML-Engine"
   ]
  },
  {
   "cell_type": "code",
   "execution_count": 605,
   "metadata": {},
   "outputs": [
    {
     "name": "stdout",
     "output_type": "stream",
     "text": [
      "NAME   DEFAULT_VERSION_NAME\n",
      "mnist  v1\n"
     ]
    }
   ],
   "source": [
    "!gcloud ml-engine models list"
   ]
  },
  {
   "cell_type": "code",
   "execution_count": 610,
   "metadata": {},
   "outputs": [
    {
     "name": "stdout",
     "output_type": "stream",
     "text": [
      "NAME  DEPLOYMENT_URI                                              STATE\r\n",
      "v1    gs://ml-productive-pipeline-53122/model_dir_tmp/1549054852  READY\r\n",
      "v2    gs://ml-productive-pipeline-53122/model_dir_tmp/1549054852  READY\r\n"
     ]
    }
   ],
   "source": [
    " !gcloud ml-engine versions list --model mnist"
   ]
  },
  {
   "cell_type": "markdown",
   "metadata": {},
   "source": [
    "#### Testing our model using ML-Engine"
   ]
  },
  {
   "cell_type": "code",
   "execution_count": 672,
   "metadata": {},
   "outputs": [
    {
     "name": "stdout",
     "output_type": "stream",
     "text": [
      "DENSE_3\r\n",
      "[5.820239039167063e-06, 2.2560371348845365e-07, 3.9867194573162124e-05, 0.00012092355609638616, 1.6469426711296364e-08, 4.263659775460837e-06, 4.727719882247072e-10, 0.9997867941856384, 7.321012162719853e-06, 3.4697819501161575e-05]\r\n",
      "[1.3745981959800702e-05, 0.004179579671472311, 0.9947307109832764, 0.0008424347033724189, 4.275147735821605e-10, 0.00018749696027953178, 1.163381057267543e-05, 2.4983288771096568e-09, 3.442161687416956e-05, 7.39872219046589e-10]\r\n",
      "[1.2485862498579081e-05, 0.9962552785873413, 0.0006086757639423013, 0.00010762474994407967, 0.0008343925583176315, 0.00012625991075765342, 2.7262842195341364e-05, 0.0016017662128433585, 0.0003673589671961963, 5.8822570281336084e-05]\r\n"
     ]
    }
   ],
   "source": [
    "!gcloud ml-engine predict --model=${MODEL} --version=${VERSION} --json-instances ../data/input_predict_gcloud.json"
   ]
  },
  {
   "cell_type": "markdown",
   "metadata": {},
   "source": [
    "#### Testing using RESTful API \n",
    "- https://www.tensorflow.org/serving/api_rest  \n",
    "RESTful API is an application program interface (API) that uses HTTP requests to GET, PUT, POST and DELETE data (Json)"
   ]
  },
  {
   "cell_type": "markdown",
   "metadata": {},
   "source": [
    "Use cURL"
   ]
  },
  {
   "cell_type": "code",
   "execution_count": 673,
   "metadata": {},
   "outputs": [
    {
     "name": "stdout",
     "output_type": "stream",
     "text": [
      "{\r\n",
      "  \"name\": \"projects/ml-productive-pipeline-53122/models/mnist/versions/v2\",\r\n",
      "  \"deploymentUri\": \"gs://ml-productive-pipeline-53122/model_dir_tmp/1549054852\",\r\n",
      "  \"createTime\": \"2019-02-07T11:00:51Z\",\r\n",
      "  \"lastUseTime\": \"2019-02-07T13:48:20Z\",\r\n",
      "  \"runtimeVersion\": \"1.12\",\r\n",
      "  \"state\": \"READY\",\r\n",
      "  \"etag\": \"KoHdxAqPbTQ=\",\r\n",
      "  \"framework\": \"TENSORFLOW\",\r\n",
      "  \"machineType\": \"mls1-c1-m2\",\r\n",
      "  \"pythonVersion\": \"2.7\"\r\n",
      "}\r\n"
     ]
    }
   ],
   "source": [
    "!curl https://ml.googleapis.com/v1/projects/${PROJECT}/models/${MODEL}/versions/${VERSION} \\\n",
    "-H \"Authorization: Bearer $(gcloud auth print-access-token)\" \\"
   ]
  },
  {
   "cell_type": "code",
   "execution_count": 674,
   "metadata": {},
   "outputs": [
    {
     "name": "stdout",
     "output_type": "stream",
     "text": [
      "{\"predictions\": [{\"dense_3\": [1.2485862498579081e-05, 0.9962552785873413, 0.0006086757639423013, 0.00010762474994407967, 0.0008343925583176315, 0.00012625991075765342, 2.7262842195341364e-05, 0.0016017662128433585, 0.00036735893809236586, 5.8822570281336084e-05]}, {\"dense_3\": [1.2485862498579081e-05, 0.9962552785873413, 0.0006086757639423013, 0.00010762474994407967, 0.0008343925583176315, 0.00012625991075765342, 2.7262842195341364e-05, 0.0016017662128433585, 0.00036735893809236586, 5.8822570281336084e-05]}, {\"dense_3\": [1.2485862498579081e-05, 0.9962552785873413, 0.0006086757639423013, 0.00010762474994407967, 0.0008343925583176315, 0.00012625991075765342, 2.7262842195341364e-05, 0.0016017662128433585, 0.0003673589671961963, 5.8822570281336084e-05]}]}"
     ]
    }
   ],
   "source": [
    "!curl -X POST \\\n",
    "https://ml.googleapis.com/v1/projects/${PROJECT}/models/${MODEL}/versions/${VERSION}:predict \\\n",
    "-H \"Content-Type: application/json\" \\\n",
    "-H \"Authorization: Bearer $(gcloud auth print-access-token)\" \\\n",
    "-d @../data/input_predict_cURL.json "
   ]
  },
  {
   "cell_type": "markdown",
   "metadata": {},
   "source": [
    "Use python and requests"
   ]
  },
  {
   "cell_type": "code",
   "execution_count": 686,
   "metadata": {},
   "outputs": [
    {
     "data": {
      "text/plain": [
       "{'predictions': [{'dense_3': [5.820239039167063e-06,\n",
       "    2.2560371348845365e-07,\n",
       "    3.9867194573162124e-05,\n",
       "    0.00012092355609638616,\n",
       "    1.6469426711296364e-08,\n",
       "    4.263659775460837e-06,\n",
       "    4.727719882247072e-10,\n",
       "    0.9997867941856384,\n",
       "    7.321012162719853e-06,\n",
       "    3.4697819501161575e-05]},\n",
       "  {'dense_3': [1.3745981959800702e-05,\n",
       "    0.004179579671472311,\n",
       "    0.9947307109832764,\n",
       "    0.0008424347033724189,\n",
       "    4.275147735821605e-10,\n",
       "    0.00018749696027953178,\n",
       "    1.163381057267543e-05,\n",
       "    2.4983288771096568e-09,\n",
       "    3.442161687416956e-05,\n",
       "    7.39872219046589e-10]},\n",
       "  {'dense_3': [1.2485862498579081e-05,\n",
       "    0.9962552785873413,\n",
       "    0.0006086757639423013,\n",
       "    0.00010762474994407967,\n",
       "    0.0008343925583176315,\n",
       "    0.00012625991075765342,\n",
       "    2.7262842195341364e-05,\n",
       "    0.0016017662128433585,\n",
       "    0.0003673589671961963,\n",
       "    5.8822570281336084e-05]}]}"
      ]
     },
     "execution_count": 686,
     "metadata": {},
     "output_type": "execute_result"
    }
   ],
   "source": [
    "url = 'https://ml.googleapis.com/v1/projects/'+os.environ['PROJECT']+'/models/'+os.environ['MODEL']+'/versions/'+os.environ['VERSION']+':predict'\n",
    "\n",
    "headers = {\n",
    "    'Content-Type': 'application/json',\n",
    "    'Authorization':  'Bearer {}'.format(subprocess.run('gcloud auth print-access-token', shell=True, check=True, stdout=subprocess.PIPE).stdout.decode().replace('\\n', ''))}\n",
    "\n",
    "json_response = requests.post(url=url, data=input_predict_request, headers=headers)\n",
    "json.loads(json_response.text)"
   ]
  },
  {
   "cell_type": "code",
   "execution_count": 687,
   "metadata": {},
   "outputs": [],
   "source": [
    "predictions = json.loads(json_response.text)['predictions']"
   ]
  },
  {
   "cell_type": "code",
   "execution_count": 688,
   "metadata": {},
   "outputs": [
    {
     "data": {
      "image/png": "[encoded data removed]",
      "text/plain": [
       "<Figure size 432x288 with 1 Axes>"
      ]
     },
     "metadata": {
      "needs_background": "light"
     },
     "output_type": "display_data"
    },
    {
     "data": {
      "image/png": "[encoded data removed]",
      "text/plain": [
       "<Figure size 432x288 with 1 Axes>"
      ]
     },
     "metadata": {
      "needs_background": "light"
     },
     "output_type": "display_data"
    },
    {
     "data": {
      "image/png": "[encoded data removed]",
      "text/plain": [
       "<Figure size 432x288 with 1 Axes>"
      ]
     },
     "metadata": {
      "needs_background": "light"
     },
     "output_type": "display_data"
    }
   ],
   "source": [
    "for i in range(0,3):\n",
    "    show(x_test[i], 'The model thought this was a {} , and it was actually a {}'.format(np.argmax(predictions[i]['dense_3']),np.argmax(y_test[i])))"
   ]
  },
  {
   "cell_type": "markdown",
   "metadata": {},
   "source": [
    "#### Testing using gRPC API \n",
    "- https://cloud.google.com/endpoints/docs/grpc/about-grpc  \n",
    "gRPC is a high performance, open-source universal RPC framework, developed by Google. In gRPC, a client application can directly call methods on a server application on a different machine as if it was a local object, making it easier to create distributed applications and services (Protobuf)"
   ]
  },
  {
   "cell_type": "code",
   "execution_count": 552,
   "metadata": {},
   "outputs": [],
   "source": [
    "# to do"
   ]
  },
  {
   "cell_type": "markdown",
   "metadata": {},
   "source": [
    "## Debug Python environment"
   ]
  },
  {
   "cell_type": "code",
   "execution_count": 553,
   "metadata": {},
   "outputs": [
    {
     "name": "stdout",
     "output_type": "stream",
     "text": [
      "b'unknown' 1.12.0\r\n"
     ]
    }
   ],
   "source": [
    "!python -c \"import tensorflow as tf; print(tf.GIT_VERSION, tf.VERSION)\""
   ]
  },
  {
   "cell_type": "code",
   "execution_count": 153,
   "metadata": {},
   "outputs": [
    {
     "name": "stdout",
     "output_type": "stream",
     "text": [
      "# packages in environment at /Users/tarrade/anaconda3/envs/env_gcp_dl:\n",
      "#\n",
      "# Name                    Version                   Build  Channel\n",
      "_tflow_select             2.3.0                       mkl  \n",
      "absl-py                   0.7.0                    py36_0  \n",
      "altair                    2.3.0                    pypi_0    pypi\n",
      "appnope                   0.1.0            py36hf537a9a_0  \n",
      "asn1crypto                0.24.0                   py36_0  \n",
      "astor                     0.7.1                    py36_0  \n",
      "astroid                   2.1.0                    py36_0  \n",
      "atomicwrites              1.2.1                    py36_0  \n",
      "attrs                     18.2.0           py36h28b3542_0  \n",
      "autopep8                  1.4.3                    py36_0  \n",
      "backcall                  0.1.0                    py36_0  \n",
      "blas                      1.1                    openblas    conda-forge\n",
      "bleach                    3.1.0                    pypi_0    pypi\n",
      "c-ares                    1.15.0               h1de35cc_1  \n",
      "ca-certificates           2018.12.5                     0  \n",
      "certifi                   2018.11.29               py36_0  \n",
      "cffi                      1.11.5           py36h6174b99_1  \n",
      "chardet                   3.0.4                    py36_1  \n",
      "colorama                  0.4.1                    py36_0  \n",
      "cryptography              2.3.1            py36hdbc3d79_0  \n",
      "cycler                    0.10.0           py36hfc81398_0  \n",
      "dbus                      1.13.6               h90a0687_0  \n",
      "decorator                 4.3.0                    py36_0  \n",
      "defusedxml                0.5.0                    py36_1  \n",
      "entrypoints               0.3                      py36_0  \n",
      "expat                     2.2.6                h0a44026_0  \n",
      "freetype                  2.9.1                hb4e5f40_0  \n",
      "gast                      0.2.2                    py36_0  \n",
      "gettext                   0.19.8.1             h15daf44_3  \n",
      "gitdb2                    2.0.5                    py36_0  \n",
      "gitpython                 2.1.11                   py36_0  \n",
      "glib                      2.56.2               hd9629dc_0  \n",
      "grpcio                    1.14.1           py36h9011c5e_0  \n",
      "h5py                      2.9.0            py36h3134771_0  \n",
      "hdf5                      1.10.4               hfa1e0ec_0  \n",
      "icu                       58.2                 h4b95b61_1  \n",
      "idna                      2.8                      py36_0  \n",
      "ipykernel                 4.10.0                   py36_0  \n",
      "ipython                   7.2.0            py36h39e3cac_0  \n",
      "ipython_genutils          0.2.0            py36h241746c_0  \n",
      "ipywidgets                7.4.1                    py36_0  \n",
      "isort                     4.3.4                    py36_0  \n",
      "jedi                      0.13.2                   py36_0  \n",
      "jinja2                    2.10                     py36_0  \n",
      "jpeg                      9b                   he5867d9_2  \n",
      "jsonschema                2.6.0            py36hb385e00_0  \n",
      "jupyter                   1.0.0                    py36_7  \n",
      "jupyter_client            5.2.4                    py36_0  \n",
      "jupyter_console           6.0.0                    py36_0  \n",
      "jupyter_contrib_core      0.3.3                      py_2    conda-forge\n",
      "jupyter_contrib_nbextensions 0.5.0                 py36_1000    conda-forge\n",
      "jupyter_core              4.4.0                    py36_0  \n",
      "jupyter_highlight_selected_word 0.2.0                 py36_1000    conda-forge\n",
      "jupyter_latex_envs        1.4.4                 py36_1000    conda-forge\n",
      "jupyter_nbextensions_configurator 0.4.0                 py36_1000    conda-forge\n",
      "jupyterlab                0.34.9                   py36_0  \n",
      "jupyterlab_launcher       0.13.1                   py36_0  \n",
      "keras-applications        1.0.6                    py36_0  \n",
      "keras-preprocessing       1.0.5                    py36_0  \n",
      "kiwisolver                1.0.1            py36h0a44026_0  \n",
      "lazy-object-proxy         1.3.1            py36h1de35cc_2  \n",
      "libcxx                    4.0.1                hcfea43d_1  \n",
      "libcxxabi                 4.0.1                hcfea43d_1  \n",
      "libedit                   3.1.20181209         hb402a30_0  \n",
      "libffi                    3.2.1                h475c297_4  \n",
      "libgfortran               3.0.1                h93005f0_2  \n",
      "libiconv                  1.15                 hdd342a3_7  \n",
      "libopenblas               0.3.3                hdc02c5d_3  \n",
      "libpng                    1.6.36               ha441bb4_0  \n",
      "libprotobuf               3.6.1                hd9629dc_0  \n",
      "libsodium                 1.0.16               h3efe00b_0  \n",
      "libxml2                   2.9.9                hab757c2_0  \n",
      "libxslt                   1.1.33               h33a18ac_0  \n",
      "lxml                      4.3.0            py36hef8c89e_0  \n",
      "markdown                  3.0.1                    py36_0  \n",
      "markupsafe                1.1.0            py36h1de35cc_0  \n",
      "matplotlib                3.0.2            py36h54f8f79_0  \n",
      "mccabe                    0.6.1                    py36_1  \n",
      "mistune                   0.8.4            py36h1de35cc_0  \n",
      "more-itertools            5.0.0                    py36_0  \n",
      "nbconvert                 5.4.0                    py36_1  \n",
      "nbdime                    1.0.4                 py36_1000    conda-forge\n",
      "nbformat                  4.4.0            py36h827af21_0  \n",
      "ncurses                   6.1                  h0a44026_1  \n",
      "nomkl                     3.0                           0  \n",
      "notebook                  5.6.0                    py36_0  \n",
      "numpy                     1.14.5          py36_blas_openblashd3ea46f_202  [blas_openblas]  conda-forge\n",
      "openblas                  0.2.20                        8    conda-forge\n",
      "openssl                   1.0.2p               h1de35cc_0  \n",
      "pandas                    0.23.4           py36h6440ff4_0  \n",
      "pandoc                    1.19.2.1             ha5e8f32_1  \n",
      "pandocfilters             1.4.2                    py36_1  \n",
      "parso                     0.3.1                    py36_0  \n",
      "pcre                      8.42                 h378b8a2_0  \n",
      "pep8                      1.7.1                    py36_0  \n",
      "pexpect                   4.6.0                    py36_0  \n",
      "pickleshare               0.7.5                    py36_0  \n",
      "pillow                    5.4.1                    pypi_0    pypi\n",
      "pip                       18.0                  py36_1001    conda-forge\n",
      "pluggy                    0.6.0                    py36_0  \n",
      "prometheus_client         0.5.0                    py36_0  \n",
      "prompt_toolkit            2.0.7                    py36_0  \n",
      "protobuf                  3.6.1            py36h0a44026_0  \n",
      "ptyprocess                0.6.0                    py36_0  \n",
      "py                        1.7.0                    py36_0  \n",
      "pycodestyle               2.4.0                    py36_0  \n",
      "pycparser                 2.19                     py36_0  \n",
      "pydocstyle                3.0.0                    py36_0  \n",
      "pyflakes                  2.0.0                    py36_0  \n",
      "pygments                  2.3.1                    py36_0  \n",
      "pylama                    7.4.3                      py_0    conda-forge\n",
      "pylint                    2.2.2                    py36_0  \n",
      "pyopenssl                 18.0.0                   py36_0  \n",
      "pyparsing                 2.3.1                    py36_0  \n",
      "pyqt                      5.9.2            py36h655552a_2  \n",
      "pysocks                   1.6.8                    py36_0  \n",
      "pytest                    3.6.2                    py36_0  \n",
      "python                    3.6.6                hc167b69_0  \n",
      "python-dateutil           2.7.5                    py36_0  \n",
      "pytz                      2018.9                   py36_0  \n",
      "pyyaml                    3.13             py36h1de35cc_0  \n",
      "pyzmq                     17.1.2           py36h1de35cc_0  \n",
      "qrcode                    6.1                      pypi_0    pypi\n",
      "qt                        5.9.7                h468cd18_1  \n",
      "qtconsole                 4.4.3                    py36_0  \n",
      "readline                  7.0                  h1de35cc_5  \n",
      "requests                  2.21.0                   py36_0  \n",
      "scikit-learn              0.20.1           py36hebd9d1a_0  \n",
      "scipy                     1.1.0            py36h1a1e112_2  \n",
      "send2trash                1.5.0                    py36_0  \n",
      "setuptools                40.6.3                   py36_0  \n",
      "sip                       4.19.8           py36h0a44026_0  \n",
      "six                       1.12.0                   py36_0  \n",
      "smmap2                    2.0.5                    py36_0  \n",
      "snowballstemmer           1.2.1            py36h6c7b616_0  \n",
      "sqlite                    3.26.0               ha441bb4_0  \n",
      "tensorboard               1.12.0           py36hdc36e2c_0  \n",
      "tensorflow                1.12.0          mkl_py36h2b2bbaf_0  \n",
      "tensorflow-base           1.12.0          mkl_py36h70e0e9a_0  \n",
      "termcolor                 1.1.0                    py36_1  \n",
      "terminado                 0.8.1                    py36_1  \n",
      "testpath                  0.4.2                    py36_0  \n",
      "tk                        8.6.8                ha441bb4_0  \n",
      "toolz                     0.9.0                    pypi_0    pypi\n",
      "tornado                   4.5.3                    py36_0  \n",
      "traitlets                 4.3.2            py36h65bd3ce_0  \n",
      "typed-ast                 1.1.0            py36h1de35cc_0  \n",
      "urllib3                   1.24.1                   py36_0  \n",
      "vega                      1.4.0                    pypi_0    pypi\n",
      "vega-datasets             0.7.0                    pypi_0    pypi\n",
      "watermark                 1.8.0                      py_0    conda-forge\n",
      "wcwidth                   0.1.7            py36h8c6ec74_0  \n",
      "webencodings              0.5.1                    py36_1  \n",
      "werkzeug                  0.14.1                   py36_0  \n",
      "wheel                     0.32.3                   py36_0  \n",
      "widgetsnbextension        3.4.2                    py36_0  \n",
      "wrapt                     1.11.0           py36h1de35cc_0  \n",
      "xz                        5.2.4                h1de35cc_4  \n",
      "yaml                      0.1.7                hc338f04_2  \n",
      "zeromq                    4.2.5                h0a44026_1  \n",
      "zlib                      1.2.11               h1de35cc_3  \n"
     ]
    }
   ],
   "source": [
    "!conda list"
   ]
  }
 ],
 "metadata": {
  "kernelspec": {
   "display_name": "Python [conda env:env_gcp_dl]",
   "language": "python",
   "name": "conda-env-env_gcp_dl-py"
  },
  "language_info": {
   "codemirror_mode": {
    "name": "ipython",
    "version": 3
   },
   "file_extension": ".py",
   "mimetype": "text/x-python",
   "name": "python",
   "nbconvert_exporter": "python",
   "pygments_lexer": "ipython3",
   "version": "3.6.6"
  },
  "latex_envs": {
   "LaTeX_envs_menu_present": true,
   "autoclose": false,
   "autocomplete": true,
   "bibliofile": "biblio.bib",
   "cite_by": "apalike",
   "current_citInitial": 1,
   "eqLabelWithNumbers": true,
   "eqNumInitial": 1,
   "hotkeys": {
    "equation": "Ctrl-E",
    "itemize": "Ctrl-I"
   },
   "labels_anchors": false,
   "latex_user_defs": false,
   "report_style_numbering": false,
   "user_envs_cfg": false
  },
  "toc": {
   "base_numbering": "1",
   "nav_menu": {},
   "number_sections": true,
   "sideBar": true,
   "skip_h1_title": false,
   "title_cell": "Table of Contents",
   "title_sidebar": "Contents",
   "toc_cell": false,
   "toc_position": {},
   "toc_section_display": true,
   "toc_window_display": false
  },
  "varInspector": {
   "cols": {
    "lenName": 16,
    "lenType": 16,
    "lenVar": 40
   },
   "kernels_config": {
    "python": {
     "delete_cmd_postfix": "",
     "delete_cmd_prefix": "del ",
     "library": "var_list.py",
     "varRefreshCmd": "print(var_dic_list())"
    },
    "r": {
     "delete_cmd_postfix": ") ",
     "delete_cmd_prefix": "rm(",
     "library": "var_list.r",
     "varRefreshCmd": "cat(var_dic_list()) "
    }
   },
   "types_to_exclude": [
    "module",
    "function",
    "builtin_function_or_method",
    "instance",
    "_Feature"
   ],
   "window_display": false
  }
 },
 "nbformat": 4,
 "nbformat_minor": 2
}
