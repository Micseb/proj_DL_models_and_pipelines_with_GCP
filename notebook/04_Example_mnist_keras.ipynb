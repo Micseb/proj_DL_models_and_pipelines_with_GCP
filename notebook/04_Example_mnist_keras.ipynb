{
 "cells": [
  {
   "cell_type": "markdown",
   "metadata": {},
   "source": [
    "# MNIST classification example with TensorFlow"
   ]
  },
  {
   "cell_type": "markdown",
   "metadata": {},
   "source": [
    "## Install packages on Google  Cloud Datalab (locally use conda env)\n",
    "### Select in the Python3 Kernel:\n",
    "In the menu bar the of 'Kernel', select   \n",
    "**python3**\n",
    "### Install needed packages\n",
    "copy the command below in a Google Cloud Datalab cell  \n",
    "**!pip install tensorflow==1.12**\n",
    "### Restart the Kernel \n",
    "this is to take into account the new installed packages. Click in the menu bar on:  \n",
    "**Reset Session**"
   ]
  },
  {
   "cell_type": "markdown",
   "metadata": {},
   "source": [
    "## Needed librairies"
   ]
  },
  {
   "cell_type": "code",
   "execution_count": 1,
   "metadata": {},
   "outputs": [],
   "source": [
    "import tensorflow as tf\n",
    "import numpy as np\n",
    "import matplotlib.pyplot as plt"
   ]
  },
  {
   "cell_type": "code",
   "execution_count": 2,
   "metadata": {},
   "outputs": [
    {
     "data": {
      "text/plain": [
       "'1.12.0'"
      ]
     },
     "execution_count": 2,
     "metadata": {},
     "output_type": "execute_result"
    }
   ],
   "source": [
    "tf.__version__"
   ]
  },
  {
   "cell_type": "markdown",
   "metadata": {},
   "source": [
    "## Import the Data"
   ]
  },
  {
   "cell_type": "code",
   "execution_count": 3,
   "metadata": {},
   "outputs": [],
   "source": [
    "# get mnist data, split between train and test sets\n",
    "# on GCP\n",
    "#(x_train, y_train), (x_test, y_test) = tf.keras.datasets.mnist.load_data()\n",
    "# with AXA network\n",
    "import gzip\n",
    "import sys\n",
    "import _pickle as cPickle\n",
    "def load_data(path):\n",
    "    f = gzip.open(path, 'rb')\n",
    "    if sys.version_info < (3,):\n",
    "        data = cPickle.load(f)\n",
    "    else:\n",
    "        data = cPickle.load(f, encoding='bytes')\n",
    "    f.close()\n",
    "    return data\n",
    "(x_train, y_train), (x_test, y_test) = load_data(path='../data/mnist.pkl.gz')"
   ]
  },
  {
   "cell_type": "code",
   "execution_count": 4,
   "metadata": {},
   "outputs": [
    {
     "data": {
      "text/plain": [
       "(60000, 28, 28)"
      ]
     },
     "execution_count": 4,
     "metadata": {},
     "output_type": "execute_result"
    }
   ],
   "source": [
    "# check data shape (training)\n",
    "x_train.shape"
   ]
  },
  {
   "cell_type": "code",
   "execution_count": 5,
   "metadata": {},
   "outputs": [
    {
     "data": {
      "text/plain": [
       "(10000, 28, 28)"
      ]
     },
     "execution_count": 5,
     "metadata": {},
     "output_type": "execute_result"
    }
   ],
   "source": [
    "# check data shape (train)\n",
    "x_test.shape"
   ]
  },
  {
   "cell_type": "code",
   "execution_count": 6,
   "metadata": {},
   "outputs": [
    {
     "data": {
      "text/plain": [
       "(dtype('uint8'), dtype('uint8'))"
      ]
     },
     "execution_count": 6,
     "metadata": {},
     "output_type": "execute_result"
    }
   ],
   "source": [
    "x_train.dtype, x_test.dtype"
   ]
  },
  {
   "cell_type": "code",
   "execution_count": 7,
   "metadata": {},
   "outputs": [
    {
     "data": {
      "text/plain": [
       "(255, 0, 255, 0)"
      ]
     },
     "execution_count": 7,
     "metadata": {},
     "output_type": "execute_result"
    }
   ],
   "source": [
    "np.max(x_train), np.min(x_train), np.max(x_test), np.min(x_test)  "
   ]
  },
  {
   "cell_type": "markdown",
   "metadata": {},
   "source": [
    "## Normalize and reorganize the data"
   ]
  },
  {
   "cell_type": "code",
   "execution_count": 8,
   "metadata": {},
   "outputs": [],
   "source": [
    "# cast uint8 -> float32\n",
    "x_train = x_train.astype('float32')\n",
    "x_test = x_test.astype('float32')"
   ]
  },
  {
   "cell_type": "code",
   "execution_count": 9,
   "metadata": {},
   "outputs": [],
   "source": [
    "# renormalize the data 255 grey variation\n",
    "x_train /= 255\n",
    "x_test /= 255"
   ]
  },
  {
   "cell_type": "code",
   "execution_count": 10,
   "metadata": {},
   "outputs": [],
   "source": [
    "# reshape the data 28 x 28 -> 784\n",
    "x_train = x_train.reshape(len(x_train), x_train.shape[1]*x_train.shape[2])\n",
    "x_test = x_test.reshape(len(x_test), x_test.shape[1]*x_test.shape[2])"
   ]
  },
  {
   "cell_type": "code",
   "execution_count": 11,
   "metadata": {},
   "outputs": [
    {
     "data": {
      "text/plain": [
       "(60000, 784)"
      ]
     },
     "execution_count": 11,
     "metadata": {},
     "output_type": "execute_result"
    }
   ],
   "source": [
    "x_train.shape"
   ]
  },
  {
   "cell_type": "code",
   "execution_count": 12,
   "metadata": {},
   "outputs": [
    {
     "data": {
      "text/plain": [
       "(10000, 784)"
      ]
     },
     "execution_count": 12,
     "metadata": {},
     "output_type": "execute_result"
    }
   ],
   "source": [
    "x_test.shape"
   ]
  },
  {
   "cell_type": "markdown",
   "metadata": {},
   "source": [
    "## Reshape the labels"
   ]
  },
  {
   "cell_type": "code",
   "execution_count": 13,
   "metadata": {},
   "outputs": [
    {
     "data": {
      "text/plain": [
       "(60000,)"
      ]
     },
     "execution_count": 13,
     "metadata": {},
     "output_type": "execute_result"
    }
   ],
   "source": [
    "y_train.shape"
   ]
  },
  {
   "cell_type": "code",
   "execution_count": 14,
   "metadata": {},
   "outputs": [
    {
     "data": {
      "text/plain": [
       "(10000,)"
      ]
     },
     "execution_count": 14,
     "metadata": {},
     "output_type": "execute_result"
    }
   ],
   "source": [
    "y_test.shape"
   ]
  },
  {
   "cell_type": "code",
   "execution_count": 15,
   "metadata": {},
   "outputs": [
    {
     "data": {
      "text/plain": [
       "(array([0, 1, 2, 3, 4, 5, 6, 7, 8, 9], dtype=uint8),\n",
       " array([0, 1, 2, 3, 4, 5, 6, 7, 8, 9], dtype=uint8))"
      ]
     },
     "execution_count": 15,
     "metadata": {},
     "output_type": "execute_result"
    }
   ],
   "source": [
    "np.unique(y_train), np.unique(y_test)"
   ]
  },
  {
   "cell_type": "code",
   "execution_count": 16,
   "metadata": {},
   "outputs": [
    {
     "data": {
      "text/plain": [
       "10"
      ]
     },
     "execution_count": 16,
     "metadata": {},
     "output_type": "execute_result"
    }
   ],
   "source": [
    "num_classes = len(np.unique(y_train))\n",
    "num_classes"
   ]
  },
  {
   "cell_type": "code",
   "execution_count": 17,
   "metadata": {},
   "outputs": [],
   "source": [
    "# convert class vectors to binary class matrices\n",
    "y_train = tf.keras.utils.to_categorical(y_train, num_classes)\n",
    "y_test = tf.keras.utils.to_categorical(y_test, num_classes)"
   ]
  },
  {
   "cell_type": "code",
   "execution_count": 18,
   "metadata": {},
   "outputs": [
    {
     "data": {
      "text/plain": [
       "(60000, 10)"
      ]
     },
     "execution_count": 18,
     "metadata": {},
     "output_type": "execute_result"
    }
   ],
   "source": [
    "y_train.shape"
   ]
  },
  {
   "cell_type": "code",
   "execution_count": 19,
   "metadata": {},
   "outputs": [
    {
     "data": {
      "text/plain": [
       "(10000, 10)"
      ]
     },
     "execution_count": 19,
     "metadata": {},
     "output_type": "execute_result"
    }
   ],
   "source": [
    "y_test.shape"
   ]
  },
  {
   "cell_type": "code",
   "execution_count": 20,
   "metadata": {},
   "outputs": [
    {
     "data": {
      "text/plain": [
       "784"
      ]
     },
     "execution_count": 20,
     "metadata": {},
     "output_type": "execute_result"
    }
   ],
   "source": [
    "dim_input=x_train.shape[1]\n",
    "dim_input"
   ]
  },
  {
   "cell_type": "markdown",
   "metadata": {},
   "source": [
    "## Visualize the data"
   ]
  },
  {
   "cell_type": "code",
   "execution_count": 21,
   "metadata": {},
   "outputs": [
    {
     "data": {
      "image/png": "[encoded data removed]",
      "text/plain": [
       "<Figure size 1440x288 with 5 Axes>"
      ]
     },
     "metadata": {
      "needs_background": "light"
     },
     "output_type": "display_data"
    }
   ],
   "source": [
    "plt.figure(figsize=(20,4))\n",
    "for index, (image, label) in enumerate(zip(x_train[0:5], y_train[0:5])):\n",
    "    plt.subplot(1, 5, index + 1)\n",
    "    plt.imshow(np.reshape(image, (28,28)), cmap=plt.cm.gray)\n",
    "    plt.title('Training: %i\\n' % np.argmax(label), fontsize = 20)"
   ]
  },
  {
   "cell_type": "markdown",
   "metadata": {},
   "source": [
    "## Defined some hyperparameters"
   ]
  },
  {
   "cell_type": "code",
   "execution_count": 36,
   "metadata": {},
   "outputs": [],
   "source": [
    "# learning rate\n",
    "learning_rate = 0.5\n",
    "# number of epoch to train our model\n",
    "epochs = 10\n",
    "# size of our mini batch\n",
    "batch_size = 128"
   ]
  },
  {
   "cell_type": "code",
   "execution_count": 23,
   "metadata": {},
   "outputs": [],
   "source": [
    "class UDFPrint(tf.keras.callbacks.Callback):\n",
    "    def __init__(self, test_data):\n",
    "        self.test_data = test_data\n",
    "        \n",
    "    def on_train_begin(self, logs={}):\n",
    "        return\n",
    "\n",
    "    def on_train_end(self, logs={}):\n",
    "        return\n",
    "\n",
    "    def on_epoch_begin(self, epoch, logs={}):\n",
    "        _, __, x_train, y_train = self.test_data\n",
    "        loss_train, acc_train = self.model.evaluate(x_train, y_train, verbose=0)\n",
    "        print('Reached epoch {0:3d} cost J = {1:.5f}'.format(epoch, loss_train))\n",
    "        return\n",
    "\n",
    "    def on_epoch_end(self, epoch, logs={}):\n",
    "        x_test, y_test, x_train, y_train = self.test_data\n",
    "        loss_train, acc_train = self.model.evaluate(x_train, y_train, verbose=0)\n",
    "        loss_test, acc_test = self.model.evaluate(x_test, y_test, verbose=0)\n",
    "        print(' accurary on the training set {0:.4f}'.format(acc_train))\n",
    "        print(' accurary on the testing set {0:.4f}'.format(acc_test))\n",
    "\n",
    "    def on_batch_begin(self, batch, logs={}):\n",
    "        #print('  ---> starting minibatch', batch)\n",
    "        return\n",
    "\n",
    "    def on_batch_end(self, batch, logs={}):\n",
    "        #print('  ---> ending minibatch', batch)\n",
    "        return\n",
    "return  "
   ]
  },
  {
   "cell_type": "markdown",
   "metadata": {},
   "source": [
    "## Defined our model"
   ]
  },
  {
   "cell_type": "code",
   "execution_count": 51,
   "metadata": {},
   "outputs": [],
   "source": [
    "def baseline_model():\n",
    "    # create model\n",
    "    model = tf.keras.Sequential()\n",
    " \n",
    "    # hidden layer\n",
    "    #model.add(tf.keras.layers.Dense(512, \n",
    "    #                input_dim=dim_input, \n",
    "    #                kernel_initializer=tf.keras.initializers.he_normal(),\n",
    "    #                bias_initializer=tf.keras.initializers.Zeros(),\n",
    "    #                activation='relu'))\n",
    "    # last layer\n",
    "    #model.add(tf.keras.layers.Dense(num_classes, \n",
    "    #                kernel_initializer=tf.keras.initializers.he_normal(),\n",
    "    #                bias_initializer=tf.keras.initializers.Zeros(),\n",
    "    #                activation='softmax'))\n",
    "    \n",
    "    # hidden layer\n",
    "    model.add(tf.keras.layers.Dense(512, \n",
    "                    input_dim=dim_input, \n",
    "                    kernel_initializer=tf.keras.initializers.he_normal(),\n",
    "                    bias_initializer=tf.keras.initializers.Zeros(),\n",
    "                    activation='relu'))\n",
    "    model.add(tf.keras.layers.Dropout(0.2))\n",
    "    \n",
    "    model.add(tf.keras.layers.Dense(512,  \n",
    "                    kernel_initializer=tf.keras.initializers.he_normal(),\n",
    "                    bias_initializer=tf.keras.initializers.Zeros(),\n",
    "                    activation='relu'))\n",
    "    model.add(tf.keras.layers.Dropout(0.2))\n",
    "        \n",
    "    # last layer\n",
    "    model.add(tf.keras.layers.Dense(num_classes, \n",
    "                    kernel_initializer=tf.keras.initializers.he_normal(),\n",
    "                    bias_initializer=tf.keras.initializers.Zeros(),\n",
    "                    activation='softmax'))\n",
    "    \n",
    "    # weight initialisation\n",
    "    # He: keras.initializers.he_normal(seed=None)\n",
    "    # Xavier: keras.initializers.glorot_uniform(seed=None)\n",
    "    # Radom Normal: keras.initializers.RandomNormal(mean=0.0, stddev=0.05, seed=None)\n",
    "    # Truncated Normal: keras.initializers.TruncatedNormal(mean=0.0, stddev=0.05, seed=None)\n",
    "    \n",
    "    # optimiser\n",
    "    optimiser=tf.keras.optimizers.Adam(lr=0.01, beta_1=0.9)\n",
    "    # GD/SGC: keras.optimizers.SGD(lr=0.01, momentum=0.0, decay=0.0, nesterov=False)\n",
    "    # Adam: keras.optimizers.Adam(lr=0.001, beta_1=0.9, beta_2=0.999, epsilon=None, decay=0.0, amsgrad=False)\n",
    "    # RMSProp: keras.optimizers.RMSprop(lr=0.001, rho=0.9, epsilon=None, decay=0.0)\n",
    "    # Momentum: keras.optimizers.SGD(lr=0.01, momentum=0.9, decay=0.0, nesterov=False)\n",
    "    \n",
    "    # Compile model\n",
    "    model.compile(loss='categorical_crossentropy', \n",
    "                  optimizer=optimiser, \n",
    "                  metrics=['accuracy'])\n",
    "    return model"
   ]
  },
  {
   "cell_type": "code",
   "execution_count": 52,
   "metadata": {},
   "outputs": [],
   "source": [
    "# build the model\n",
    "model = baseline_model()"
   ]
  },
  {
   "cell_type": "code",
   "execution_count": 53,
   "metadata": {},
   "outputs": [
    {
     "name": "stdout",
     "output_type": "stream",
     "text": [
      "_________________________________________________________________\n",
      "Layer (type)                 Output Shape              Param #   \n",
      "=================================================================\n",
      "dense_10 (Dense)             (None, 512)               401920    \n",
      "_________________________________________________________________\n",
      "dropout_4 (Dropout)          (None, 512)               0         \n",
      "_________________________________________________________________\n",
      "dense_11 (Dense)             (None, 512)               262656    \n",
      "_________________________________________________________________\n",
      "dropout_5 (Dropout)          (None, 512)               0         \n",
      "_________________________________________________________________\n",
      "dense_12 (Dense)             (None, 10)                5130      \n",
      "=================================================================\n",
      "Total params: 669,706\n",
      "Trainable params: 669,706\n",
      "Non-trainable params: 0\n",
      "_________________________________________________________________\n"
     ]
    }
   ],
   "source": [
    "model.summary()"
   ]
  },
  {
   "cell_type": "code",
   "execution_count": 60,
   "metadata": {},
   "outputs": [
    {
     "name": "stdout",
     "output_type": "stream",
     "text": [
      "Train on 60000 samples, validate on 10000 samples\n",
      "Reached epoch   0 cost J = 0.02215\n",
      "Epoch 1/20\n",
      " accurary on the training set 0.9935\n",
      " accurary on the testing set 0.9768\n",
      " - 19s - loss: 0.0658 - acc: 0.9822 - val_loss: 0.1239 - val_acc: 0.9768\n",
      "Reached epoch   1 cost J = 0.02167\n",
      "Epoch 2/20\n",
      " accurary on the training set 0.9935\n",
      " accurary on the testing set 0.9764\n",
      " - 22s - loss: 0.0715 - acc: 0.9824 - val_loss: 0.1297 - val_acc: 0.9764\n",
      "Reached epoch   2 cost J = 0.02285\n",
      "Epoch 3/20\n",
      " accurary on the training set 0.9931\n",
      " accurary on the testing set 0.9760\n",
      " - 20s - loss: 0.0740 - acc: 0.9821 - val_loss: 0.1287 - val_acc: 0.9760\n",
      "Reached epoch   3 cost J = 0.02532\n",
      "Epoch 4/20\n",
      " accurary on the training set 0.9927\n",
      " accurary on the testing set 0.9770\n",
      " - 21s - loss: 0.0756 - acc: 0.9812 - val_loss: 0.1079 - val_acc: 0.9770\n",
      "Reached epoch   4 cost J = 0.02384\n",
      "Epoch 5/20\n",
      " accurary on the training set 0.9932\n",
      " accurary on the testing set 0.9762\n",
      " - 19s - loss: 0.0673 - acc: 0.9824 - val_loss: 0.1150 - val_acc: 0.9762\n",
      "Reached epoch   5 cost J = 0.02257\n",
      "Epoch 6/20\n",
      " accurary on the training set 0.9912\n",
      " accurary on the testing set 0.9735\n",
      " - 19s - loss: 0.0757 - acc: 0.9812 - val_loss: 0.1297 - val_acc: 0.9735\n",
      "Reached epoch   6 cost J = 0.02960\n",
      "Epoch 7/20\n",
      " accurary on the training set 0.9926\n",
      " accurary on the testing set 0.9759\n",
      " - 11s - loss: 0.0808 - acc: 0.9790 - val_loss: 0.1331 - val_acc: 0.9759\n",
      "Reached epoch   7 cost J = 0.02632\n",
      "Epoch 8/20\n",
      " accurary on the training set 0.9927\n",
      " accurary on the testing set 0.9753\n",
      " - 11s - loss: 0.0729 - acc: 0.9822 - val_loss: 0.1415 - val_acc: 0.9753\n",
      "Reached epoch   8 cost J = 0.02526\n",
      "Epoch 9/20\n",
      " accurary on the training set 0.9922\n",
      " accurary on the testing set 0.9773\n",
      " - 15s - loss: 0.0737 - acc: 0.9819 - val_loss: 0.1240 - val_acc: 0.9773\n",
      "Reached epoch   9 cost J = 0.02747\n",
      "Epoch 10/20\n",
      " accurary on the training set 0.9933\n",
      " accurary on the testing set 0.9779\n",
      " - 16s - loss: 0.0758 - acc: 0.9822 - val_loss: 0.1224 - val_acc: 0.9779\n",
      "Reached epoch  10 cost J = 0.02359\n",
      "Epoch 11/20\n",
      " accurary on the training set 0.9922\n",
      " accurary on the testing set 0.9746\n",
      " - 18s - loss: 0.0733 - acc: 0.9823 - val_loss: 0.1254 - val_acc: 0.9746\n",
      "Reached epoch  11 cost J = 0.02488\n",
      "Epoch 12/20\n",
      " accurary on the training set 0.9948\n",
      " accurary on the testing set 0.9785\n",
      " - 18s - loss: 0.0712 - acc: 0.9827 - val_loss: 0.1207 - val_acc: 0.9785\n",
      "Reached epoch  12 cost J = 0.01894\n",
      "Epoch 13/20\n",
      " accurary on the training set 0.9933\n",
      " accurary on the testing set 0.9761\n",
      " - 18s - loss: 0.0695 - acc: 0.9841 - val_loss: 0.1271 - val_acc: 0.9761\n",
      "Reached epoch  13 cost J = 0.02274\n",
      "Epoch 14/20\n",
      " accurary on the training set 0.9941\n",
      " accurary on the testing set 0.9766\n",
      " - 18s - loss: 0.0760 - acc: 0.9822 - val_loss: 0.1403 - val_acc: 0.9766\n",
      "Reached epoch  14 cost J = 0.02179\n",
      "Epoch 15/20\n",
      " accurary on the training set 0.9951\n",
      " accurary on the testing set 0.9784\n",
      " - 17s - loss: 0.0642 - acc: 0.9849 - val_loss: 0.1190 - val_acc: 0.9784\n",
      "Reached epoch  15 cost J = 0.01806\n",
      "Epoch 16/20\n",
      " accurary on the training set 0.9932\n",
      " accurary on the testing set 0.9769\n",
      " - 19s - loss: 0.0648 - acc: 0.9837 - val_loss: 0.1383 - val_acc: 0.9769\n",
      "Reached epoch  16 cost J = 0.02380\n",
      "Epoch 17/20\n",
      " accurary on the training set 0.9943\n",
      " accurary on the testing set 0.9772\n",
      " - 18s - loss: 0.0656 - acc: 0.9839 - val_loss: 0.1182 - val_acc: 0.9772\n",
      "Reached epoch  17 cost J = 0.02057\n",
      "Epoch 18/20\n",
      " accurary on the training set 0.9945\n",
      " accurary on the testing set 0.9770\n",
      " - 14s - loss: 0.0801 - acc: 0.9819 - val_loss: 0.1371 - val_acc: 0.9770\n",
      "Reached epoch  18 cost J = 0.01933\n",
      "Epoch 19/20\n",
      " accurary on the training set 0.9926\n",
      " accurary on the testing set 0.9762\n",
      " - 9s - loss: 0.0754 - acc: 0.9826 - val_loss: 0.1347 - val_acc: 0.9762\n",
      "Reached epoch  19 cost J = 0.02526\n",
      "Epoch 20/20\n",
      " accurary on the training set 0.9934\n",
      " accurary on the testing set 0.9756\n",
      " - 9s - loss: 0.0772 - acc: 0.9824 - val_loss: 0.1209 - val_acc: 0.9756\n",
      "CPU times: user 17min 58s, sys: 50.6 s, total: 18min 49s\n",
      "Wall time: 7min 31s\n"
     ]
    }
   ],
   "source": [
    "%%time\n",
    "# Fit the model\n",
    "hist=model.fit(x_train, \n",
    "               y_train, \n",
    "               validation_data=(x_test, y_test),\n",
    "               callbacks=[UDFPrint((x_test, y_test, x_train, y_train))],\n",
    "               epochs=20,\n",
    "               batch_size=512, \n",
    "               verbose=2)"
   ]
  },
  {
   "cell_type": "code",
   "execution_count": 55,
   "metadata": {},
   "outputs": [
    {
     "name": "stdout",
     "output_type": "stream",
     "text": [
      "Test loss: 0.12968987973493823\n",
      "Test accuracy: 0.9705\n"
     ]
    }
   ],
   "source": [
    "score = model.evaluate(x_test, \n",
    "                       y_test, \n",
    "                       verbose=0)\n",
    "print('Test loss:', score[0])\n",
    "print('Test accuracy:', score[1])"
   ]
  },
  {
   "cell_type": "code",
   "execution_count": 56,
   "metadata": {},
   "outputs": [
    {
     "name": "stdout",
     "output_type": "stream",
     "text": [
      "Train loss: 0.06832173637855157\n",
      "Train accuracy: 0.97995\n"
     ]
    }
   ],
   "source": [
    "score = model.evaluate(x_train, \n",
    "                       y_train, \n",
    "                       verbose=0)\n",
    "print('Train loss:', score[0])\n",
    "print('Train accuracy:', score[1])"
   ]
  },
  {
   "cell_type": "markdown",
   "metadata": {},
   "source": [
    "## Plot for accuracy and loss"
   ]
  },
  {
   "cell_type": "code",
   "execution_count": 57,
   "metadata": {},
   "outputs": [],
   "source": [
    "def plot_acc_loss(history):\n",
    "    # plot the training loss and accuracy\n",
    "    fig = plt.figure(figsize=(9, 3), dpi=100)\n",
    "    plt.subplots_adjust(wspace = 0.6 )\n",
    "    ax1 = plt.subplot(121)\n",
    "    ax2 = plt.subplot(122)\n",
    "    ax1.plot(np.arange(0, EPOCHS), history.history['acc'], 'b', label='training accuracy')\n",
    "    ax1.plot(np.arange(0, EPOCHS), history.history['val_acc'], 'r', label='validation accuracy');\n",
    "    ax1.set_title('Accuracy')\n",
    "    ax1.set_xlabel(\"Number of epoch \")\n",
    "    ax1.set_ylabel(\"Accuracy\")\n",
    "    ax1.legend(loc=\"best\")\n",
    "\n",
    "\n",
    "    ax2.plot(np.arange(0, EPOCHS), history.history[\"loss\"], label=\"training loss\")\n",
    "    ax2.plot(np.arange(0, EPOCHS), history.history[\"val_loss\"], label=\"validation loss\")\n",
    "    ax2.set_title(\"Loss\")\n",
    "    ax2.set_xlabel(\"Number of epoch \")\n",
    "    ax2.set_ylabel(\"Loss\")\n",
    "    ax2.legend(loc=\"best\");\n",
    "    \n",
    "    print('Loss:')\n",
    "    print('  - loss [training dataset]: {0:.3f}'.format(history.history['loss'][-1]))\n",
    "    print('  - loss [validation dataset: {0:.3f}'.format(history.history['val_loss'][-1]))\n",
    "    print('')\n",
    "    print('Accuracy:')\n",
    "    print('  - accuracy [training dataset]: {:.2f}%'.format(100*history.history['acc'][-1]))\n",
    "    print('  - accuracy [validation dataset: {:.2f}%'.format(100*history.history['val_acc'][-1]))"
   ]
  },
  {
   "cell_type": "code",
   "execution_count": 46,
   "metadata": {},
   "outputs": [
    {
     "name": "stdout",
     "output_type": "stream",
     "text": [
      "Loss:\n",
      "  - loss [training dataset]: 0.054\n",
      "  - loss [validation dataset: 0.148\n",
      "\n",
      "Accuracy:\n",
      "  - accuracy [training dataset]: 98.62%\n",
      "  - accuracy [validation dataset: 97.41%\n"
     ]
    },
    {
     "data": {
      "image/png": "[encoded data removed]",
      "text/plain": [
       "<Figure size 900x300 with 2 Axes>"
      ]
     },
     "metadata": {
      "needs_background": "light"
     },
     "output_type": "display_data"
    }
   ],
   "source": [
    "EPOCHS=epochs\n",
    "plot_acc_loss(hist)"
   ]
  },
  {
   "cell_type": "code",
   "execution_count": 58,
   "metadata": {},
   "outputs": [],
   "source": [
    "# with keras optimiser we can save the model+weight\n",
    "model.save('keras_model.h5')"
   ]
  }
 ],
 "metadata": {
  "kernelspec": {
   "display_name": "Python [conda env:env_gcp_dl]",
   "language": "python",
   "name": "conda-env-env_gcp_dl-py"
  },
  "language_info": {
   "codemirror_mode": {
    "name": "ipython",
    "version": 3
   },
   "file_extension": ".py",
   "mimetype": "text/x-python",
   "name": "python",
   "nbconvert_exporter": "python",
   "pygments_lexer": "ipython3",
   "version": "3.6.6"
  },
  "latex_envs": {
   "LaTeX_envs_menu_present": true,
   "autoclose": false,
   "autocomplete": true,
   "bibliofile": "biblio.bib",
   "cite_by": "apalike",
   "current_citInitial": 1,
   "eqLabelWithNumbers": true,
   "eqNumInitial": 1,
   "hotkeys": {
    "equation": "Ctrl-E",
    "itemize": "Ctrl-I"
   },
   "labels_anchors": false,
   "latex_user_defs": false,
   "report_style_numbering": false,
   "user_envs_cfg": false
  },
  "toc": {
   "base_numbering": 1,
   "nav_menu": {},
   "number_sections": true,
   "sideBar": true,
   "skip_h1_title": false,
   "title_cell": "Table of Contents",
   "title_sidebar": "Contents",
   "toc_cell": false,
   "toc_position": {},
   "toc_section_display": true,
   "toc_window_display": false
  },
  "varInspector": {
   "cols": {
    "lenName": 16,
    "lenType": 16,
    "lenVar": 40
   },
   "kernels_config": {
    "python": {
     "delete_cmd_postfix": "",
     "delete_cmd_prefix": "del ",
     "library": "var_list.py",
     "varRefreshCmd": "print(var_dic_list())"
    },
    "r": {
     "delete_cmd_postfix": ") ",
     "delete_cmd_prefix": "rm(",
     "library": "var_list.r",
     "varRefreshCmd": "cat(var_dic_list()) "
    }
   },
   "types_to_exclude": [
    "module",
    "function",
    "builtin_function_or_method",
    "instance",
    "_Feature"
   ],
   "window_display": false
  }
 },
 "nbformat": 4,
 "nbformat_minor": 2
}
