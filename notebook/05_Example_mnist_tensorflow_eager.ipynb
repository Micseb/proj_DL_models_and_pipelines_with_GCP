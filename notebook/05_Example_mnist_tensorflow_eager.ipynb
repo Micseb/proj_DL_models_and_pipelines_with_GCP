{
 "cells": [
  {
   "cell_type": "markdown",
   "metadata": {},
   "source": [
    "# MNIST classification example with TensorFlow"
   ]
  },
  {
   "cell_type": "markdown",
   "metadata": {},
   "source": [
    "## Install packages on Google  Cloud Datalab (locally use conda env)\n",
    "### Select in the Python3 Kernel:\n",
    "In the menu bar the of 'Kernel', select   \n",
    "**python3**\n",
    "### Install needed packages\n",
    "copy the command below in a Google Cloud Datalab cell  \n",
    "**!pip install tensorflow==1.12**\n",
    "### Restart the Kernel \n",
    "this is to take into account the new installed packages. Click in the menu bar on:  \n",
    "**Reset Session**"
   ]
  },
  {
   "cell_type": "markdown",
   "metadata": {},
   "source": [
    "## Needed librairies"
   ]
  },
  {
   "cell_type": "code",
   "execution_count": 2,
   "metadata": {},
   "outputs": [],
   "source": [
    "import tensorflow as tf\n",
    "import tensorflow.contrib.eager as tfe\n",
    "import numpy as np\n",
    "import matplotlib.pyplot as plt"
   ]
  },
  {
   "cell_type": "code",
   "execution_count": 3,
   "metadata": {},
   "outputs": [
    {
     "data": {
      "text/plain": [
       "'1.11.0'"
      ]
     },
     "execution_count": 3,
     "metadata": {},
     "output_type": "execute_result"
    }
   ],
   "source": [
    "tf.__version__"
   ]
  },
  {
   "cell_type": "code",
   "execution_count": 4,
   "metadata": {},
   "outputs": [],
   "source": [
    "tf.enable_eager_execution()"
   ]
  },
  {
   "cell_type": "code",
   "execution_count": 5,
   "metadata": {},
   "outputs": [
    {
     "data": {
      "text/plain": [
       "True"
      ]
     },
     "execution_count": 5,
     "metadata": {},
     "output_type": "execute_result"
    }
   ],
   "source": [
    "tf.executing_eagerly() "
   ]
  },
  {
   "cell_type": "markdown",
   "metadata": {},
   "source": [
    "## Import the Data"
   ]
  },
  {
   "cell_type": "code",
   "execution_count": 6,
   "metadata": {},
   "outputs": [],
   "source": [
    "# get mnist data, split between train and test sets\n",
    "# on GCP\n",
    "#(x_train, y_train), (x_test, y_test) = tf.keras.datasets.mnist.load_data()\n",
    "# with AXA network\n",
    "import gzip\n",
    "import sys\n",
    "import _pickle as cPickle\n",
    "def load_data(path):\n",
    "    f = gzip.open(path, 'rb')\n",
    "    if sys.version_info < (3,):\n",
    "        data = cPickle.load(f)\n",
    "    else:\n",
    "        data = cPickle.load(f, encoding='bytes')\n",
    "    f.close()\n",
    "    return data\n",
    "(x_train, y_train), (x_test, y_test) = load_data(path='../data/mnist.pkl.gz')"
   ]
  },
  {
   "cell_type": "code",
   "execution_count": 7,
   "metadata": {},
   "outputs": [
    {
     "data": {
      "text/plain": [
       "(60000, 28, 28)"
      ]
     },
     "execution_count": 7,
     "metadata": {},
     "output_type": "execute_result"
    }
   ],
   "source": [
    "# check data shape (training)\n",
    "x_train.shape"
   ]
  },
  {
   "cell_type": "code",
   "execution_count": 8,
   "metadata": {},
   "outputs": [
    {
     "data": {
      "text/plain": [
       "(10000, 28, 28)"
      ]
     },
     "execution_count": 8,
     "metadata": {},
     "output_type": "execute_result"
    }
   ],
   "source": [
    "# check data shape (train)\n",
    "x_test.shape"
   ]
  },
  {
   "cell_type": "code",
   "execution_count": 9,
   "metadata": {},
   "outputs": [
    {
     "data": {
      "text/plain": [
       "(dtype('uint8'), dtype('uint8'))"
      ]
     },
     "execution_count": 9,
     "metadata": {},
     "output_type": "execute_result"
    }
   ],
   "source": [
    "x_train.dtype, x_test.dtype"
   ]
  },
  {
   "cell_type": "code",
   "execution_count": 10,
   "metadata": {},
   "outputs": [
    {
     "data": {
      "text/plain": [
       "(255, 0, 255, 0)"
      ]
     },
     "execution_count": 10,
     "metadata": {},
     "output_type": "execute_result"
    }
   ],
   "source": [
    "np.max(x_train), np.min(x_train), np.max(x_test), np.min(x_test)  "
   ]
  },
  {
   "cell_type": "markdown",
   "metadata": {},
   "source": [
    "## Normalize and reorganize the data"
   ]
  },
  {
   "cell_type": "code",
   "execution_count": 11,
   "metadata": {},
   "outputs": [],
   "source": [
    "# cast uint8 -> float32\n",
    "x_train = x_train.astype('float32')\n",
    "x_test = x_test.astype('float32')"
   ]
  },
  {
   "cell_type": "code",
   "execution_count": 12,
   "metadata": {},
   "outputs": [],
   "source": [
    "# renormalize the data 255 grey variation\n",
    "x_train /= 255\n",
    "x_test /= 255"
   ]
  },
  {
   "cell_type": "code",
   "execution_count": 13,
   "metadata": {},
   "outputs": [],
   "source": [
    "# reshape the data 28 x 28 -> 784\n",
    "x_train = x_train.reshape(len(x_train), x_train.shape[1]*x_train.shape[2])\n",
    "x_test = x_test.reshape(len(x_test), x_test.shape[1]*x_test.shape[2])"
   ]
  },
  {
   "cell_type": "code",
   "execution_count": 14,
   "metadata": {},
   "outputs": [
    {
     "data": {
      "text/plain": [
       "(60000, 784)"
      ]
     },
     "execution_count": 14,
     "metadata": {},
     "output_type": "execute_result"
    }
   ],
   "source": [
    "x_train.shape"
   ]
  },
  {
   "cell_type": "code",
   "execution_count": 15,
   "metadata": {},
   "outputs": [
    {
     "data": {
      "text/plain": [
       "(10000, 784)"
      ]
     },
     "execution_count": 15,
     "metadata": {},
     "output_type": "execute_result"
    }
   ],
   "source": [
    "x_test.shape"
   ]
  },
  {
   "cell_type": "markdown",
   "metadata": {},
   "source": [
    "## Reshape the labels"
   ]
  },
  {
   "cell_type": "code",
   "execution_count": 16,
   "metadata": {},
   "outputs": [
    {
     "data": {
      "text/plain": [
       "(60000,)"
      ]
     },
     "execution_count": 16,
     "metadata": {},
     "output_type": "execute_result"
    }
   ],
   "source": [
    "y_train.shape"
   ]
  },
  {
   "cell_type": "code",
   "execution_count": 17,
   "metadata": {},
   "outputs": [
    {
     "data": {
      "text/plain": [
       "(10000,)"
      ]
     },
     "execution_count": 17,
     "metadata": {},
     "output_type": "execute_result"
    }
   ],
   "source": [
    "y_test.shape"
   ]
  },
  {
   "cell_type": "code",
   "execution_count": 18,
   "metadata": {},
   "outputs": [
    {
     "data": {
      "text/plain": [
       "(array([0, 1, 2, 3, 4, 5, 6, 7, 8, 9], dtype=uint8),\n",
       " array([0, 1, 2, 3, 4, 5, 6, 7, 8, 9], dtype=uint8))"
      ]
     },
     "execution_count": 18,
     "metadata": {},
     "output_type": "execute_result"
    }
   ],
   "source": [
    "np.unique(y_train), np.unique(y_test)"
   ]
  },
  {
   "cell_type": "code",
   "execution_count": 19,
   "metadata": {},
   "outputs": [
    {
     "data": {
      "text/plain": [
       "10"
      ]
     },
     "execution_count": 19,
     "metadata": {},
     "output_type": "execute_result"
    }
   ],
   "source": [
    "num_classes = len(np.unique(y_train))\n",
    "num_classes"
   ]
  },
  {
   "cell_type": "code",
   "execution_count": 20,
   "metadata": {},
   "outputs": [],
   "source": [
    "# convert class vectors to binary class matrices\n",
    "y_train = tf.keras.utils.to_categorical(y_train, num_classes)\n",
    "y_test = tf.keras.utils.to_categorical(y_test, num_classes)"
   ]
  },
  {
   "cell_type": "code",
   "execution_count": 21,
   "metadata": {},
   "outputs": [
    {
     "data": {
      "text/plain": [
       "(60000, 10)"
      ]
     },
     "execution_count": 21,
     "metadata": {},
     "output_type": "execute_result"
    }
   ],
   "source": [
    "y_train.shape"
   ]
  },
  {
   "cell_type": "code",
   "execution_count": 22,
   "metadata": {},
   "outputs": [
    {
     "data": {
      "text/plain": [
       "(10000, 10)"
      ]
     },
     "execution_count": 22,
     "metadata": {},
     "output_type": "execute_result"
    }
   ],
   "source": [
    "y_test.shape"
   ]
  },
  {
   "cell_type": "code",
   "execution_count": 23,
   "metadata": {},
   "outputs": [
    {
     "data": {
      "text/plain": [
       "784"
      ]
     },
     "execution_count": 23,
     "metadata": {},
     "output_type": "execute_result"
    }
   ],
   "source": [
    "dim_input=x_train.shape[1]\n",
    "dim_input"
   ]
  },
  {
   "cell_type": "markdown",
   "metadata": {},
   "source": [
    "## Visualize the data"
   ]
  },
  {
   "cell_type": "code",
   "execution_count": 24,
   "metadata": {},
   "outputs": [
    {
     "data": {
      "image/png": "[encoded data removed]",
      "text/plain": [
       "<Figure size 1440x288 with 5 Axes>"
      ]
     },
     "metadata": {
      "needs_background": "light"
     },
     "output_type": "display_data"
    }
   ],
   "source": [
    "plt.figure(figsize=(20,4))\n",
    "for index, (image, label) in enumerate(zip(x_train[0:5], y_train[0:5])):\n",
    "    plt.subplot(1, 5, index + 1)\n",
    "    plt.imshow(np.reshape(image, (28,28)), cmap=plt.cm.gray)\n",
    "    plt.title('Training: %i\\n' % np.argmax(label), fontsize = 20)"
   ]
  },
  {
   "cell_type": "markdown",
   "metadata": {},
   "source": [
    "## Defined some hyperparameters"
   ]
  },
  {
   "cell_type": "code",
   "execution_count": 25,
   "metadata": {},
   "outputs": [],
   "source": [
    "# print info every n_print\n",
    "n_print = 1\n",
    "\n",
    "# hidden layer 1\n",
    "n1=300\n",
    "\n",
    "#learning_r=0.01"
   ]
  },
  {
   "cell_type": "markdown",
   "metadata": {},
   "source": [
    "## Defined our model"
   ]
  },
  {
   "cell_type": "code",
   "execution_count": 26,
   "metadata": {},
   "outputs": [],
   "source": [
    "# x [60000, 784]\n",
    "# y [60000, 10]\n",
    "\n",
    "# 1 layer n1 with 200 neurones\n",
    "# n1 = 300\n",
    "\n",
    "#  . . . . . .    input data (ffattened pixels)      x [batch    ,   dim_input]\n",
    "#   \\x/\\x/x/      -- fully connected layer (relu)    W1[dim_input,          n1]      B1[n1         ]\n",
    "#    . . .                                           Y1[batch    ,          n1]\n",
    "#     \\x/         -- fully connected layer (softmax) W2[n1       , num_classes]      B2[num_classes]\n",
    "#      .                                             Y2[batch    , num_classes]\n",
    "\n",
    "# reset graph before starting\n",
    "tf.reset_default_graph()\n",
    "\n",
    "# tensor (placeholder) for the learning rate: learning_rate -> not needed with Eager execution\n",
    "\n",
    "# tensor (placeholder) for the momentum: momentum -> not needed with Eager execution\n",
    "\n",
    "# tensor (placeholder) for the input data [60000, 784]: x -> not needed with Eager execution\n",
    "\n",
    "# tensor (placeholder) for the output data [60000, 10]: y -> not needed with Eager execution\n",
    "\n",
    "# now declare the weights connecting the input to the hidden layer\n",
    "W1 = tf.Variable(tf.random_normal([dim_input, n1], stddev=0.03), name='W1')\n",
    "b1 = tf.Variable(tf.random_normal([n1]), name='b1')\n",
    "# and the weights connecting the hidden layer to the output layer\n",
    "W2 = tf.Variable(tf.random_normal([n1, num_classes], stddev=0.03), name='W2')\n",
    "b2 = tf.Variable(tf.random_normal([num_classes]), name='b2')\n",
    "\n",
    "# now let's define the cost function which we are going to train the model on\n",
    "# cross entropy defined manually -> need to be a function in Eager mode\n",
    "# -sum(y * log(y_) + (1-y) * log(1-y_))\n",
    "# need to be a function -> Eager execution\n",
    "def cost(x,y): \n",
    "    \n",
    "    # calculate the output of the hidden layer\n",
    "    Y1 = tf.nn.relu(tf.matmul(x, W1) + b1)\n",
    "\n",
    "    # last layer\n",
    "    Ylogits= tf.matmul(Y1, W2) + b2\n",
    "\n",
    "    # output layer\n",
    "    y_ = tf.nn.softmax(Ylogits)\n",
    "    \n",
    "    y_clipped = tf.clip_by_value(y_, 1e-10, 0.9999999) # if value are below 1e-10 return 1e-10 same of 0.9999999\n",
    "    cross_entropy = tf.reduce_sum(y * tf.log(y_clipped)+ (1 - y) * tf.log(1 - y_clipped), axis=1)\n",
    "    cost = -tf.reduce_mean(cross_entropy)\n",
    "    \n",
    "    return cost, y_\n",
    "\n",
    "# define an accuracy assessment operation\n",
    "# need to be a function -> Eager execution\n",
    "def acc(y_, y):\n",
    "    # define an accuracy assessment operation\n",
    "    correct_prediction = tf.equal(tf.argmax(y, 1), tf.argmax(y_, 1))\n",
    "    accuracy = tf.reduce_mean(tf.cast(correct_prediction, tf.float32))\n",
    "    \n",
    "    return accuracy.numpy() "
   ]
  },
  {
   "cell_type": "code",
   "execution_count": 27,
   "metadata": {},
   "outputs": [],
   "source": [
    "def run_logistic_model(learning_r, training_epochs, train_obs, train_labels, test_obs, test_labels, debug = False):\n",
    "    cost_history_train = np.empty(shape=[0], dtype = float)\n",
    "    cost_history_test = np.empty(shape=[0], dtype = float)\n",
    "    \n",
    "    # add an optimiser\n",
    "    optimiser = tf.train.GradientDescentOptimizer(learning_rate=learning_r)\n",
    "\n",
    "    # to add for Eager optimisation\n",
    "    grad=tfe.implicit_gradients(cost)\n",
    "\n",
    "    for epoch in range(training_epochs+1):\n",
    "        \n",
    "        optimiser.apply_gradients(grad(train_obs, train_labels))\n",
    "        \n",
    "        cost_train, y_train_ = cost(train_obs, train_labels)\n",
    "        cost_history_train = np.append(cost_history_train, cost_train.numpy())\n",
    "            \n",
    "        cost_test, y_test_ = cost(test_obs, test_labels)\n",
    "        cost_history_test = np.append(cost_history_test, cost_test.numpy())\n",
    "        \n",
    "        if (epoch % n_print == 0) & debug:\n",
    "            print(\"Reached epoch\", epoch, \"cost J =\", str.format('{0:.6f}', cost_train))\n",
    "        \n",
    "            acc_train=acc(y_train_.numpy(), train_labels)\n",
    "            acc_test=acc(y_test_.numpy(), test_labels)      \n",
    "\n",
    "            print(\" accurary on the training set\", str.format('{0:.2f}', acc_train))\n",
    "            print(\" accurary on the testing set\", str.format('{0:.2f}', acc_test))\n",
    "            \n",
    "    print (\"Accuracy on training data:\", acc(y_train_.numpy(), y_train))\n",
    "    print (\"Accuracy on testing data:\",  acc(y_test_.numpy(), y_test))\n",
    "    \n",
    "    return cost_history_train, cost_history_test"
   ]
  },
  {
   "cell_type": "code",
   "execution_count": 28,
   "metadata": {
    "scrolled": false
   },
   "outputs": [
    {
     "name": "stdout",
     "output_type": "stream",
     "text": [
      "Reached epoch 0 cost J = 4.068940\n",
      " accurary on the training set 0.13\n",
      " accurary on the testing set 0.14\n",
      "Reached epoch 1 cost J = 3.944401\n",
      " accurary on the training set 0.10\n",
      " accurary on the testing set 0.10\n",
      "Reached epoch 2 cost J = 4.000701\n",
      " accurary on the training set 0.27\n",
      " accurary on the testing set 0.28\n",
      "Reached epoch 3 cost J = 3.346773\n",
      " accurary on the training set 0.18\n",
      " accurary on the testing set 0.18\n",
      "Reached epoch 4 cost J = 3.276562\n",
      " accurary on the training set 0.23\n",
      " accurary on the testing set 0.25\n",
      "Reached epoch 5 cost J = 2.968157\n",
      " accurary on the training set 0.34\n",
      " accurary on the testing set 0.35\n",
      "Reached epoch 6 cost J = 2.828138\n",
      " accurary on the training set 0.37\n",
      " accurary on the testing set 0.38\n",
      "Reached epoch 7 cost J = 2.735630\n",
      " accurary on the training set 0.62\n",
      " accurary on the testing set 0.63\n",
      "Reached epoch 8 cost J = 2.608173\n",
      " accurary on the training set 0.48\n",
      " accurary on the testing set 0.50\n",
      "Reached epoch 9 cost J = 2.530158\n",
      " accurary on the training set 0.68\n",
      " accurary on the testing set 0.69\n",
      "Reached epoch 10 cost J = 2.394828\n",
      " accurary on the training set 0.56\n",
      " accurary on the testing set 0.58\n",
      "Reached epoch 11 cost J = 2.333690\n",
      " accurary on the training set 0.69\n",
      " accurary on the testing set 0.70\n",
      "Reached epoch 12 cost J = 2.179119\n",
      " accurary on the training set 0.64\n",
      " accurary on the testing set 0.66\n",
      "Reached epoch 13 cost J = 2.129622\n",
      " accurary on the training set 0.71\n",
      " accurary on the testing set 0.72\n",
      "Reached epoch 14 cost J = 1.982296\n",
      " accurary on the training set 0.69\n",
      " accurary on the testing set 0.70\n",
      "Reached epoch 15 cost J = 1.946181\n",
      " accurary on the training set 0.71\n",
      " accurary on the testing set 0.72\n",
      "Reached epoch 16 cost J = 1.822989\n",
      " accurary on the training set 0.70\n",
      " accurary on the testing set 0.71\n",
      "Reached epoch 17 cost J = 1.780753\n",
      " accurary on the training set 0.70\n",
      " accurary on the testing set 0.71\n",
      "Reached epoch 18 cost J = 1.731689\n",
      " accurary on the training set 0.67\n",
      " accurary on the testing set 0.68\n",
      "Reached epoch 19 cost J = 1.644196\n",
      " accurary on the training set 0.70\n",
      " accurary on the testing set 0.71\n",
      "Reached epoch 20 cost J = 1.590945\n",
      " accurary on the training set 0.71\n",
      " accurary on the testing set 0.72\n",
      "Reached epoch 21 cost J = 1.557783\n",
      " accurary on the training set 0.69\n",
      " accurary on the testing set 0.70\n",
      "Reached epoch 22 cost J = 1.532350\n",
      " accurary on the training set 0.72\n",
      " accurary on the testing set 0.73\n",
      "Reached epoch 23 cost J = 1.461797\n",
      " accurary on the training set 0.71\n",
      " accurary on the testing set 0.72\n",
      "Reached epoch 24 cost J = 1.515607\n",
      " accurary on the training set 0.71\n",
      " accurary on the testing set 0.71\n",
      "Reached epoch 25 cost J = 1.437510\n",
      " accurary on the training set 0.69\n",
      " accurary on the testing set 0.70\n",
      "Reached epoch 26 cost J = 1.520254\n",
      " accurary on the training set 0.69\n",
      " accurary on the testing set 0.70\n",
      "Reached epoch 27 cost J = 1.350485\n",
      " accurary on the training set 0.72\n",
      " accurary on the testing set 0.73\n",
      "Reached epoch 28 cost J = 1.371774\n",
      " accurary on the training set 0.75\n",
      " accurary on the testing set 0.75\n",
      "Reached epoch 29 cost J = 1.285409\n",
      " accurary on the training set 0.73\n",
      " accurary on the testing set 0.74\n",
      "Reached epoch 30 cost J = 1.264455\n",
      " accurary on the training set 0.77\n",
      " accurary on the testing set 0.78\n",
      "Reached epoch 31 cost J = 1.220666\n",
      " accurary on the training set 0.74\n",
      " accurary on the testing set 0.75\n",
      "Reached epoch 32 cost J = 1.162520\n",
      " accurary on the training set 0.80\n",
      " accurary on the testing set 0.80\n",
      "Reached epoch 33 cost J = 1.177329\n",
      " accurary on the training set 0.75\n",
      " accurary on the testing set 0.75\n",
      "Reached epoch 34 cost J = 1.114463\n",
      " accurary on the training set 0.80\n",
      " accurary on the testing set 0.80\n",
      "Reached epoch 35 cost J = 1.146543\n",
      " accurary on the training set 0.76\n",
      " accurary on the testing set 0.76\n",
      "Reached epoch 36 cost J = 1.074247\n",
      " accurary on the training set 0.80\n",
      " accurary on the testing set 0.81\n",
      "Reached epoch 37 cost J = 1.070246\n",
      " accurary on the training set 0.77\n",
      " accurary on the testing set 0.78\n",
      "Reached epoch 38 cost J = 1.025874\n",
      " accurary on the training set 0.81\n",
      " accurary on the testing set 0.82\n",
      "Reached epoch 39 cost J = 1.042076\n",
      " accurary on the training set 0.78\n",
      " accurary on the testing set 0.79\n",
      "Reached epoch 40 cost J = 0.985322\n",
      " accurary on the training set 0.82\n",
      " accurary on the testing set 0.83\n",
      "Reached epoch 41 cost J = 0.992602\n",
      " accurary on the training set 0.80\n",
      " accurary on the testing set 0.81\n",
      "Reached epoch 42 cost J = 0.952054\n",
      " accurary on the training set 0.83\n",
      " accurary on the testing set 0.83\n",
      "Reached epoch 43 cost J = 0.972476\n",
      " accurary on the training set 0.80\n",
      " accurary on the testing set 0.81\n",
      "Reached epoch 44 cost J = 0.924109\n",
      " accurary on the training set 0.83\n",
      " accurary on the testing set 0.84\n",
      "Reached epoch 45 cost J = 0.941111\n",
      " accurary on the training set 0.81\n",
      " accurary on the testing set 0.82\n",
      "Reached epoch 46 cost J = 0.902983\n",
      " accurary on the training set 0.83\n",
      " accurary on the testing set 0.84\n",
      "Reached epoch 47 cost J = 0.925331\n",
      " accurary on the training set 0.81\n",
      " accurary on the testing set 0.82\n",
      "Reached epoch 48 cost J = 0.886735\n",
      " accurary on the training set 0.83\n",
      " accurary on the testing set 0.84\n",
      "Reached epoch 49 cost J = 0.905053\n",
      " accurary on the training set 0.82\n",
      " accurary on the testing set 0.83\n",
      "Reached epoch 50 cost J = 0.872090\n",
      " accurary on the training set 0.84\n",
      " accurary on the testing set 0.84\n",
      "Accuracy on training data: 0.8362167\n",
      "Accuracy on testing data: 0.8436\n"
     ]
    }
   ],
   "source": [
    "cost_history_train, cost_history_test = run_logistic_model(learning_r = 0.2, \n",
    "                                                           training_epochs = 50,\n",
    "                                                           train_obs = x_train, \n",
    "                                                           train_labels = y_train, \n",
    "                                                           test_obs = x_test,\n",
    "                                                           test_labels = y_test, \n",
    "                                                           debug = True)"
   ]
  },
  {
   "cell_type": "code",
   "execution_count": 32,
   "metadata": {},
   "outputs": [
    {
     "data": {
      "image/png": "[encoded data removed]",
      "text/plain": [
       "<Figure size 720x576 with 1 Axes>"
      ]
     },
     "metadata": {
      "needs_background": "light"
     },
     "output_type": "display_data"
    }
   ],
   "source": [
    "plt.rc('font', family='arial')\n",
    "plt.rc('xtick', labelsize='x-small')\n",
    "plt.rc('ytick', labelsize='x-small')\n",
    "\n",
    "fig = plt.figure(figsize=(10,8))\n",
    "ax = fig.add_subplot(1, 1, 1)\n",
    "ax.plot(cost_history_train, ls='-', color = 'black', lw = 3, label = r'Training $\\gamma = 0.01$')\n",
    "ax.plot(cost_history_test, ls='--', color = 'blue', lw = 3, label = r'Testing $\\gamma = 0.01$')\n",
    "ax.set_xlabel('epochs', fontsize = 16)\n",
    "ax.set_ylabel('Cost function $J$', fontsize = 16)\n",
    "\n",
    "plt.legend(bbox_to_anchor=(1.05, 1), loc=2, borderaxespad=0., fontsize = 16)\n",
    "plt.tick_params(labelsize=16);"
   ]
  }
 ],
 "metadata": {
  "kernelspec": {
   "display_name": "Python [conda env:env_gcp_dl]",
   "language": "python",
   "name": "conda-env-env_gcp_dl-py"
  },
  "language_info": {
   "codemirror_mode": {
    "name": "ipython",
    "version": 3
   },
   "file_extension": ".py",
   "mimetype": "text/x-python",
   "name": "python",
   "nbconvert_exporter": "python",
   "pygments_lexer": "ipython3",
   "version": "3.6.6"
  },
  "latex_envs": {
   "LaTeX_envs_menu_present": true,
   "autoclose": false,
   "autocomplete": true,
   "bibliofile": "biblio.bib",
   "cite_by": "apalike",
   "current_citInitial": 1,
   "eqLabelWithNumbers": true,
   "eqNumInitial": 1,
   "hotkeys": {
    "equation": "Ctrl-E",
    "itemize": "Ctrl-I"
   },
   "labels_anchors": false,
   "latex_user_defs": false,
   "report_style_numbering": false,
   "user_envs_cfg": false
  },
  "toc": {
   "base_numbering": 1,
   "nav_menu": {},
   "number_sections": true,
   "sideBar": true,
   "skip_h1_title": false,
   "title_cell": "Table of Contents",
   "title_sidebar": "Contents",
   "toc_cell": false,
   "toc_position": {},
   "toc_section_display": true,
   "toc_window_display": false
  },
  "varInspector": {
   "cols": {
    "lenName": 16,
    "lenType": 16,
    "lenVar": 40
   },
   "kernels_config": {
    "python": {
     "delete_cmd_postfix": "",
     "delete_cmd_prefix": "del ",
     "library": "var_list.py",
     "varRefreshCmd": "print(var_dic_list())"
    },
    "r": {
     "delete_cmd_postfix": ") ",
     "delete_cmd_prefix": "rm(",
     "library": "var_list.r",
     "varRefreshCmd": "cat(var_dic_list()) "
    }
   },
   "types_to_exclude": [
    "module",
    "function",
    "builtin_function_or_method",
    "instance",
    "_Feature"
   ],
   "window_display": false
  }
 },
 "nbformat": 4,
 "nbformat_minor": 2
}
