{
 "cells": [
  {
   "cell_type": "markdown",
   "metadata": {},
   "source": [
    "# test big query view access for data scientist\n",
    "for info: Filippo Burnelli \n",
    "-  test to make sure d.s. can access bigquery view\n",
    "- https://beam.apache.org/documentation/io/built-in/google-bigquery/#storage-api (see limitations)"
   ]
  },
  {
   "cell_type": "code",
   "execution_count": 1,
   "metadata": {},
   "outputs": [],
   "source": [
    "BUCKET = 'axa-ch-machine-learning-poc-dev'\n",
    "PROJECT = 'axa-ch-machine-learning-dev'\n",
    "REGION = 'europe-west1'\n",
    "ZONE = 'europe-west6-a'"
   ]
  },
  {
   "cell_type": "code",
   "execution_count": 2,
   "metadata": {},
   "outputs": [],
   "source": [
    "import os\n",
    "os.environ['BUCKET'] = BUCKET\n",
    "os.environ['PROJECT'] = PROJECT\n",
    "os.environ['REGION'] = REGION\n"
   ]
  },
  {
   "cell_type": "markdown",
   "metadata": {},
   "source": [
    "## Access a view for exploration"
   ]
  },
  {
   "cell_type": "code",
   "execution_count": 5,
   "metadata": {},
   "outputs": [
    {
     "data": {
      "text/html": [
       "<div>\n",
       "<style scoped>\n",
       "    .dataframe tbody tr th:only-of-type {\n",
       "        vertical-align: middle;\n",
       "    }\n",
       "\n",
       "    .dataframe tbody tr th {\n",
       "        vertical-align: top;\n",
       "    }\n",
       "\n",
       "    .dataframe thead th {\n",
       "        text-align: right;\n",
       "    }\n",
       "</style>\n",
       "<table border=\"1\" class=\"dataframe\">\n",
       "  <thead>\n",
       "    <tr style=\"text-align: right;\">\n",
       "      <th></th>\n",
       "      <th>vehAge</th>\n",
       "      <th>drivAge</th>\n",
       "    </tr>\n",
       "  </thead>\n",
       "  <tbody>\n",
       "    <tr>\n",
       "      <th>0</th>\n",
       "      <td>0</td>\n",
       "      <td>36</td>\n",
       "    </tr>\n",
       "    <tr>\n",
       "      <th>1</th>\n",
       "      <td>0</td>\n",
       "      <td>36</td>\n",
       "    </tr>\n",
       "    <tr>\n",
       "      <th>2</th>\n",
       "      <td>11</td>\n",
       "      <td>35</td>\n",
       "    </tr>\n",
       "    <tr>\n",
       "      <th>3</th>\n",
       "      <td>18</td>\n",
       "      <td>44</td>\n",
       "    </tr>\n",
       "    <tr>\n",
       "      <th>4</th>\n",
       "      <td>12</td>\n",
       "      <td>31</td>\n",
       "    </tr>\n",
       "  </tbody>\n",
       "</table>\n",
       "</div>"
      ],
      "text/plain": [
       "   vehAge  drivAge\n",
       "0       0       36\n",
       "1       0       36\n",
       "2      11       35\n",
       "3      18       44\n",
       "4      12       31"
      ]
     },
     "execution_count": 5,
     "metadata": {},
     "output_type": "execute_result"
    }
   ],
   "source": [
    "# Create SQL query \n",
    "\"\"\" CREATE OR REPLACE VIEW `axa-ch-machine-learning-dev.vw_frenc_claims.vw_freMTPL2freq` AS select   vehAge,drivAge from `axa-ch-machine-learning-dev.french_claims.freMTPL2freq`;\"\"\"\n",
    "\n",
    "query = \"\"\"SELECT *  FROM `axa-ch-machine-learning-dev.vw_frenc_claims.vw_freMTPL2freq`  \"\"\"\n",
    "\n",
    "# Call BigQuery and examine in dataframe\n",
    "import google.datalab.bigquery as bq\n",
    "df = bq.Query(query + \" LIMIT 100\").execute().result().to_dataframe()\n",
    "df.head()"
   ]
  },
  {
   "cell_type": "markdown",
   "metadata": {},
   "source": [
    "## Beam processing"
   ]
  },
  {
   "cell_type": "code",
   "execution_count": 25,
   "metadata": {},
   "outputs": [],
   "source": [
    "import apache_beam as beam\n",
    "import datetime, os\n",
    "\n",
    "def to_csv(rowdict):\n",
    "  s=''\n",
    "  #for key, value in rowdict.iteritems():\n",
    "  #      s=s+value+','\n",
    "  s=','.join([str(rowdict[k]) for k,v in rowdict.iteritems()])\n",
    "  yield s\n",
    "    \n",
    "def preprocess(in_test_mode,query):\n",
    "  import shutil, os, subprocess\n",
    "  job_name = 'preprocess-french-claims-features' + '-' + datetime.datetime.now().strftime('%y%m%d-%H%M%S')\n",
    "  \n",
    "  if in_test_mode:\n",
    "      print('Launching local job ... hang on')\n",
    "      OUTPUT_DIR = './preproc'\n",
    "      shutil.rmtree(OUTPUT_DIR, ignore_errors=True)\n",
    "      os.makedirs(OUTPUT_DIR)\n",
    "  else:\n",
    "      print('Launching Dataflow job {} ... hang on'.format(job_name))\n",
    "      OUTPUT_DIR = 'gs://{0}/project/test-bq-vw/'.format(BUCKET)\n",
    "      try:\n",
    "        subprocess.check_call('gsutil -m rm -r {}'.format(OUTPUT_DIR).split())\n",
    "      except:\n",
    "        pass\n",
    "    \n",
    "    \n",
    "  options = {'staging_location': os.path.join(OUTPUT_DIR, 'tmp', 'staging'),\n",
    "              'temp_location': os.path.join(OUTPUT_DIR, 'tmp'),\n",
    "              'job_name': job_name,\n",
    "              'project': PROJECT,\n",
    "              'region': REGION,\n",
    "              'zone': ZONE,\n",
    "              'teardown_policy': 'TEARDOWN_ALWAYS',\n",
    "              'no_save_main_session': True,\n",
    "              'max_num_workers': 6  }\n",
    "\n",
    "  opts = beam.pipeline.PipelineOptions(flags = [], **options)\n",
    "  if in_test_mode:\n",
    "      RUNNER = 'DirectRunner'\n",
    "  else:\n",
    "      RUNNER = 'DataflowRunner'\n",
    "\n",
    "  p = beam.Pipeline(RUNNER, options = opts)\n",
    "  \n",
    "\n",
    "  if in_test_mode:\n",
    "    query = query + ' LIMIT 1000' \n",
    "\n",
    "  for step in ['train', 'eval']:\n",
    "    if step == 'train':\n",
    "      selquery = 'SELECT * FROM ({}) WHERE MOD(ABS(drivAge),10) < 2'.format(query)\n",
    "    else:\n",
    "      selquery = 'SELECT * FROM ({}) WHERE MOD(ABS(drivAge),4) >2 '.format(query)\n",
    "\n",
    "    (p \n",
    "     | '{}_read'.format(step) >> beam.io.Read(beam.io.BigQuerySource(query = selquery, use_standard_sql = True))\n",
    "     | '{}_csv'.format(step) >> beam.FlatMap(to_csv)\n",
    "     | '{}_out'.format(step) >> beam.io.Write(beam.io.WriteToText(os.path.join(OUTPUT_DIR, '{}.csv'.format(step))))\n",
    "    )\n",
    "\n",
    "\n",
    "  job = p.run()\n",
    "  if in_test_mode:\n",
    "    job.wait_until_finish()\n",
    "    print(\"Done!\")\n"
   ]
  },
  {
   "cell_type": "markdown",
   "metadata": {},
   "source": [
    "## Access a view through Apache Beam local"
   ]
  },
  {
   "cell_type": "code",
   "execution_count": 16,
   "metadata": {},
   "outputs": [
    {
     "name": "stdout",
     "output_type": "stream",
     "text": [
      "Launching local job ... hang on\n"
     ]
    },
    {
     "name": "stderr",
     "output_type": "stream",
     "text": [
      "WARNING:root:Dataset axa-ch-machine-learning-dev:temp_dataset_dd56694281934ca88159c25c2075a766 does not exist so we will create it as temporary with location=EU\n",
      "WARNING:root:Dataset axa-ch-machine-learning-dev:temp_dataset_11561a8850844467af23b30f00efffdd does not exist so we will create it as temporary with location=EU\n"
     ]
    },
    {
     "name": "stdout",
     "output_type": "stream",
     "text": [
      "Done!\n"
     ]
    }
   ],
   "source": [
    "query = \"\"\" SELECT *  FROM `axa-ch-machine-learning-dev.vw_frenc_claims.vw_freMTPL2freq`  \"\"\"\n",
    "preprocess(in_test_mode = True,query)"
   ]
  },
  {
   "cell_type": "code",
   "execution_count": 18,
   "metadata": {},
   "outputs": [
    {
     "name": "stdout",
     "output_type": "stream",
     "text": [
      "eval.csv-00000-of-00001  train.csv-00000-of-00001\n"
     ]
    }
   ],
   "source": [
    "!ls preproc"
   ]
  },
  {
   "cell_type": "code",
   "execution_count": 19,
   "metadata": {},
   "outputs": [
    {
     "name": "stdout",
     "output_type": "stream",
     "text": [
      "23,0\n",
      "23,0\n",
      "23,0\n",
      "27,0\n",
      "31,0\n",
      "31,0\n",
      "35,0\n",
      "35,0\n",
      "39,0\n",
      "47,0\n"
     ]
    }
   ],
   "source": [
    "!head -10 preproc/eval.csv-00000-of-00001 "
   ]
  },
  {
   "cell_type": "markdown",
   "metadata": {},
   "source": [
    "## Access a view through Apache Beam Remote (test scaling)"
   ]
  },
  {
   "cell_type": "code",
   "execution_count": 20,
   "metadata": {},
   "outputs": [
    {
     "name": "stdout",
     "output_type": "stream",
     "text": [
      "Launching Dataflow job preprocess-french-claims-features-190508-071853 ... hang on\n"
     ]
    }
   ],
   "source": [
    "query = \"\"\" SELECT *  FROM `axa-ch-machine-learning-dev.vw_frenc_claims.vw_freMTPL2freq`  \"\"\"\n",
    "preprocess(in_test_mode = False,query)"
   ]
  },
  {
   "cell_type": "code",
   "execution_count": 21,
   "metadata": {},
   "outputs": [
    {
     "name": "stdout",
     "output_type": "stream",
     "text": [
      "gs://axa-ch-machine-learning-poc-dev/project/test-bq-vw/eval.csv-00000-of-00002\n",
      "gs://axa-ch-machine-learning-poc-dev/project/test-bq-vw/eval.csv-00001-of-00002\n",
      "gs://axa-ch-machine-learning-poc-dev/project/test-bq-vw/train.csv-00000-of-00001\n",
      "gs://axa-ch-machine-learning-poc-dev/project/test-bq-vw/tmp/\n"
     ]
    }
   ],
   "source": [
    "!gsutil ls gs://axa-ch-machine-learning-poc-dev/project/test-bq-vw/"
   ]
  },
  {
   "cell_type": "markdown",
   "metadata": {},
   "source": [
    "#### OK but the job ran on only 1 worker ( jobid 2019-05-08_00_18_59-16469127876986107248)\n",
    "so i try with a view 10 x bigger "
   ]
  },
  {
   "cell_type": "code",
   "execution_count": 27,
   "metadata": {},
   "outputs": [
    {
     "name": "stdout",
     "output_type": "stream",
     "text": [
      "Launching Dataflow job preprocess-french-claims-features-190508-073935 ... hang on\n"
     ]
    }
   ],
   "source": [
    "# Create SQL query \n",
    "#Link to the View  https://console.cloud.google.com/bigquery?sq=1009147027531:98d6376b193041c69d436c726b40af8f\n",
    "query = \"\"\" SELECT *  FROM `axa-ch-machine-learning-dev.vw_frenc_claims.vw_freMTPL2freq_x_10`  \"\"\"\n",
    "preprocess(in_test_mode = False,query=query)\n"
   ]
  },
  {
   "cell_type": "code",
   "execution_count": 28,
   "metadata": {},
   "outputs": [
    {
     "name": "stdout",
     "output_type": "stream",
     "text": [
      "gs://axa-ch-machine-learning-poc-dev/project/test-bq-vw/tmp/\n"
     ]
    }
   ],
   "source": [
    "!gsutil ls gs://axa-ch-machine-learning-poc-dev/project/test-bq-vw/"
   ]
  },
  {
   "cell_type": "markdown",
   "metadata": {},
   "source": [
    "#### ok code  worked with 5 Worker"
   ]
  },
  {
   "cell_type": "markdown",
   "metadata": {},
   "source": [
    "open points\n",
    "- check without max_num_workers = 6\n",
    "- check why workks\n",
    "- check with some view from Data engineering"
   ]
  },
  {
   "cell_type": "code",
   "execution_count": null,
   "metadata": {},
   "outputs": [],
   "source": []
  },
  {
   "cell_type": "code",
   "execution_count": null,
   "metadata": {},
   "outputs": [],
   "source": [
    "\n"
   ]
  },
  {
   "cell_type": "code",
   "execution_count": null,
   "metadata": {},
   "outputs": [],
   "source": []
  }
 ],
 "metadata": {
  "kernelspec": {
   "display_name": "Python 2",
   "language": "python",
   "name": "python2"
  },
  "language_info": {
   "codemirror_mode": {
    "name": "ipython",
    "version": 2
   },
   "file_extension": ".py",
   "mimetype": "text/x-python",
   "name": "python",
   "nbconvert_exporter": "python",
   "pygments_lexer": "ipython2",
   "version": "2.7.13"
  }
 },
 "nbformat": 4,
 "nbformat_minor": 2
}
