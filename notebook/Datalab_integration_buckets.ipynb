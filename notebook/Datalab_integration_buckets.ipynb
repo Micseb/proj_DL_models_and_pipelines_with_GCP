{
 "cells": [
  {
   "cell_type": "markdown",
   "metadata": {},
   "source": [
    "    # Datalab Integration with GCP Services"
   ]
  },
  {
   "cell_type": "code",
   "execution_count": 8,
   "metadata": {},
   "outputs": [
    {
     "data": {
      "text/plain": [
       "'1.12.0'"
      ]
     },
     "execution_count": 8,
     "metadata": {},
     "output_type": "execute_result"
    }
   ],
   "source": [
    "# ! pip3 install tensorflow==1.12\n",
    "import tensorflow as tf\n",
    "import numpy as np\n",
    "import os\n",
    "tf.__version__"
   ]
  },
  {
   "cell_type": "code",
   "execution_count": 5,
   "metadata": {},
   "outputs": [],
   "source": [
    "try:\n",
    "    from tensorflow.keras.datasets import mnist\n",
    "    (x_train, y_train), (x_test, y_test) = mnist.load_data()\n",
    "except Exception:\n",
    "  print(\"download manually to ./data/ from {}\".format(\n",
    "      \"https://storage.googleapis.com/tensorflow/tf-keras-datasets/mnist.npz\"\n",
    "  ))\n",
    "  with np.load(\"./data/mnist.npz\") as f:\n",
    "    x_train, y_train = f['x_train'], f['y_train']\n",
    "    x_test, y_test = f['x_test'], f['y_test']"
   ]
  },
  {
   "cell_type": "code",
   "execution_count": 10,
   "metadata": {},
   "outputs": [],
   "source": [
    "os.makedirs?"
   ]
  },
  {
   "cell_type": "code",
   "execution_count": 11,
   "metadata": {},
   "outputs": [],
   "source": [
    "os.makedirs('data', exist_ok = True)\n",
    "np.save('./data/mnist', [x_train, y_train, x_test, y_test])"
   ]
  },
  {
   "cell_type": "code",
   "execution_count": 12,
   "metadata": {},
   "outputs": [
    {
     "name": "stdout",
     "output_type": "stream",
     "text": [
      "01_Example_mnist_tensorflow.ipynb\r\n",
      "02_Example_mnist_tensorflow_tensorboard.ipynb\r\n",
      "03_Example_mnist_tensorflow_advanced.ipynb\r\n",
      "04_Example_mnist_keras.ipynb\r\n",
      "05_Example_mnist_tensorflow_eager.ipynb\r\n",
      "06_Example_mnist_keras_estimator.ipynb\r\n",
      "\u001b[0m\u001b[01;34mdata\u001b[0m/\r\n",
      "Datalab_integration_buckets.ipynb\r\n"
     ]
    }
   ],
   "source": [
    "ls "
   ]
  },
  {
   "cell_type": "code",
   "execution_count": 13,
   "metadata": {},
   "outputs": [
    {
     "name": "stdout",
     "output_type": "stream",
     "text": [
      "mnist.npy\r\n"
     ]
    }
   ],
   "source": [
    "ls data"
   ]
  },
  {
   "cell_type": "code",
   "execution_count": 16,
   "metadata": {},
   "outputs": [
    {
     "name": "stdout",
     "output_type": "stream",
     "text": [
      "Copying file://data/mnist.npy [Content-Type=application/octet-stream]...\n",
      "- [1 files][ 59.3 MiB/ 59.3 MiB]                                                \n",
      "Operation completed over 1 objects/59.3 MiB.                                     \n"
     ]
    }
   ],
   "source": [
    "!gsutil cp 'data/mnist.npy' 'gs://ml-productive-pipeline-53122/mnist.npy'"
   ]
  },
  {
   "cell_type": "markdown",
   "metadata": {},
   "source": [
    "To load again from the blob-store again needs the space the files take on the persistent disk attached to the Datalab VM."
   ]
  },
  {
   "cell_type": "code",
   "execution_count": null,
   "metadata": {},
   "outputs": [],
   "source": []
  }
 ],
 "metadata": {
  "kernelspec": {
   "display_name": "Python 3",
   "language": "python",
   "name": "python3"
  },
  "language_info": {
   "codemirror_mode": {
    "name": "ipython",
    "version": 3
   },
   "file_extension": ".py",
   "mimetype": "text/x-python",
   "name": "python",
   "nbconvert_exporter": "python",
   "pygments_lexer": "ipython3",
   "version": "3.5.6"
  }
 },
 "nbformat": 4,
 "nbformat_minor": 2
}
