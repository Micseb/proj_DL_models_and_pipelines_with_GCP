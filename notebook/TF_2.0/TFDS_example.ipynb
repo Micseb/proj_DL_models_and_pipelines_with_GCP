{
 "cells": [
  {
   "cell_type": "markdown",
   "metadata": {
    "colab_type": "text",
    "id": "hmUcc8Yl0IXa"
   },
   "source": [
    "# TensorFlow Dataset"
   ]
  },
  {
   "cell_type": "raw",
   "metadata": {
    "colab": {
     "base_uri": "https://localhost:8080/",
     "height": 340
    },
    "colab_type": "code",
    "id": "4p7_tkDz1j-Z",
    "outputId": "3d173555-d0da-4e76-e5b2-e76fb4f7ca37"
   },
   "source": [
    "!pip install tf-nightly-2.0-preview"
   ]
  },
  {
   "cell_type": "code",
   "execution_count": 1,
   "metadata": {
    "colab": {},
    "colab_type": "code",
    "id": "zARGqIvw1lj_"
   },
   "outputs": [],
   "source": [
    "import tensorflow as tf"
   ]
  },
  {
   "cell_type": "code",
   "execution_count": 2,
   "metadata": {
    "colab": {
     "base_uri": "https://localhost:8080/",
     "height": 34
    },
    "colab_type": "code",
    "id": "vldnVmWSrFAt",
    "outputId": "1a3abd15-2aa3-4c94-9573-aaa0eef918c0"
   },
   "outputs": [
    {
     "data": {
      "text/plain": [
       "'2.0.0-dev20190208'"
      ]
     },
     "execution_count": 2,
     "metadata": {},
     "output_type": "execute_result"
    }
   ],
   "source": [
    "tf.version.VERSION"
   ]
  },
  {
   "cell_type": "raw",
   "metadata": {
    "colab": {
     "base_uri": "https://localhost:8080/",
     "height": 442
    },
    "colab_type": "code",
    "id": "yiY3icec0LBF",
    "outputId": "c92a311a-c8e9-41a8-88b1-283f37373be9"
   },
   "source": [
    "!pip install -U tfds-nightly"
   ]
  },
  {
   "cell_type": "markdown",
   "metadata": {
    "colab_type": "text",
    "id": "-RZ6FKF_yqGb"
   },
   "source": [
    "## Datasets playground"
   ]
  },
  {
   "cell_type": "code",
   "execution_count": 3,
   "metadata": {
    "colab": {
     "base_uri": "https://localhost:8080/",
     "height": 54
    },
    "colab_type": "code",
    "id": "BwlzG2Sy0LtU",
    "outputId": "5a79f624-a91f-4314-8412-aa7391bddb76"
   },
   "outputs": [
    {
     "name": "stdout",
     "output_type": "stream",
     "text": [
      "['bair_robot_pushing_small', 'cats_vs_dogs', 'celeb_a', 'cifar10', 'cifar100', 'coco2014', 'diabetic_retinopathy_detection', 'fashion_mnist', 'image_label_folder', 'imagenet2012', 'imdb_reviews', 'lm1b', 'lsun', 'mnist', 'moving_mnist', 'nsynth', 'omniglot', 'open_images_v4', 'quickdraw_bitmap', 'squad', 'starcraft_video', 'svhn_cropped', 'tf_flowers', 'wmt_translate_ende', 'wmt_translate_enfr']\n"
     ]
    }
   ],
   "source": [
    "import tensorflow_datasets as tfds\n",
    "\n",
    "# See available datasets\n",
    "print(tfds.list_builders())"
   ]
  },
  {
   "cell_type": "code",
   "execution_count": null,
   "metadata": {},
   "outputs": [],
   "source": [
    "!pwd ~/tensorflow_datasets"
   ]
  },
  {
   "cell_type": "code",
   "execution_count": 6,
   "metadata": {
    "colab": {},
    "colab_type": "code",
    "id": "4zoudd-O0Q9p"
   },
   "outputs": [],
   "source": [
    "# Construct a tf.data.Dataset\n",
    "dataset = tfds.load(name=\"fashion_mnist\", data_dir='~/tensorflow_datasets')"
   ]
  },
  {
   "cell_type": "code",
   "execution_count": 7,
   "metadata": {
    "colab": {
     "base_uri": "https://localhost:8080/",
     "height": 306
    },
    "colab_type": "code",
    "id": "NOE2dTvDw2H-",
    "outputId": "20b72adb-cfe3-4dd5-955a-f0bf337a98a0"
   },
   "outputs": [
    {
     "name": "stdout",
     "output_type": "stream",
     "text": [
      "total 95640\r\n",
      "drwxr-xr-x  16 tarrade  staff      512 Feb  8 13:34 \u001b[34m.\u001b[m\u001b[m/\r\n",
      "drwxr-xr-x   3 tarrade  staff       96 Feb  8 13:34 \u001b[34m..\u001b[m\u001b[m/\r\n",
      "-rw-r--r--   1 tarrade  staff     3372 Feb  8 13:34 dataset_info.json\r\n",
      "-rw-r--r--   1 tarrade  staff  5630824 Feb  8 13:34 fashion_mnist-test.tfrecord-00000-of-00001\r\n",
      "-rw-r--r--   1 tarrade  staff  3370332 Feb  8 13:34 fashion_mnist-train.tfrecord-00000-of-00010\r\n",
      "-rw-r--r--   1 tarrade  staff  3357425 Feb  8 13:34 fashion_mnist-train.tfrecord-00001-of-00010\r\n",
      "-rw-r--r--   1 tarrade  staff  3371467 Feb  8 13:34 fashion_mnist-train.tfrecord-00002-of-00010\r\n",
      "-rw-r--r--   1 tarrade  staff  3362288 Feb  8 13:34 fashion_mnist-train.tfrecord-00003-of-00010\r\n",
      "-rw-r--r--   1 tarrade  staff  3380831 Feb  8 13:34 fashion_mnist-train.tfrecord-00004-of-00010\r\n",
      "-rw-r--r--   1 tarrade  staff  3384792 Feb  8 13:34 fashion_mnist-train.tfrecord-00005-of-00010\r\n",
      "-rw-r--r--   1 tarrade  staff  3355384 Feb  8 13:34 fashion_mnist-train.tfrecord-00006-of-00010\r\n",
      "-rw-r--r--   1 tarrade  staff  3369155 Feb  8 13:34 fashion_mnist-train.tfrecord-00007-of-00010\r\n",
      "-rw-r--r--   1 tarrade  staff  3361331 Feb  8 13:34 fashion_mnist-train.tfrecord-00008-of-00010\r\n",
      "-rw-r--r--   1 tarrade  staff  3364631 Feb  8 13:34 fashion_mnist-train.tfrecord-00009-of-00010\r\n",
      "-rw-r--r--   1 tarrade  staff       48 Feb  8 13:34 image.image.json\r\n",
      "-rw-r--r--   1 tarrade  staff       76 Feb  8 13:34 label.labels.txt\r\n"
     ]
    }
   ],
   "source": [
    "ls -la ~/tensorflow_datasets/fashion_mnist/1.0.0"
   ]
  },
  {
   "cell_type": "markdown",
   "metadata": {
    "colab_type": "text",
    "id": "FIZdy8dbziZd"
   },
   "source": [
    "**TODO**\n",
    "- ensure that cache works only for the same split"
   ]
  },
  {
   "cell_type": "code",
   "execution_count": 8,
   "metadata": {
    "colab": {
     "base_uri": "https://localhost:8080/",
     "height": 1788
    },
    "colab_type": "code",
    "id": "sCLoT0gKzUnw",
    "outputId": "70df7cb3-ad92-4f0b-ecaa-95622bcd593b"
   },
   "outputs": [
    {
     "name": "stdout",
     "output_type": "stream",
     "text": [
      "{\r\n",
      "  \"citation\": \"@article{DBLP:journals/corr/abs-1708-07747,\\n  author    = {Han Xiao and\\n               Kashif Rasul and\\n               Roland Vollgraf},\\n  title     = {Fashion-MNIST: a Novel Image Dataset for Benchmarking Machine Learning\\n               Algorithms},\\n  journal   = {CoRR},\\n  volume    = {abs/1708.07747},\\n  year      = {2017},\\n  url       = {http://arxiv.org/abs/1708.07747},\\n  archivePrefix = {arXiv},\\n  eprint    = {1708.07747},\\n  timestamp = {Mon, 13 Aug 2018 16:47:27 +0200},\\n  biburl    = {https://dblp.org/rec/bib/journals/corr/abs-1708-07747},\\n  bibsource = {dblp computer science bibliography, https://dblp.org}\\n}\\n\",\r\n",
      "  \"description\": \"Fashion-MNIST is a dataset of Zalando's article images consisting of a training set of 60,000 examples and a test set of 10,000 examples. Each example is a 28x28 grayscale image, associated with a label from 10 classes.\",\r\n",
      "  \"downloadChecksums\": {\r\n",
      "    \"http://fashion-mnist.s3-website.eu-central-1.amazonaws.com/t10k-images-idx3-ubyte.gz\": \"346e55b948d973a97e58d2351dde16a484bd415d4595297633bb08f03db6a073\",\r\n",
      "    \"http://fashion-mnist.s3-website.eu-central-1.amazonaws.com/t10k-labels-idx1-ubyte.gz\": \"67da17c76eaffca5446c3361aaab5c3cd6d1c2608764d35dfb1850b086bf8dd5\",\r\n",
      "    \"http://fashion-mnist.s3-website.eu-central-1.amazonaws.com/train-images-idx3-ubyte.gz\": \"3aede38d61863908ad78613f6a32ed271626dd12800ba2636569512369268a84\",\r\n",
      "    \"http://fashion-mnist.s3-website.eu-central-1.amazonaws.com/train-labels-idx1-ubyte.gz\": \"a04f17134ac03560a47e3764e11b92fc97de4d1bfaf8ba1a3aa29af54cc90845\"\r\n",
      "  },\r\n",
      "  \"location\": {\r\n",
      "    \"urls\": [\r\n",
      "      \"https://github.com/zalandoresearch/fashion-mnist\"\r\n",
      "    ]\r\n",
      "  },\r\n",
      "  \"name\": \"fashion_mnist\",\r\n",
      "  \"schema\": {\r\n",
      "    \"feature\": [\r\n",
      "      {\r\n",
      "        \"name\": \"image\",\r\n",
      "        \"shape\": {\r\n",
      "          \"dim\": [\r\n",
      "            {\r\n",
      "              \"size\": \"28\"\r\n",
      "            },\r\n",
      "            {\r\n",
      "              \"size\": \"28\"\r\n",
      "            },\r\n",
      "            {\r\n",
      "              \"size\": \"1\"\r\n",
      "            }\r\n",
      "          ]\r\n",
      "        },\r\n",
      "        \"type\": \"INT\"\r\n",
      "      },\r\n",
      "      {\r\n",
      "        \"name\": \"label\",\r\n",
      "        \"type\": \"INT\"\r\n",
      "      }\r\n",
      "    ]\r\n",
      "  },\r\n",
      "  \"sizeInBytes\": \"30878645\",\r\n",
      "  \"splits\": [\r\n",
      "    {\r\n",
      "      \"name\": \"test\",\r\n",
      "      \"numShards\": \"1\",\r\n",
      "      \"statistics\": {\r\n",
      "        \"features\": [\r\n",
      "          {\r\n",
      "            \"name\": \"image\",\r\n",
      "            \"numStats\": {\r\n",
      "              \"commonStats\": {\r\n",
      "                \"numNonMissing\": \"10000\"\r\n",
      "              },\r\n",
      "              \"max\": 255.0\r\n",
      "            }\r\n",
      "          },\r\n",
      "          {\r\n",
      "            \"name\": \"label\",\r\n",
      "            \"numStats\": {\r\n",
      "              \"commonStats\": {\r\n",
      "                \"numNonMissing\": \"10000\"\r\n",
      "              },\r\n",
      "              \"max\": 9.0\r\n",
      "            }\r\n",
      "          }\r\n",
      "        ],\r\n",
      "        \"numExamples\": \"10000\"\r\n",
      "      }\r\n",
      "    },\r\n",
      "    {\r\n",
      "      \"name\": \"train\",\r\n",
      "      \"numShards\": \"10\",\r\n",
      "      \"statistics\": {\r\n",
      "        \"features\": [\r\n",
      "          {\r\n",
      "            \"name\": \"image\",\r\n",
      "            \"numStats\": {\r\n",
      "              \"commonStats\": {\r\n",
      "                \"numNonMissing\": \"60000\"\r\n",
      "              },\r\n",
      "              \"max\": 255.0\r\n",
      "            }\r\n",
      "          },\r\n",
      "          {\r\n",
      "            \"name\": \"label\",\r\n",
      "            \"numStats\": {\r\n",
      "              \"commonStats\": {\r\n",
      "                \"numNonMissing\": \"60000\"\r\n",
      "              },\r\n",
      "              \"max\": 9.0\r\n",
      "            }\r\n",
      "          }\r\n",
      "        ],\r\n",
      "        \"numExamples\": \"60000\"\r\n",
      "      }\r\n",
      "    }\r\n",
      "  ],\r\n",
      "  \"supervisedKeys\": {\r\n",
      "    \"input\": \"image\",\r\n",
      "    \"output\": \"label\"\r\n",
      "  },\r\n",
      "  \"version\": \"1.0.0\"\r\n",
      "}"
     ]
    }
   ],
   "source": [
    "cat ~/tensorflow_datasets/fashion_mnist/1.0.0/dataset_info.json"
   ]
  },
  {
   "cell_type": "code",
   "execution_count": 9,
   "metadata": {
    "colab": {
     "base_uri": "https://localhost:8080/",
     "height": 34
    },
    "colab_type": "code",
    "id": "1UfD01jTz0p7",
    "outputId": "97b6086d-3a06-4685-c1e2-e23321da47ee"
   },
   "outputs": [
    {
     "data": {
      "text/plain": [
       "<_OptionsDataset shapes: {image: (28, 28, 1), label: ()}, types: {image: tf.uint8, label: tf.int64}>"
      ]
     },
     "execution_count": 9,
     "metadata": {},
     "output_type": "execute_result"
    }
   ],
   "source": [
    "dataset['test']"
   ]
  },
  {
   "cell_type": "markdown",
   "metadata": {
    "colab_type": "text",
    "id": "8MpuL-cdyx5S"
   },
   "source": [
    "## Back to the model"
   ]
  },
  {
   "cell_type": "code",
   "execution_count": 10,
   "metadata": {
    "colab": {},
    "colab_type": "code",
    "id": "iVjkKGvC1WI_"
   },
   "outputs": [],
   "source": [
    "train_dataset, test_dataset = dataset[\"train\"], dataset[\"test\"]\n",
    "assert isinstance(train_dataset, tf.data.Dataset)\n",
    "\n",
    "# And then the rest of your input pipeline\n",
    "train_dataset = train_dataset.repeat().shuffle(1024).batch(128).prefetch(2)\n",
    "features = tf.compat.v1.data.make_one_shot_iterator(train_dataset).get_next()\n",
    "image, label = features['image'], features['label']"
   ]
  },
  {
   "cell_type": "code",
   "execution_count": 11,
   "metadata": {
    "colab": {},
    "colab_type": "code",
    "id": "Sz8gDzcX046O"
   },
   "outputs": [],
   "source": [
    "test_features = tf.compat.v1.data.make_one_shot_iterator(test_dataset).get_next()\n",
    "test_image, test_label = features['image'], features['label']"
   ]
  },
  {
   "cell_type": "code",
   "execution_count": 12,
   "metadata": {
    "colab": {
     "base_uri": "https://localhost:8080/",
     "height": 34
    },
    "colab_type": "code",
    "id": "9GEltbUokYxV",
    "outputId": "9da6d8e9-52f3-4670-e79d-68f6548baa41"
   },
   "outputs": [
    {
     "data": {
      "text/plain": [
       "<TakeDataset shapes: {image: (None, 28, 28, 1), label: (None,)}, types: {image: tf.uint8, label: tf.int64}>"
      ]
     },
     "execution_count": 12,
     "metadata": {},
     "output_type": "execute_result"
    }
   ],
   "source": [
    "train_dataset.take(1)"
   ]
  },
  {
   "cell_type": "code",
   "execution_count": 20,
   "metadata": {},
   "outputs": [],
   "source": [
    "test_image=tf.cast(test_image, tf.float64)"
   ]
  },
  {
   "cell_type": "code",
   "execution_count": 13,
   "metadata": {
    "colab": {},
    "colab_type": "code",
    "id": "auoz26ux1wYX"
   },
   "outputs": [],
   "source": [
    "features = tf.compat.v1.data.make_one_shot_iterator(train_dataset).get_next()\n",
    "image, label = features['image'], features['label']\n"
   ]
  },
  {
   "cell_type": "code",
   "execution_count": 15,
   "metadata": {},
   "outputs": [],
   "source": [
    "image=tf.cast(image, tf.float64)"
   ]
  },
  {
   "cell_type": "code",
   "execution_count": 16,
   "metadata": {
    "colab": {
     "base_uri": "https://localhost:8080/",
     "height": 204
    },
    "colab_type": "code",
    "id": "9TRmd1df2Vrl",
    "outputId": "b4294f57-3495-4753-9fb5-14d66f52e7a9"
   },
   "outputs": [
    {
     "name": "stdout",
     "output_type": "stream",
     "text": [
      "Epoch 1/5\n",
      "1000/1000==============================] - 4s 4ms/step - loss: 1.3992 - acc: 0.9860\n",
      "Epoch 2/5\n",
      "1000/1000==============================] - 4s 4ms/step - loss: 0.0781 - acc: 0.9946\n",
      "Epoch 3/5\n",
      "1000/1000==============================] - 4s 4ms/step - loss: 0.0663 - acc: 0.9936\n",
      "Epoch 4/5\n",
      "1000/1000==============================] - 3s 3ms/step - loss: 0.0826 - acc: 0.9910\n",
      "Epoch 5/5\n",
      "1000/1000==============================] - 3s 3ms/step - loss: 0.0508 - acc: 0.9932\n"
     ]
    },
    {
     "data": {
      "text/plain": [
       "<tensorflow.python.keras.callbacks.History at 0x136e05940>"
      ]
     },
     "execution_count": 16,
     "metadata": {},
     "output_type": "execute_result"
    }
   ],
   "source": [
    "model = tf.keras.models.Sequential([\n",
    "  tf.keras.layers.Flatten(),\n",
    "  tf.keras.layers.Dense(512, activation=tf.nn.relu),\n",
    "  tf.keras.layers.Dropout(0.4),\n",
    "  tf.keras.layers.Dense(10, activation=tf.nn.softmax)\n",
    "])\n",
    "model.compile(optimizer='adam',\n",
    "              loss='sparse_categorical_crossentropy',\n",
    "              metrics=['accuracy'])\n",
    "model.fit(image, label, epochs=5, steps_per_epoch=1000)\n"
   ]
  },
  {
   "cell_type": "code",
   "execution_count": 0,
   "metadata": {
    "colab": {
     "base_uri": "https://localhost:8080/",
     "height": 51
    },
    "colab_type": "code",
    "id": "HE-BahRX208r",
    "outputId": "c3a1e075-2e4d-4393-f6a4-c5075b63596d"
   },
   "outputs": [
    {
     "name": "stdout",
     "output_type": "stream",
     "text": [
      "128/128==============================] - 0s 1ms/sample - loss: 15.8821 - acc: 0.7969\n"
     ]
    },
    {
     "data": {
      "text/plain": [
       "[15.882110357284546, 0.796875]"
      ]
     },
     "execution_count": 26,
     "metadata": {
      "tags": []
     },
     "output_type": "execute_result"
    }
   ],
   "source": [
    "model.evaluate(test_image, test_label)"
   ]
  },
  {
   "cell_type": "code",
   "execution_count": 0,
   "metadata": {
    "colab": {},
    "colab_type": "code",
    "id": "_VOsdDsQ1Ft3"
   },
   "outputs": [],
   "source": []
  }
 ],
 "metadata": {
  "colab": {
   "collapsed_sections": [],
   "name": "TFDS example",
   "provenance": [],
   "version": "0.3.2"
  },
  "kernelspec": {
   "display_name": "Python [conda env:env_gcp_dl_2_0_ds]",
   "language": "python",
   "name": "conda-env-env_gcp_dl_2_0_ds-py"
  },
  "language_info": {
   "codemirror_mode": {
    "name": "ipython",
    "version": 3
   },
   "file_extension": ".py",
   "mimetype": "text/x-python",
   "name": "python",
   "nbconvert_exporter": "python",
   "pygments_lexer": "ipython3",
   "version": "3.6.6"
  },
  "latex_envs": {
   "LaTeX_envs_menu_present": true,
   "autoclose": false,
   "autocomplete": true,
   "bibliofile": "biblio.bib",
   "cite_by": "apalike",
   "current_citInitial": 1,
   "eqLabelWithNumbers": true,
   "eqNumInitial": 1,
   "hotkeys": {
    "equation": "Ctrl-E",
    "itemize": "Ctrl-I"
   },
   "labels_anchors": false,
   "latex_user_defs": false,
   "report_style_numbering": false,
   "user_envs_cfg": false
  },
  "toc": {
   "base_numbering": 1,
   "nav_menu": {},
   "number_sections": true,
   "sideBar": true,
   "skip_h1_title": false,
   "title_cell": "Table of Contents",
   "title_sidebar": "Contents",
   "toc_cell": false,
   "toc_position": {},
   "toc_section_display": true,
   "toc_window_display": false
  },
  "varInspector": {
   "cols": {
    "lenName": 16,
    "lenType": 16,
    "lenVar": 40
   },
   "kernels_config": {
    "python": {
     "delete_cmd_postfix": "",
     "delete_cmd_prefix": "del ",
     "library": "var_list.py",
     "varRefreshCmd": "print(var_dic_list())"
    },
    "r": {
     "delete_cmd_postfix": ") ",
     "delete_cmd_prefix": "rm(",
     "library": "var_list.r",
     "varRefreshCmd": "cat(var_dic_list()) "
    }
   },
   "types_to_exclude": [
    "module",
    "function",
    "builtin_function_or_method",
    "instance",
    "_Feature"
   ],
   "window_display": false
  }
 },
 "nbformat": 4,
 "nbformat_minor": 1
}
