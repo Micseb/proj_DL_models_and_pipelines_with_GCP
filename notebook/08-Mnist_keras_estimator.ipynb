{
 "cells": [
  {
   "cell_type": "markdown",
   "metadata": {},
   "source": [
    "# MNIST classification example with TensorFlow"
   ]
  },
  {
   "cell_type": "markdown",
   "metadata": {
    "heading_collapsed": true
   },
   "source": [
    "## Install packages on Google  Cloud Datalab (locally use conda env)"
   ]
  },
  {
   "cell_type": "markdown",
   "metadata": {
    "hidden": true
   },
   "source": [
    "### Select in the Python3 Kernel:\n",
    "In the menu bar the of 'Kernel', select   \n",
    "**python3**\n",
    "### Install needed packages\n",
    "copy the command below in a Google Cloud Datalab cell  \n",
    "**!pip install tensorflow==1.12**\n",
    "### Restart the Kernel \n",
    "this is to take into account the new installed packages. Click in the menu bar on:  \n",
    "**Reset Session**"
   ]
  },
  {
   "cell_type": "markdown",
   "metadata": {},
   "source": [
    "## Include paths to our functions"
   ]
  },
  {
   "cell_type": "code",
   "execution_count": 1,
   "metadata": {},
   "outputs": [
    {
     "name": "stdout",
     "output_type": "stream",
     "text": [
      "/Users/tarrade/Desktop/Work/Data_Science/Tutorials_Codes/Python/proj_DL_models_and_pipelines_with_GCP/notebook\n",
      "/Users/tarrade/Desktop/Work/Data_Science/Tutorials_Codes/Python/proj_DL_models_and_pipelines_with_GCP\n"
     ]
    }
   ],
   "source": [
    "import sys\n",
    "import os\n",
    "import pathlib\n",
    "\n",
    "workingdir=os.getcwd()\n",
    "print(workingdir)\n",
    "d=[d for d in os.listdir(workingdir)]\n",
    "n=0\n",
    "while not set(['notebook']).issubset(set(d)):\n",
    "    workingdir=str(pathlib.Path(workingdir).parents[0])\n",
    "    print(workingdir)\n",
    "    d=[d for d in os.listdir(str(workingdir))]\n",
    "    n+=1\n",
    "    if n>5:\n",
    "        break\n",
    "sys.path.insert(0, workingdir)\n",
    "os.chdir(workingdir)"
   ]
  },
  {
   "cell_type": "markdown",
   "metadata": {},
   "source": [
    "## Setup librairies import and plots style"
   ]
  },
  {
   "cell_type": "markdown",
   "metadata": {},
   "source": [
    "### Import librairies"
   ]
  },
  {
   "cell_type": "code",
   "execution_count": 2,
   "metadata": {},
   "outputs": [],
   "source": [
    "import os\n",
    "import pandas as pd\n",
    "import matplotlib.pyplot as plt\n",
    "import tensorflow as tf\n",
    "import seaborn as sns\n",
    "import numpy as np\n",
    "import itertools\n",
    "from skimage.io import imread\n",
    "from sklearn.model_selection import train_test_split\n",
    "from sklearn.metrics import confusion_matrix, accuracy_score\n",
    "from sklearn.metrics import classification_report\n",
    "from skimage.segmentation import mark_boundaries\n",
    "from skimage.color import gray2rgb, rgb2gray, label2rgb\n",
    "import _pickle as cPickle\n",
    "import lime\n",
    "from lime import lime_image\n",
    "from random import sample, randint, shuffle\n",
    "import time\n",
    "import shutil\n",
    "import glob\n",
    "import re\n",
    "import os\n",
    "import codecs\n",
    "import json \n",
    "import subprocess\n",
    "import requests\n",
    "import google.auth"
   ]
  },
  {
   "cell_type": "code",
   "execution_count": 3,
   "metadata": {},
   "outputs": [
    {
     "name": "stdout",
     "output_type": "stream",
     "text": [
      "1.12.0\n",
      "2.1.6-tf\n"
     ]
    }
   ],
   "source": [
    "print(tf.__version__)\n",
    "print(tf.keras.__version__)"
   ]
  },
  {
   "cell_type": "markdown",
   "metadata": {},
   "source": [
    "### Import our utils functions"
   ]
  },
  {
   "cell_type": "code",
   "execution_count": 85,
   "metadata": {},
   "outputs": [],
   "source": [
    "import src.utils.mnist_utils as mnist_utils\n",
    "import src.utils.ml_utils as ml_utils\n",
    "import src.utils.tensorflow_helper as tensorflow_helper\n",
    "import src.model_mnist_v1.trainer.model as mnist_v1"
   ]
  },
  {
   "cell_type": "code",
   "execution_count": 170,
   "metadata": {},
   "outputs": [],
   "source": [
    "import importlib\n",
    "importlib.reload(mnist_utils)\n",
    "importlib.reload(mnist_v1)\n",
    "importlib.reload(ml_utils)\n",
    "importlib.reload(tensorflow_helper);# to reload the function and mask the output"
   ]
  },
  {
   "cell_type": "markdown",
   "metadata": {},
   "source": [
    "### Set plots style"
   ]
  },
  {
   "cell_type": "code",
   "execution_count": 128,
   "metadata": {},
   "outputs": [
    {
     "name": "stdout",
     "output_type": "stream",
     "text": [
      "['seaborn-dark', 'seaborn-darkgrid', 'seaborn-ticks', 'fivethirtyeight', 'seaborn-whitegrid', 'classic', '_classic_test', 'fast', 'seaborn-talk', 'seaborn-dark-palette', 'seaborn-bright', 'seaborn-pastel', 'grayscale', 'seaborn-notebook', 'ggplot', 'seaborn-colorblind', 'seaborn-muted', 'seaborn', 'Solarize_Light2', 'seaborn-paper', 'bmh', 'tableau-colorblind10', 'seaborn-white', 'dark_background', 'seaborn-poster', 'seaborn-deep']\n"
     ]
    }
   ],
   "source": [
    "print(plt.style.available)"
   ]
  },
  {
   "cell_type": "code",
   "execution_count": 7,
   "metadata": {},
   "outputs": [],
   "source": [
    "# color code: https://matplotlib.org/gallery/color/named_colors.html#sphx-glr-gallery-color-named-colors-py\n",
    "plt.style.use('seaborn-ticks')"
   ]
  },
  {
   "cell_type": "markdown",
   "metadata": {},
   "source": [
    "## Data visualization of some examples per classes"
   ]
  },
  {
   "cell_type": "markdown",
   "metadata": {},
   "source": [
    "### Loading dataset"
   ]
  },
  {
   "cell_type": "code",
   "execution_count": 8,
   "metadata": {
    "scrolled": true
   },
   "outputs": [],
   "source": [
    "path_train='data/mnist/numpy_train/'\n",
    "path_test='data/mnist/numpy_test/'\n",
    "x_train=cPickle.load(open(path_train+'x_train.pkl', 'rb'))\n",
    "y_train=cPickle.load(open(path_train+'y_train.pkl', 'rb'))\n",
    "x_test=cPickle.load(open(path_test+'x_test.pkl', 'rb'))\n",
    "y_test=cPickle.load(open(path_test+'y_test.pkl', 'rb'))"
   ]
  },
  {
   "cell_type": "markdown",
   "metadata": {},
   "source": [
    "### Looking at some example from training dataset"
   ]
  },
  {
   "cell_type": "code",
   "execution_count": 9,
   "metadata": {},
   "outputs": [
    {
     "data": {
      "image/png": "[encoded data removed]",
      "text/plain": [
       "<Figure size 1296x1080 with 25 Axes>"
      ]
     },
     "metadata": {},
     "output_type": "display_data"
    }
   ],
   "source": [
    "mnist_utils.plot_mnist_images(x_train[0:25], y_train[0:25])"
   ]
  },
  {
   "cell_type": "markdown",
   "metadata": {},
   "source": [
    "## Set parameter"
   ]
  },
  {
   "cell_type": "code",
   "execution_count": 44,
   "metadata": {},
   "outputs": [],
   "source": [
    "tf.logging.set_verbosity(tf.logging.INFO)"
   ]
  },
  {
   "cell_type": "code",
   "execution_count": 45,
   "metadata": {},
   "outputs": [],
   "source": [
    "# number of classes\n",
    "NUM_CLASSES =10\n",
    "\n",
    "# dimension of the input data\n",
    "DIM_INPUT = 784\n",
    "\n",
    "# number of epoch to train our model\n",
    "EPOCHS = 100\n",
    "\n",
    "# size of our mini batch\n",
    "BATCH_SIZE = 128\n",
    "\n",
    "# shuffle buffer size\n",
    "SHUFFLE_BUFFER_SIZE = 10 * BATCH_SIZE\n",
    "\n",
    "# prefetch buffer size\n",
    "PREFETCH_BUFFER_SIZE = tf.contrib.data.AUTOTUNE\n",
    "\n",
    "# number of paralell calls\n",
    "NUM_PARALELL_CALL = 4\n",
    "\n",
    "# model version\n",
    "MODEL='v1'"
   ]
  },
  {
   "cell_type": "markdown",
   "metadata": {},
   "source": [
    "## Defined flags"
   ]
  },
  {
   "cell_type": "code",
   "execution_count": 60,
   "metadata": {},
   "outputs": [],
   "source": [
    "tensorflow_helper.del_all_flags(tf.flags.FLAGS)"
   ]
  },
  {
   "cell_type": "code",
   "execution_count": 61,
   "metadata": {},
   "outputs": [],
   "source": [
    "# just for jupyter notebook and avoir : \"UnrecognizedFlagError: Unknown command line flag 'f'\"\n",
    "tf.app.flags.DEFINE_string('f', '', 'kernel') \n",
    "\n",
    "# path to store the model and input for Tensorboard and SavedModel\n",
    "tf.app.flags.DEFINE_string('model_dir', 'results/Models/Mnist/tf_1_12/estimator/ckpt/', 'Dir to save a model and checkpoints')\n",
    "tf.app.flags.DEFINE_string('saved_dir', 'results/Models/Mnist/tf_1_12/estimator/pt/', 'Dir to save a model for TF serving')\n",
    "\n",
    "# path to store the model and input for Tensorboard\n",
    "#tf.app.flags.DEFINE_string('model_dir_keras', './results/Models/Mnist/tf_1_12/keras/'+MODEL+'/ckpt/', 'Dir to save a model and checkpoints with keras')\n",
    "#tf.app.flags.DEFINE_string('tensorboard_dir_keras', './results/Models/Mnist/tf_1_12/keras/'+MODEL+'/logs/', 'Dir to save logs for TensorBoard with keras')\n",
    "\n",
    "# parameters for the input dataset and train the model\n",
    "tf.app.flags.DEFINE_integer('epoch', EPOCHS, 'number of epoch')\n",
    "tf.app.flags.DEFINE_integer('step_per_epoch', len(x_train) // BATCH_SIZE, 'number of step per epoch')\n",
    "tf.app.flags.DEFINE_integer('batch_size', BATCH_SIZE, 'Batch size')\n",
    "tf.app.flags.DEFINE_integer('shuffle_buffer_size', SHUFFLE_BUFFER_SIZE , 'Shuffle buffer size')\n",
    "tf.app.flags.DEFINE_integer('prefetch_buffer_size', PREFETCH_BUFFER_SIZE, 'Prefetch buffer size')\n",
    "tf.app.flags.DEFINE_integer('num_parallel_calls', NUM_PARALELL_CALL, 'Number of paralell calls')\n",
    "\n",
    "# parameters for the model\n",
    "tf.app.flags.DEFINE_integer('num_classes', NUM_CLASSES, 'number of classes in our model')\n",
    "tf.app.flags.DEFINE_integer('dim_input', DIM_INPUT, 'dimension of the input data for our model')\n",
    "\n",
    "FLAGS = tf.app.flags.FLAGS"
   ]
  },
  {
   "cell_type": "code",
   "execution_count": 95,
   "metadata": {},
   "outputs": [
    {
     "name": "stdout",
     "output_type": "stream",
     "text": [
      "\n",
      "/Users/tarrade/anaconda3/envs/env_gcp_dl/lib/python3.6/site-packages/ipykernel_launcher.py:\n",
      "  --batch_size: Batch size\n",
      "    (default: '128')\n",
      "    (an integer)\n",
      "  --dim_input: dimension of the input data for our model\n",
      "    (default: '784')\n",
      "    (an integer)\n",
      "  --epoch: number of epoch\n",
      "    (default: '100')\n",
      "    (an integer)\n",
      "  --f: kernel\n",
      "    (default: '')\n",
      "  --model_dir: Dir to save a model and checkpoints\n",
      "    (default: 'results/Models/Mnist/tf_1_12/estimator/ckpt/')\n",
      "  --num_classes: number of classes in our model\n",
      "    (default: '10')\n",
      "    (an integer)\n",
      "  --num_parallel_calls: Number of paralell calls\n",
      "    (default: '4')\n",
      "    (an integer)\n",
      "  --prefetch_buffer_size: Prefetch buffer size\n",
      "    (default: '-1')\n",
      "    (an integer)\n",
      "  --saved_dir: Dir to save a model for TF serving\n",
      "    (default: 'results/Models/Mnist/tf_1_12/estimator/pt/')\n",
      "  --shuffle_buffer_size: Shuffle buffer size\n",
      "    (default: '1280')\n",
      "    (an integer)\n",
      "  --step_per_epoch: number of step per epoch\n",
      "    (default: '468')\n",
      "    (an integer)\n",
      "\n",
      "absl.flags:\n",
      "  --flagfile: Insert flag definitions from the given file into the command line.\n",
      "    (default: '')\n",
      "  --undefok: comma-separated list of flag names that it is okay to specify on\n",
      "    the command line even if the program does not define a flag with that name.\n",
      "    IMPORTANT: flags in this list that have arguments MUST use the --flag=value\n",
      "    format.\n",
      "    (default: '')\n"
     ]
    },
    {
     "data": {
      "text/plain": [
       "(None, tensorflow.python.platform.flags._FlagValuesWrapper)"
      ]
     },
     "execution_count": 95,
     "metadata": {},
     "output_type": "execute_result"
    }
   ],
   "source": [
    "print(FLAGS)"
   ]
  },
  {
   "cell_type": "code",
   "execution_count": 63,
   "metadata": {},
   "outputs": [
    {
     "data": {
      "text/plain": [
       "('eval', 'infer', 'train')"
      ]
     },
     "execution_count": 63,
     "metadata": {},
     "output_type": "execute_result"
    }
   ],
   "source": [
    "# pre defined flags\n",
    "tf.estimator.ModeKeys.EVAL, tf.estimator.ModeKeys.PREDICT, tf.estimator.ModeKeys.TRAIN"
   ]
  },
  {
   "cell_type": "markdown",
   "metadata": {},
   "source": [
    "### Printing the number relater to the number of events (epoch, batch size, ...)"
   ]
  },
  {
   "cell_type": "code",
   "execution_count": 64,
   "metadata": {},
   "outputs": [],
   "source": [
    "def print_summary_input(data, step='training'):\n",
    "    print('Summary for the {} dataset:'.format(step))\n",
    "    if step=='training':\n",
    "        print('  - number of epoch            :', FLAGS.epoch)\n",
    "        print('  - number of events per epoch :', len(data))\n",
    "        print('  - batch size                 :', FLAGS.batch_size)\n",
    "        print('  - number of step per epoch   :', FLAGS.step_per_epoch)\n",
    "        print('  - total number of steps      :', FLAGS.epoch * FLAGS.step_per_epoch)\n",
    "    else:\n",
    "        print('  - number of epoch            :', 1)\n",
    "        print('  - number of events per epoch :', len(data))\n",
    "        print('  - batch size                 :', None)\n",
    "        print('  - number of step per epoch   :', 1)\n",
    "        print('  - total number of steps      :', 1)  "
   ]
  },
  {
   "cell_type": "code",
   "execution_count": 65,
   "metadata": {},
   "outputs": [
    {
     "name": "stdout",
     "output_type": "stream",
     "text": [
      "Summary for the training dataset:\n",
      "  - number of epoch            : 100\n",
      "  - number of events per epoch : 60000\n",
      "  - batch size                 : 128\n",
      "  - number of step per epoch   : 468\n",
      "  - total number of steps      : 46800\n"
     ]
    }
   ],
   "source": [
    "print_summary_input(x_train)"
   ]
  },
  {
   "cell_type": "code",
   "execution_count": 66,
   "metadata": {},
   "outputs": [
    {
     "name": "stdout",
     "output_type": "stream",
     "text": [
      "Summary for the testing dataset:\n",
      "  - number of epoch            : 1\n",
      "  - number of events per epoch : 10000\n",
      "  - batch size                 : None\n",
      "  - number of step per epoch   : 1\n",
      "  - total number of steps      : 1\n"
     ]
    }
   ],
   "source": [
    "print_summary_input(x_test, 'testing')"
   ]
  },
  {
   "cell_type": "markdown",
   "metadata": {},
   "source": [
    "## Machine Learning modelling with Keras"
   ]
  },
  {
   "cell_type": "markdown",
   "metadata": {},
   "source": [
    "### Deleting existing models\n",
    "delete fist the folder for a clean start"
   ]
  },
  {
   "cell_type": "code",
   "execution_count": 67,
   "metadata": {},
   "outputs": [
    {
     "name": "stdout",
     "output_type": "stream",
     "text": [
      "trained model will be saved here:\n",
      " results/Models/Mnist/tf_1_12/estimator/ckpt/\n"
     ]
    }
   ],
   "source": [
    "print('trained model will be saved here:\\n', FLAGS.model_dir)"
   ]
  },
  {
   "cell_type": "code",
   "execution_count": 68,
   "metadata": {},
   "outputs": [],
   "source": [
    "# deleting the folder from previous try \n",
    "shutil.rmtree(FLAGS.model_dir, ignore_errors=True)"
   ]
  },
  {
   "cell_type": "code",
   "execution_count": 69,
   "metadata": {},
   "outputs": [
    {
     "name": "stdout",
     "output_type": "stream",
     "text": [
      "trained model will be saved here:\n",
      " results/Models/Mnist/tf_1_12/estimator/pt/\n"
     ]
    }
   ],
   "source": [
    "print('trained model will be saved here:\\n', FLAGS.saved_dir)"
   ]
  },
  {
   "cell_type": "code",
   "execution_count": 70,
   "metadata": {},
   "outputs": [],
   "source": [
    "# deleting the folder from previous try \n",
    "shutil.rmtree(FLAGS.saved_dir, ignore_errors=True)"
   ]
  },
  {
   "cell_type": "markdown",
   "metadata": {},
   "source": [
    "### Build the model"
   ]
  },
  {
   "cell_type": "code",
   "execution_count": 71,
   "metadata": {},
   "outputs": [],
   "source": [
    "# reset the model\n",
    "tf.keras.backend.clear_session()"
   ]
  },
  {
   "cell_type": "code",
   "execution_count": 72,
   "metadata": {},
   "outputs": [],
   "source": [
    "# build the model\n",
    "model_opt_tf = mnist_v1.keras_baseline_model(FLAGS, opt='tf')\n",
    "\n",
    "# store the origina weights\n",
    "initial_weights = model_opt_tf.get_weights()"
   ]
  },
  {
   "cell_type": "markdown",
   "metadata": {},
   "source": [
    "### Check the nuber of parameters"
   ]
  },
  {
   "cell_type": "code",
   "execution_count": 73,
   "metadata": {},
   "outputs": [
    {
     "name": "stdout",
     "output_type": "stream",
     "text": [
      "_________________________________________________________________\n",
      "Layer (type)                 Output Shape              Param #   \n",
      "=================================================================\n",
      "dense (Dense)                (None, 512)               401920    \n",
      "_________________________________________________________________\n",
      "dropout (Dropout)            (None, 512)               0         \n",
      "_________________________________________________________________\n",
      "dense_1 (Dense)              (None, 512)               262656    \n",
      "_________________________________________________________________\n",
      "dropout_1 (Dropout)          (None, 512)               0         \n",
      "_________________________________________________________________\n",
      "dense_2 (Dense)              (None, 10)                5130      \n",
      "=================================================================\n",
      "Total params: 669,706\n",
      "Trainable params: 669,706\n",
      "Non-trainable params: 0\n",
      "_________________________________________________________________\n"
     ]
    }
   ],
   "source": [
    "model_opt_tf.summary()"
   ]
  },
  {
   "cell_type": "markdown",
   "metadata": {},
   "source": [
    "### Check input and output layer names"
   ]
  },
  {
   "cell_type": "code",
   "execution_count": 74,
   "metadata": {},
   "outputs": [
    {
     "data": {
      "text/plain": [
       "['dense_input']"
      ]
     },
     "execution_count": 74,
     "metadata": {},
     "output_type": "execute_result"
    }
   ],
   "source": [
    "model_opt_tf.input_names # Use this name as the dictionary key in the TF input function"
   ]
  },
  {
   "cell_type": "code",
   "execution_count": 75,
   "metadata": {},
   "outputs": [
    {
     "data": {
      "text/plain": [
       "['dense_2']"
      ]
     },
     "execution_count": 75,
     "metadata": {},
     "output_type": "execute_result"
    }
   ],
   "source": [
    "model_opt_tf.output_names"
   ]
  },
  {
   "cell_type": "markdown",
   "metadata": {},
   "source": [
    "## Training and inference using  tf.estimator and tf.data.dataset"
   ]
  },
  {
   "cell_type": "markdown",
   "metadata": {},
   "source": [
    "- **batch_size** determines the number of samples in each mini batch. Its maximum is the number of all samples, which makes gradient descent accurate, the loss will decrease towards the minimum if the learning rate is small enough, but iterations are slower. Its minimum is 1, resulting in stochastic gradient descent: Fast but the direction of the gradient step is based only on one example, the loss may jump around. batch_size allows to adjust between the two extremes: accurate gradient direction and fast iteration. Also, the maximum value for batch_size may be limited if your model + data set does not fit into the available (GPU) memory.\n",
    "- **steps_per_epoch** the number of batch iterations before a training epoch is considered finished. If you have a training set of fixed size you can ignore it but it may be useful if you have a huge data set or if you are generating random data augmentations on the fly, i.e. if your training set has a (generated) infinite size. If you have the time to go through your whole training data set I recommend to skip this parameter.\n",
    "- **validation_steps** similar to steps_per_epoch but on the validation data set instead on the training data. If you have the time to go through your whole validation data set I recommend to skip this parameter.\n",
    "\n"
   ]
  },
  {
   "cell_type": "markdown",
   "metadata": {},
   "source": [
    "### Create some helper function"
   ]
  },
  {
   "cell_type": "code",
   "execution_count": 76,
   "metadata": {},
   "outputs": [],
   "source": [
    "class TimeHistory(tf.train.SessionRunHook):\n",
    "    def begin(self):\n",
    "        self.times = []\n",
    "\n",
    "    def before_run(self, run_context):\n",
    "        self.iter_time_start = time.time()\n",
    "\n",
    "    def after_run(self, run_context, run_values):\n",
    "        self.times.append(time.time() - self.iter_time_start)"
   ]
  },
  {
   "cell_type": "code",
   "execution_count": 77,
   "metadata": {},
   "outputs": [],
   "source": [
    "time_hist = TimeHistory()"
   ]
  },
  {
   "cell_type": "markdown",
   "metadata": {},
   "source": [
    "### Use tf.distribute.startegy work across multiple devices/machines"
   ]
  },
  {
   "cell_type": "code",
   "execution_count": 78,
   "metadata": {},
   "outputs": [
    {
     "name": "stdout",
     "output_type": "stream",
     "text": [
      "INFO:tensorflow:Initializing RunConfig with distribution strategies.\n",
      "INFO:tensorflow:Not using Distribute Coordinator.\n"
     ]
    }
   ],
   "source": [
    "# the tf.distribute.Strategy API is an easy way to distribute your training across multiple devices/machines\n",
    "\n",
    "#strategy=None\n",
    "## work with Keras with tf.train optimiser not tf.keras\n",
    "strategy = tf.contrib.distribute.OneDeviceStrategy('device:CPU:0')\n",
    "#strategy = tf.contrib.distribute.OneDeviceStrategy('device:GPU:0')\n",
    "#NUM_GPUS = 2\n",
    "#strategy = tf.contrib.distribute.MirroredStrategy(num_gpus=NUM_GPUS)\n",
    "#strategy = tf.contrib.distribute.MirroredStrategy()\n",
    "\n",
    "# config tf.estimator to use a give strategy\n",
    "training_config = tf.estimator.RunConfig(train_distribute=strategy,\n",
    "                                         model_dir=FLAGS.model_dir,\n",
    "                                         save_summary_steps=1,\n",
    "                                         save_checkpoints_steps=100,\n",
    "                                         keep_checkpoint_max=3,\n",
    "                                         log_step_count_steps=10)"
   ]
  },
  {
   "cell_type": "markdown",
   "metadata": {},
   "source": [
    "### Transform a keras model to estimator model"
   ]
  },
  {
   "cell_type": "code",
   "execution_count": 79,
   "metadata": {},
   "outputs": [
    {
     "name": "stdout",
     "output_type": "stream",
     "text": [
      "INFO:tensorflow:Using the Keras model provided.\n",
      "INFO:tensorflow:Using config: {'_model_dir': 'results/Models/Mnist/tf_1_12/estimator/ckpt/', '_tf_random_seed': None, '_save_summary_steps': 1, '_save_checkpoints_steps': 100, '_save_checkpoints_secs': None, '_session_config': allow_soft_placement: true\n",
      "graph_options {\n",
      "  rewrite_options {\n",
      "    meta_optimizer_iterations: ONE\n",
      "  }\n",
      "}\n",
      ", '_keep_checkpoint_max': 3, '_keep_checkpoint_every_n_hours': 10000, '_log_step_count_steps': 10, '_train_distribute': <tensorflow.contrib.distribute.python.one_device_strategy.OneDeviceStrategy object at 0x1c3cf6c8d0>, '_device_fn': None, '_protocol': None, '_eval_distribute': None, '_experimental_distribute': None, '_service': None, '_cluster_spec': <tensorflow.python.training.server_lib.ClusterSpec object at 0x1c69dcfe80>, '_task_type': 'worker', '_task_id': 0, '_global_id_in_cluster': 0, '_master': '', '_evaluation_master': '', '_is_chief': True, '_num_ps_replicas': 0, '_num_worker_replicas': 1, '_distribute_coordinator_mode': None}\n"
     ]
    }
   ],
   "source": [
    "# Set to the original weights for testing other pipelines\n",
    "model_opt_tf.set_weights(initial_weights)\n",
    "\n",
    "# transfor keras model to estimator model\n",
    "estimator_train_model = tf.keras.estimator.model_to_estimator(keras_model=model_opt_tf,\n",
    "                                                              config=training_config)"
   ]
  },
  {
   "cell_type": "markdown",
   "metadata": {},
   "source": [
    "### Input dataset\n",
    "Use tf.data.dataset to feed the Keras model"
   ]
  },
  {
   "cell_type": "code",
   "execution_count": 80,
   "metadata": {},
   "outputs": [],
   "source": [
    "# be sure you have the tfrecords file locally if you want to train localy (or get them from Cloud Storage)\n",
    "path_test_tfrecords = 'data/mnist/tfrecords_image_test'\n",
    "path_train_tfrecords = 'data/mnist/tfrecords_image_train'"
   ]
  },
  {
   "cell_type": "markdown",
   "metadata": {},
   "source": [
    "Input dataset functions for training and testing will be pass during fit to load, convert, preprocess and reshuffle the images and labels "
   ]
  },
  {
   "cell_type": "markdown",
   "metadata": {},
   "source": [
    "### Fit the model"
   ]
  },
  {
   "cell_type": "raw",
   "metadata": {},
   "source": [
    "# method and arguments\n",
    "\n",
    "# train\n",
    "train(\n",
    "    input_fn,\n",
    "    hooks=None,\n",
    "    steps=None,\n",
    "    max_steps=None,\n",
    "    saving_listeners=None\n",
    ")\n",
    "--> Trains a model given training data input_fn\n",
    "\n",
    "--> return: nothing\n",
    "\n",
    "# evalute\n",
    "evaluate(\n",
    "    input_fn,\n",
    "    steps=None,\n",
    "    hooks=None,\n",
    "    checkpoint_path=None,\n",
    "    name=None\n",
    ")\n",
    "--> Evaluates the model given evaluation data input_fn\n",
    "\n",
    "--> return: A dict containing the evaluation metrics specified in model_fn keyed by name, as well as an entry global_step which contains the value of the global step for which this evaluation was performed. For canned estimators, the dict contains the loss (mean loss per mini-batch) and the average_loss (mean loss per sample). Canned classifiers also return the accuracy. Canned regressors also return the label/mean and the prediction/mean.\n",
    "\n",
    "# predict\n",
    "predict(\n",
    "    input_fn,\n",
    "    predict_keys=None,\n",
    "    hooks=None,\n",
    "    checkpoint_path=None,\n",
    "    yield_single_examples=True\n",
    ")\n",
    "--> Yields predictions for given features.\n",
    "\n",
    "--> return: Evaluated values of predictions tensors\n",
    "\n",
    "# train and evaluate\n",
    "tf.estimator.train_and_evaluate(\n",
    "    estimator,\n",
    "    train_spec,\n",
    "    eval_spec\n",
    ")\n",
    "--> Train and evaluate the estimator\n",
    "\n",
    "--> return: A tuple of the result of the evaluate call to the Estimator and the export results using the specified ExportStrategy. Currently, the return value is undefined for distributed training mode."
   ]
  },
  {
   "cell_type": "code",
   "execution_count": 78,
   "metadata": {},
   "outputs": [],
   "source": [
    "_=[os.remove(x) for x in glob.glob(FLAGS.model_dir+'*') if 'keras' not in x]"
   ]
  },
  {
   "cell_type": "code",
   "execution_count": 79,
   "metadata": {},
   "outputs": [
    {
     "name": "stdout",
     "output_type": "stream",
     "text": [
      "INFO:tensorflow:input_dataset_fn: TRAIN, train\n",
      "INFO:tensorflow:Calling model_fn.\n",
      "INFO:tensorflow:Done calling model_fn.\n",
      "INFO:tensorflow:Warm-starting with WarmStartSettings: WarmStartSettings(ckpt_to_initialize_from='results/Models/Mnist/tf_1_12/estimator/ckpt/keras/keras_model.ckpt', vars_to_warm_start='.*', var_name_to_vocab_info={}, var_name_to_prev_var_name={})\n",
      "INFO:tensorflow:Warm-starting from: ('results/Models/Mnist/tf_1_12/estimator/ckpt/keras/keras_model.ckpt',)\n",
      "INFO:tensorflow:Warm-starting variable: dense/kernel; prev_var_name: Unchanged\n",
      "INFO:tensorflow:Warm-starting variable: dense/bias; prev_var_name: Unchanged\n",
      "INFO:tensorflow:Warm-starting variable: dense_1/kernel; prev_var_name: Unchanged\n",
      "INFO:tensorflow:Warm-starting variable: dense_1/bias; prev_var_name: Unchanged\n",
      "INFO:tensorflow:Warm-starting variable: dense_2/kernel; prev_var_name: Unchanged\n",
      "INFO:tensorflow:Warm-starting variable: dense_2/bias; prev_var_name: Unchanged\n",
      "INFO:tensorflow:Create CheckpointSaverHook.\n",
      "INFO:tensorflow:Graph was finalized.\n",
      "INFO:tensorflow:Running local_init_op.\n",
      "INFO:tensorflow:Done running local_init_op.\n",
      "INFO:tensorflow:Saving checkpoints for 0 into results/Models/Mnist/tf_1_12/estimator/ckpt/model.ckpt.\n",
      "INFO:tensorflow:loss = 2.5371077, step = 0\n",
      "INFO:tensorflow:Saving checkpoints for 20 into results/Models/Mnist/tf_1_12/estimator/ckpt/model.ckpt.\n",
      "INFO:tensorflow:Saving checkpoints for 40 into results/Models/Mnist/tf_1_12/estimator/ckpt/model.ckpt.\n",
      "INFO:tensorflow:Saving checkpoints for 60 into results/Models/Mnist/tf_1_12/estimator/ckpt/model.ckpt.\n",
      "INFO:tensorflow:Saving checkpoints for 80 into results/Models/Mnist/tf_1_12/estimator/ckpt/model.ckpt.\n",
      "INFO:tensorflow:Saving checkpoints for 100 into results/Models/Mnist/tf_1_12/estimator/ckpt/model.ckpt.\n",
      "INFO:tensorflow:global_step/sec: 20.6277\n",
      "INFO:tensorflow:loss = 0.15460324, step = 100 (4.850 sec)\n",
      "INFO:tensorflow:Saving checkpoints for 120 into results/Models/Mnist/tf_1_12/estimator/ckpt/model.ckpt.\n",
      "INFO:tensorflow:Saving checkpoints for 140 into results/Models/Mnist/tf_1_12/estimator/ckpt/model.ckpt.\n",
      "INFO:tensorflow:Saving checkpoints for 160 into results/Models/Mnist/tf_1_12/estimator/ckpt/model.ckpt.\n",
      "INFO:tensorflow:Saving checkpoints for 180 into results/Models/Mnist/tf_1_12/estimator/ckpt/model.ckpt.\n",
      "INFO:tensorflow:Saving checkpoints for 200 into results/Models/Mnist/tf_1_12/estimator/ckpt/model.ckpt.\n",
      "INFO:tensorflow:global_step/sec: 25.224\n",
      "INFO:tensorflow:loss = 0.22668627, step = 200 (3.965 sec)\n",
      "INFO:tensorflow:Saving checkpoints for 220 into results/Models/Mnist/tf_1_12/estimator/ckpt/model.ckpt.\n",
      "INFO:tensorflow:Saving checkpoints for 240 into results/Models/Mnist/tf_1_12/estimator/ckpt/model.ckpt.\n",
      "INFO:tensorflow:Saving checkpoints for 260 into results/Models/Mnist/tf_1_12/estimator/ckpt/model.ckpt.\n",
      "INFO:tensorflow:Saving checkpoints for 280 into results/Models/Mnist/tf_1_12/estimator/ckpt/model.ckpt.\n",
      "INFO:tensorflow:Saving checkpoints for 300 into results/Models/Mnist/tf_1_12/estimator/ckpt/model.ckpt.\n",
      "INFO:tensorflow:global_step/sec: 25.383\n",
      "INFO:tensorflow:loss = 0.18011616, step = 300 (3.939 sec)\n",
      "INFO:tensorflow:Saving checkpoints for 320 into results/Models/Mnist/tf_1_12/estimator/ckpt/model.ckpt.\n",
      "INFO:tensorflow:Saving checkpoints for 340 into results/Models/Mnist/tf_1_12/estimator/ckpt/model.ckpt.\n",
      "INFO:tensorflow:Saving checkpoints for 360 into results/Models/Mnist/tf_1_12/estimator/ckpt/model.ckpt.\n",
      "INFO:tensorflow:Saving checkpoints for 380 into results/Models/Mnist/tf_1_12/estimator/ckpt/model.ckpt.\n",
      "INFO:tensorflow:Saving checkpoints for 400 into results/Models/Mnist/tf_1_12/estimator/ckpt/model.ckpt.\n",
      "INFO:tensorflow:global_step/sec: 23.743\n",
      "INFO:tensorflow:loss = 0.14215985, step = 400 (4.214 sec)\n",
      "INFO:tensorflow:Saving checkpoints for 420 into results/Models/Mnist/tf_1_12/estimator/ckpt/model.ckpt.\n",
      "INFO:tensorflow:Saving checkpoints for 440 into results/Models/Mnist/tf_1_12/estimator/ckpt/model.ckpt.\n",
      "INFO:tensorflow:Saving checkpoints for 460 into results/Models/Mnist/tf_1_12/estimator/ckpt/model.ckpt.\n",
      "INFO:tensorflow:Saving checkpoints for 480 into results/Models/Mnist/tf_1_12/estimator/ckpt/model.ckpt.\n",
      "INFO:tensorflow:Saving checkpoints for 500 into results/Models/Mnist/tf_1_12/estimator/ckpt/model.ckpt.\n",
      "INFO:tensorflow:global_step/sec: 20.8821\n",
      "INFO:tensorflow:loss = 0.103973165, step = 500 (4.787 sec)\n",
      "INFO:tensorflow:Saving checkpoints for 520 into results/Models/Mnist/tf_1_12/estimator/ckpt/model.ckpt.\n",
      "INFO:tensorflow:Saving checkpoints for 540 into results/Models/Mnist/tf_1_12/estimator/ckpt/model.ckpt.\n",
      "INFO:tensorflow:Saving checkpoints for 560 into results/Models/Mnist/tf_1_12/estimator/ckpt/model.ckpt.\n",
      "INFO:tensorflow:Saving checkpoints for 580 into results/Models/Mnist/tf_1_12/estimator/ckpt/model.ckpt.\n",
      "INFO:tensorflow:Saving checkpoints for 600 into results/Models/Mnist/tf_1_12/estimator/ckpt/model.ckpt.\n",
      "INFO:tensorflow:global_step/sec: 18.4768\n",
      "INFO:tensorflow:loss = 0.090466, step = 600 (5.413 sec)\n",
      "INFO:tensorflow:Saving checkpoints for 620 into results/Models/Mnist/tf_1_12/estimator/ckpt/model.ckpt.\n",
      "INFO:tensorflow:Saving checkpoints for 640 into results/Models/Mnist/tf_1_12/estimator/ckpt/model.ckpt.\n",
      "INFO:tensorflow:Saving checkpoints for 660 into results/Models/Mnist/tf_1_12/estimator/ckpt/model.ckpt.\n",
      "INFO:tensorflow:Saving checkpoints for 680 into results/Models/Mnist/tf_1_12/estimator/ckpt/model.ckpt.\n",
      "INFO:tensorflow:Saving checkpoints for 700 into results/Models/Mnist/tf_1_12/estimator/ckpt/model.ckpt.\n",
      "INFO:tensorflow:global_step/sec: 21.131\n",
      "INFO:tensorflow:loss = 0.08377133, step = 700 (4.732 sec)\n",
      "INFO:tensorflow:Saving checkpoints for 720 into results/Models/Mnist/tf_1_12/estimator/ckpt/model.ckpt.\n",
      "INFO:tensorflow:Saving checkpoints for 740 into results/Models/Mnist/tf_1_12/estimator/ckpt/model.ckpt.\n",
      "INFO:tensorflow:Saving checkpoints for 760 into results/Models/Mnist/tf_1_12/estimator/ckpt/model.ckpt.\n",
      "INFO:tensorflow:Saving checkpoints for 780 into results/Models/Mnist/tf_1_12/estimator/ckpt/model.ckpt.\n",
      "INFO:tensorflow:Saving checkpoints for 800 into results/Models/Mnist/tf_1_12/estimator/ckpt/model.ckpt.\n",
      "INFO:tensorflow:global_step/sec: 21.2993\n",
      "INFO:tensorflow:loss = 0.06619618, step = 800 (4.695 sec)\n",
      "INFO:tensorflow:Saving checkpoints for 820 into results/Models/Mnist/tf_1_12/estimator/ckpt/model.ckpt.\n",
      "INFO:tensorflow:Saving checkpoints for 840 into results/Models/Mnist/tf_1_12/estimator/ckpt/model.ckpt.\n",
      "INFO:tensorflow:Saving checkpoints for 860 into results/Models/Mnist/tf_1_12/estimator/ckpt/model.ckpt.\n",
      "INFO:tensorflow:Saving checkpoints for 880 into results/Models/Mnist/tf_1_12/estimator/ckpt/model.ckpt.\n",
      "INFO:tensorflow:Saving checkpoints for 900 into results/Models/Mnist/tf_1_12/estimator/ckpt/model.ckpt.\n",
      "INFO:tensorflow:global_step/sec: 20.4901\n",
      "INFO:tensorflow:loss = 0.12774345, step = 900 (4.882 sec)\n",
      "INFO:tensorflow:Saving checkpoints for 920 into results/Models/Mnist/tf_1_12/estimator/ckpt/model.ckpt.\n",
      "INFO:tensorflow:Saving checkpoints for 940 into results/Models/Mnist/tf_1_12/estimator/ckpt/model.ckpt.\n",
      "INFO:tensorflow:Saving checkpoints for 960 into results/Models/Mnist/tf_1_12/estimator/ckpt/model.ckpt.\n",
      "INFO:tensorflow:Saving checkpoints for 980 into results/Models/Mnist/tf_1_12/estimator/ckpt/model.ckpt.\n",
      "INFO:tensorflow:Saving checkpoints for 1000 into results/Models/Mnist/tf_1_12/estimator/ckpt/model.ckpt.\n",
      "INFO:tensorflow:Finalize system.\n",
      "INFO:tensorflow:Loss for final step: 0.030821266.\n",
      "CPU times: user 2min 53s, sys: 21.9 s, total: 3min 15s\n",
      "Wall time: 48.2 s\n"
     ]
    }
   ],
   "source": [
    "%%time\n",
    "# need if file are removed with previous event files\n",
    "tf.summary.FileWriterCache.clear()\n",
    "# Delete both saved and checkpointed models\n",
    "#shutil.rmtree(FLAGS.model_dir, ignore_errors=True)\n",
    "#shutil.rmtree(FLAGS.saved_dir, ignore_errors=True)\n",
    "# Fit the model (using estimator.train and data.Dataset)\n",
    "estimator_train_model.train(input_fn=lambda:mnist_v1.input_mnist_tfrecord_dataset_fn(glob.glob(path_train_tfrecords+'/train*.tfrecords'),\n",
    "                                                                                     FLAGS,\n",
    "                                                                                     mode=tf.estimator.ModeKeys.TRAIN,\n",
    "                                                                                     batch_size=FLAGS.batch_size),\n",
    "                            steps=1000),\n",
    "                            hooks=[time_hist])"
   ]
  },
  {
   "cell_type": "code",
   "execution_count": 157,
   "metadata": {
    "scrolled": false
   },
   "outputs": [
    {
     "name": "stdout",
     "output_type": "stream",
     "text": [
      "INFO:tensorflow:Initializing RunConfig with distribution strategies.\n",
      "INFO:tensorflow:Not using Distribute Coordinator.\n",
      "INFO:tensorflow:Using the Keras model provided.\n",
      "INFO:tensorflow:Using config: {'_model_dir': 'results/Models/Mnist/tf_1_12/estimator/ckpt/', '_tf_random_seed': None, '_save_summary_steps': 20, '_save_checkpoints_steps': 20, '_save_checkpoints_secs': None, '_session_config': allow_soft_placement: true\n",
      "graph_options {\n",
      "  rewrite_options {\n",
      "    meta_optimizer_iterations: ONE\n",
      "  }\n",
      "}\n",
      ", '_keep_checkpoint_max': 5, '_keep_checkpoint_every_n_hours': 10000, '_log_step_count_steps': 100, '_train_distribute': <tensorflow.contrib.distribute.python.one_device_strategy.OneDeviceStrategy object at 0x1c4699e208>, '_device_fn': None, '_protocol': None, '_eval_distribute': None, '_experimental_distribute': None, '_service': None, '_cluster_spec': <tensorflow.python.training.server_lib.ClusterSpec object at 0x1c3fcf22b0>, '_task_type': 'worker', '_task_id': 0, '_global_id_in_cluster': 0, '_master': '', '_evaluation_master': '', '_is_chief': True, '_num_ps_replicas': 0, '_num_worker_replicas': 1, '_distribute_coordinator_mode': None}\n",
      "INFO:tensorflow:Not using Distribute Coordinator.\n",
      "INFO:tensorflow:Running training and evaluation locally (non-distributed).\n",
      "INFO:tensorflow:Start train and evaluate loop. The evaluate will happen after every checkpoint. Checkpoint frequency is determined based on RunConfig arguments: save_checkpoints_steps 20 or save_checkpoints_secs None.\n",
      "INFO:tensorflow:input_dataset_fn: TRAIN, train\n",
      "INFO:tensorflow:Calling model_fn.\n",
      "INFO:tensorflow:Done calling model_fn.\n",
      "INFO:tensorflow:Warm-starting with WarmStartSettings: WarmStartSettings(ckpt_to_initialize_from='results/Models/Mnist/tf_1_12/estimator/ckpt/keras/keras_model.ckpt', vars_to_warm_start='.*', var_name_to_vocab_info={}, var_name_to_prev_var_name={})\n",
      "INFO:tensorflow:Warm-starting from: ('results/Models/Mnist/tf_1_12/estimator/ckpt/keras/keras_model.ckpt',)\n",
      "INFO:tensorflow:Warm-starting variable: dense/kernel; prev_var_name: Unchanged\n",
      "INFO:tensorflow:Warm-starting variable: dense/bias; prev_var_name: Unchanged\n",
      "INFO:tensorflow:Warm-starting variable: dense_1/kernel; prev_var_name: Unchanged\n",
      "INFO:tensorflow:Warm-starting variable: dense_1/bias; prev_var_name: Unchanged\n",
      "INFO:tensorflow:Warm-starting variable: dense_2/kernel; prev_var_name: Unchanged\n",
      "INFO:tensorflow:Warm-starting variable: dense_2/bias; prev_var_name: Unchanged\n",
      "INFO:tensorflow:Create CheckpointSaverHook.\n",
      "INFO:tensorflow:Graph was finalized.\n",
      "INFO:tensorflow:Running local_init_op.\n",
      "INFO:tensorflow:Done running local_init_op.\n",
      "INFO:tensorflow:Saving checkpoints for 0 into results/Models/Mnist/tf_1_12/estimator/ckpt/model.ckpt.\n",
      "INFO:tensorflow:loss = 2.362633, step = 0\n",
      "INFO:tensorflow:Saving checkpoints for 20 into results/Models/Mnist/tf_1_12/estimator/ckpt/model.ckpt.\n",
      "INFO:tensorflow:input_dataset_fn: EVAL, eval\n",
      "not training 1 100\n",
      "INFO:tensorflow:Calling model_fn.\n",
      "INFO:tensorflow:Done calling model_fn.\n",
      "INFO:tensorflow:Starting evaluation at 2019-03-19-17:07:42\n",
      "INFO:tensorflow:Graph was finalized.\n",
      "INFO:tensorflow:Restoring parameters from results/Models/Mnist/tf_1_12/estimator/ckpt/model.ckpt-20\n",
      "INFO:tensorflow:Running local_init_op.\n",
      "INFO:tensorflow:Done running local_init_op.\n",
      "INFO:tensorflow:Evaluation [10/100]\n",
      "INFO:tensorflow:Evaluation [20/100]\n",
      "INFO:tensorflow:Evaluation [30/100]\n",
      "INFO:tensorflow:Evaluation [40/100]\n",
      "INFO:tensorflow:Evaluation [50/100]\n",
      "INFO:tensorflow:Evaluation [60/100]\n",
      "INFO:tensorflow:Evaluation [70/100]\n",
      "INFO:tensorflow:Finished evaluation at 2019-03-19-17:07:44\n",
      "INFO:tensorflow:Saving dict for global step 20: accuracy = 0.875, global_step = 20, loss = 0.42924416\n",
      "INFO:tensorflow:Saving 'checkpoint_path' summary for global step 20: results/Models/Mnist/tf_1_12/estimator/ckpt/model.ckpt-20\n",
      "INFO:tensorflow:Saving checkpoints for 40 into results/Models/Mnist/tf_1_12/estimator/ckpt/model.ckpt.\n",
      "INFO:tensorflow:Skip the current checkpoint eval due to throttle secs (300 secs).\n",
      "INFO:tensorflow:Saving checkpoints for 60 into results/Models/Mnist/tf_1_12/estimator/ckpt/model.ckpt.\n",
      "INFO:tensorflow:Skip the current checkpoint eval due to throttle secs (300 secs).\n",
      "INFO:tensorflow:Saving checkpoints for 80 into results/Models/Mnist/tf_1_12/estimator/ckpt/model.ckpt.\n",
      "INFO:tensorflow:Skip the current checkpoint eval due to throttle secs (300 secs).\n",
      "INFO:tensorflow:Saving checkpoints for 100 into results/Models/Mnist/tf_1_12/estimator/ckpt/model.ckpt.\n",
      "INFO:tensorflow:Skip the current checkpoint eval due to throttle secs (300 secs).\n",
      "INFO:tensorflow:global_step/sec: 15.8596\n",
      "INFO:tensorflow:loss = 0.19121814, step = 100 (6.306 sec)\n",
      "INFO:tensorflow:Saving checkpoints for 120 into results/Models/Mnist/tf_1_12/estimator/ckpt/model.ckpt.\n",
      "INFO:tensorflow:Skip the current checkpoint eval due to throttle secs (300 secs).\n",
      "INFO:tensorflow:Saving checkpoints for 140 into results/Models/Mnist/tf_1_12/estimator/ckpt/model.ckpt.\n",
      "INFO:tensorflow:Skip the current checkpoint eval due to throttle secs (300 secs).\n",
      "INFO:tensorflow:Saving checkpoints for 160 into results/Models/Mnist/tf_1_12/estimator/ckpt/model.ckpt.\n",
      "INFO:tensorflow:Skip the current checkpoint eval due to throttle secs (300 secs).\n",
      "INFO:tensorflow:Saving checkpoints for 180 into results/Models/Mnist/tf_1_12/estimator/ckpt/model.ckpt.\n",
      "INFO:tensorflow:Skip the current checkpoint eval due to throttle secs (300 secs).\n",
      "INFO:tensorflow:Saving checkpoints for 200 into results/Models/Mnist/tf_1_12/estimator/ckpt/model.ckpt.\n",
      "INFO:tensorflow:Skip the current checkpoint eval due to throttle secs (300 secs).\n",
      "INFO:tensorflow:global_step/sec: 29.0881\n",
      "INFO:tensorflow:loss = 0.21503985, step = 200 (3.439 sec)\n",
      "INFO:tensorflow:Saving checkpoints for 220 into results/Models/Mnist/tf_1_12/estimator/ckpt/model.ckpt.\n",
      "INFO:tensorflow:Skip the current checkpoint eval due to throttle secs (300 secs).\n",
      "INFO:tensorflow:Saving checkpoints for 240 into results/Models/Mnist/tf_1_12/estimator/ckpt/model.ckpt.\n",
      "INFO:tensorflow:Skip the current checkpoint eval due to throttle secs (300 secs).\n",
      "INFO:tensorflow:Saving checkpoints for 260 into results/Models/Mnist/tf_1_12/estimator/ckpt/model.ckpt.\n",
      "INFO:tensorflow:Skip the current checkpoint eval due to throttle secs (300 secs).\n",
      "INFO:tensorflow:Saving checkpoints for 280 into results/Models/Mnist/tf_1_12/estimator/ckpt/model.ckpt.\n",
      "INFO:tensorflow:Skip the current checkpoint eval due to throttle secs (300 secs).\n",
      "INFO:tensorflow:Saving checkpoints for 300 into results/Models/Mnist/tf_1_12/estimator/ckpt/model.ckpt.\n",
      "INFO:tensorflow:Skip the current checkpoint eval due to throttle secs (300 secs).\n",
      "INFO:tensorflow:global_step/sec: 27.4629\n",
      "INFO:tensorflow:loss = 0.1456757, step = 300 (3.641 sec)\n",
      "INFO:tensorflow:Saving checkpoints for 320 into results/Models/Mnist/tf_1_12/estimator/ckpt/model.ckpt.\n",
      "INFO:tensorflow:Skip the current checkpoint eval due to throttle secs (300 secs).\n",
      "INFO:tensorflow:Saving checkpoints for 340 into results/Models/Mnist/tf_1_12/estimator/ckpt/model.ckpt.\n",
      "INFO:tensorflow:Skip the current checkpoint eval due to throttle secs (300 secs).\n",
      "INFO:tensorflow:Saving checkpoints for 360 into results/Models/Mnist/tf_1_12/estimator/ckpt/model.ckpt.\n",
      "INFO:tensorflow:Skip the current checkpoint eval due to throttle secs (300 secs).\n",
      "INFO:tensorflow:Saving checkpoints for 380 into results/Models/Mnist/tf_1_12/estimator/ckpt/model.ckpt.\n",
      "INFO:tensorflow:Skip the current checkpoint eval due to throttle secs (300 secs).\n",
      "INFO:tensorflow:Saving checkpoints for 400 into results/Models/Mnist/tf_1_12/estimator/ckpt/model.ckpt.\n",
      "INFO:tensorflow:Skip the current checkpoint eval due to throttle secs (300 secs).\n",
      "INFO:tensorflow:global_step/sec: 26.0589\n",
      "INFO:tensorflow:loss = 0.18344682, step = 400 (3.838 sec)\n",
      "INFO:tensorflow:Saving checkpoints for 420 into results/Models/Mnist/tf_1_12/estimator/ckpt/model.ckpt.\n",
      "INFO:tensorflow:Skip the current checkpoint eval due to throttle secs (300 secs).\n",
      "INFO:tensorflow:Saving checkpoints for 440 into results/Models/Mnist/tf_1_12/estimator/ckpt/model.ckpt.\n",
      "INFO:tensorflow:Skip the current checkpoint eval due to throttle secs (300 secs).\n",
      "INFO:tensorflow:Saving checkpoints for 460 into results/Models/Mnist/tf_1_12/estimator/ckpt/model.ckpt.\n"
     ]
    },
    {
     "name": "stdout",
     "output_type": "stream",
     "text": [
      "INFO:tensorflow:Skip the current checkpoint eval due to throttle secs (300 secs).\n",
      "INFO:tensorflow:Saving checkpoints for 480 into results/Models/Mnist/tf_1_12/estimator/ckpt/model.ckpt.\n",
      "INFO:tensorflow:Skip the current checkpoint eval due to throttle secs (300 secs).\n",
      "INFO:tensorflow:Saving checkpoints for 500 into results/Models/Mnist/tf_1_12/estimator/ckpt/model.ckpt.\n",
      "INFO:tensorflow:Skip the current checkpoint eval due to throttle secs (300 secs).\n",
      "INFO:tensorflow:global_step/sec: 24.344\n",
      "INFO:tensorflow:loss = 0.100657165, step = 500 (4.109 sec)\n",
      "INFO:tensorflow:Saving checkpoints for 520 into results/Models/Mnist/tf_1_12/estimator/ckpt/model.ckpt.\n",
      "INFO:tensorflow:Skip the current checkpoint eval due to throttle secs (300 secs).\n",
      "INFO:tensorflow:Saving checkpoints for 540 into results/Models/Mnist/tf_1_12/estimator/ckpt/model.ckpt.\n",
      "INFO:tensorflow:Skip the current checkpoint eval due to throttle secs (300 secs).\n",
      "INFO:tensorflow:Saving checkpoints for 560 into results/Models/Mnist/tf_1_12/estimator/ckpt/model.ckpt.\n",
      "INFO:tensorflow:Skip the current checkpoint eval due to throttle secs (300 secs).\n",
      "INFO:tensorflow:Saving checkpoints for 580 into results/Models/Mnist/tf_1_12/estimator/ckpt/model.ckpt.\n",
      "INFO:tensorflow:Skip the current checkpoint eval due to throttle secs (300 secs).\n",
      "INFO:tensorflow:Saving checkpoints for 600 into results/Models/Mnist/tf_1_12/estimator/ckpt/model.ckpt.\n",
      "INFO:tensorflow:Skip the current checkpoint eval due to throttle secs (300 secs).\n",
      "INFO:tensorflow:global_step/sec: 26.7386\n",
      "INFO:tensorflow:loss = 0.09571658, step = 600 (3.737 sec)\n",
      "INFO:tensorflow:Saving checkpoints for 620 into results/Models/Mnist/tf_1_12/estimator/ckpt/model.ckpt.\n",
      "INFO:tensorflow:Skip the current checkpoint eval due to throttle secs (300 secs).\n",
      "INFO:tensorflow:Saving checkpoints for 640 into results/Models/Mnist/tf_1_12/estimator/ckpt/model.ckpt.\n",
      "INFO:tensorflow:Skip the current checkpoint eval due to throttle secs (300 secs).\n",
      "INFO:tensorflow:Saving checkpoints for 660 into results/Models/Mnist/tf_1_12/estimator/ckpt/model.ckpt.\n",
      "INFO:tensorflow:Skip the current checkpoint eval due to throttle secs (300 secs).\n",
      "INFO:tensorflow:Saving checkpoints for 680 into results/Models/Mnist/tf_1_12/estimator/ckpt/model.ckpt.\n",
      "INFO:tensorflow:Skip the current checkpoint eval due to throttle secs (300 secs).\n",
      "INFO:tensorflow:Saving checkpoints for 700 into results/Models/Mnist/tf_1_12/estimator/ckpt/model.ckpt.\n",
      "INFO:tensorflow:Skip the current checkpoint eval due to throttle secs (300 secs).\n",
      "INFO:tensorflow:global_step/sec: 27.83\n",
      "INFO:tensorflow:loss = 0.08361186, step = 700 (3.594 sec)\n",
      "INFO:tensorflow:Saving checkpoints for 720 into results/Models/Mnist/tf_1_12/estimator/ckpt/model.ckpt.\n",
      "INFO:tensorflow:Skip the current checkpoint eval due to throttle secs (300 secs).\n",
      "INFO:tensorflow:Saving checkpoints for 740 into results/Models/Mnist/tf_1_12/estimator/ckpt/model.ckpt.\n",
      "INFO:tensorflow:Skip the current checkpoint eval due to throttle secs (300 secs).\n",
      "INFO:tensorflow:Saving checkpoints for 760 into results/Models/Mnist/tf_1_12/estimator/ckpt/model.ckpt.\n",
      "INFO:tensorflow:Skip the current checkpoint eval due to throttle secs (300 secs).\n",
      "INFO:tensorflow:Saving checkpoints for 780 into results/Models/Mnist/tf_1_12/estimator/ckpt/model.ckpt.\n",
      "INFO:tensorflow:Skip the current checkpoint eval due to throttle secs (300 secs).\n",
      "INFO:tensorflow:Saving checkpoints for 800 into results/Models/Mnist/tf_1_12/estimator/ckpt/model.ckpt.\n",
      "INFO:tensorflow:Skip the current checkpoint eval due to throttle secs (300 secs).\n",
      "INFO:tensorflow:global_step/sec: 27.6794\n",
      "INFO:tensorflow:loss = 0.06682727, step = 800 (3.612 sec)\n",
      "INFO:tensorflow:Saving checkpoints for 820 into results/Models/Mnist/tf_1_12/estimator/ckpt/model.ckpt.\n",
      "INFO:tensorflow:Skip the current checkpoint eval due to throttle secs (300 secs).\n",
      "INFO:tensorflow:Saving checkpoints for 840 into results/Models/Mnist/tf_1_12/estimator/ckpt/model.ckpt.\n",
      "INFO:tensorflow:Skip the current checkpoint eval due to throttle secs (300 secs).\n",
      "INFO:tensorflow:Saving checkpoints for 860 into results/Models/Mnist/tf_1_12/estimator/ckpt/model.ckpt.\n",
      "INFO:tensorflow:Skip the current checkpoint eval due to throttle secs (300 secs).\n",
      "INFO:tensorflow:Saving checkpoints for 880 into results/Models/Mnist/tf_1_12/estimator/ckpt/model.ckpt.\n",
      "INFO:tensorflow:Skip the current checkpoint eval due to throttle secs (300 secs).\n",
      "INFO:tensorflow:Saving checkpoints for 900 into results/Models/Mnist/tf_1_12/estimator/ckpt/model.ckpt.\n",
      "INFO:tensorflow:Skip the current checkpoint eval due to throttle secs (300 secs).\n",
      "INFO:tensorflow:global_step/sec: 27.6616\n",
      "INFO:tensorflow:loss = 0.13189283, step = 900 (3.615 sec)\n",
      "INFO:tensorflow:Saving checkpoints for 920 into results/Models/Mnist/tf_1_12/estimator/ckpt/model.ckpt.\n",
      "INFO:tensorflow:Skip the current checkpoint eval due to throttle secs (300 secs).\n",
      "INFO:tensorflow:Saving checkpoints for 940 into results/Models/Mnist/tf_1_12/estimator/ckpt/model.ckpt.\n",
      "INFO:tensorflow:Skip the current checkpoint eval due to throttle secs (300 secs).\n",
      "INFO:tensorflow:Saving checkpoints for 960 into results/Models/Mnist/tf_1_12/estimator/ckpt/model.ckpt.\n",
      "INFO:tensorflow:Skip the current checkpoint eval due to throttle secs (300 secs).\n",
      "INFO:tensorflow:Saving checkpoints for 980 into results/Models/Mnist/tf_1_12/estimator/ckpt/model.ckpt.\n",
      "INFO:tensorflow:Skip the current checkpoint eval due to throttle secs (300 secs).\n",
      "INFO:tensorflow:Saving checkpoints for 1000 into results/Models/Mnist/tf_1_12/estimator/ckpt/model.ckpt.\n",
      "INFO:tensorflow:Skip the current checkpoint eval due to throttle secs (300 secs).\n",
      "INFO:tensorflow:input_dataset_fn: EVAL, eval\n",
      "not training 1 100\n",
      "INFO:tensorflow:Calling model_fn.\n",
      "INFO:tensorflow:Done calling model_fn.\n",
      "INFO:tensorflow:Starting evaluation at 2019-03-19-17:08:20\n",
      "INFO:tensorflow:Graph was finalized.\n",
      "INFO:tensorflow:Restoring parameters from results/Models/Mnist/tf_1_12/estimator/ckpt/model.ckpt-1000\n",
      "INFO:tensorflow:Running local_init_op.\n",
      "INFO:tensorflow:Done running local_init_op.\n",
      "INFO:tensorflow:Evaluation [10/100]\n",
      "INFO:tensorflow:Evaluation [20/100]\n",
      "INFO:tensorflow:Evaluation [30/100]\n",
      "INFO:tensorflow:Evaluation [40/100]\n",
      "INFO:tensorflow:Evaluation [50/100]\n",
      "INFO:tensorflow:Evaluation [60/100]\n",
      "INFO:tensorflow:Evaluation [70/100]\n",
      "INFO:tensorflow:Finished evaluation at 2019-03-19-17:08:22\n",
      "INFO:tensorflow:Saving dict for global step 1000: accuracy = 0.97725475, global_step = 1000, loss = 0.075255476\n",
      "INFO:tensorflow:Saving 'checkpoint_path' summary for global step 1000: results/Models/Mnist/tf_1_12/estimator/ckpt/model.ckpt-1000\n",
      "INFO:tensorflow:Finalize system.\n",
      "INFO:tensorflow:Loss for final step: 0.05002329.\n",
      "CPU times: user 2min 52s, sys: 18.8 s, total: 3min 11s\n",
      "Wall time: 44.8 s\n"
     ]
    }
   ],
   "source": [
    "%%time\n",
    "# Delete both saved and checkpointed models\n",
    "shutil.rmtree(FLAGS.model_dir, ignore_errors=True)\n",
    "shutil.rmtree(FLAGS.saved_dir, ignore_errors=True)\n",
    "# need if file are removed with previous event files\n",
    "tf.summary.FileWriterCache.clear()\n",
    "# Reset Keras\n",
    "tf.keras.backend.clear_session()\n",
    "# Fit the model (using estimator.train and data.Dataset)\n",
    "mnist_v1.train_and_evaluate(FLAGS, use_keras=True)"
   ]
  },
  {
   "cell_type": "code",
   "execution_count": 171,
   "metadata": {
    "scrolled": false
   },
   "outputs": [
    {
     "name": "stdout",
     "output_type": "stream",
     "text": [
      "INFO:tensorflow:Initializing RunConfig with distribution strategies.\n",
      "INFO:tensorflow:Not using Distribute Coordinator.\n",
      "INFO:tensorflow:Using config: {'_model_dir': 'results/Models/Mnist/tf_1_12/estimator/ckpt/', '_tf_random_seed': None, '_save_summary_steps': 20, '_save_checkpoints_steps': 20, '_save_checkpoints_secs': None, '_session_config': allow_soft_placement: true\n",
      "graph_options {\n",
      "  rewrite_options {\n",
      "    meta_optimizer_iterations: ONE\n",
      "  }\n",
      "}\n",
      ", '_keep_checkpoint_max': 5, '_keep_checkpoint_every_n_hours': 10000, '_log_step_count_steps': 100, '_train_distribute': <tensorflow.contrib.distribute.python.one_device_strategy.OneDeviceStrategy object at 0x1c48529d30>, '_device_fn': None, '_protocol': None, '_eval_distribute': None, '_experimental_distribute': None, '_service': None, '_cluster_spec': <tensorflow.python.training.server_lib.ClusterSpec object at 0x1c485291d0>, '_task_type': 'worker', '_task_id': 0, '_global_id_in_cluster': 0, '_master': '', '_evaluation_master': '', '_is_chief': True, '_num_ps_replicas': 0, '_num_worker_replicas': 1, '_distribute_coordinator_mode': None}\n",
      "INFO:tensorflow:Not using Distribute Coordinator.\n",
      "INFO:tensorflow:Running training and evaluation locally (non-distributed).\n",
      "INFO:tensorflow:Start train and evaluate loop. The evaluate will happen after every checkpoint. Checkpoint frequency is determined based on RunConfig arguments: save_checkpoints_steps 20 or save_checkpoints_secs None.\n",
      "INFO:tensorflow:input_dataset_fn: TRAIN, train\n",
      "INFO:tensorflow:Calling model_fn.\n",
      "label Tensor(\"ExperimentalFunctionBufferingResourceGetNext:1\", shape=(128, 10), dtype=float32, device=/device:CPU:0) logits Tensor(\"sequential/dense_2/Softmax:0\", shape=(128, 10), dtype=float32, device=/device:CPU:0)\n",
      "INFO:tensorflow:Done calling model_fn.\n",
      "INFO:tensorflow:Create CheckpointSaverHook.\n",
      "INFO:tensorflow:Graph was finalized.\n",
      "INFO:tensorflow:Running local_init_op.\n",
      "INFO:tensorflow:Done running local_init_op.\n",
      "INFO:tensorflow:Saving checkpoints for 0 into results/Models/Mnist/tf_1_12/estimator/ckpt/model.ckpt.\n",
      "INFO:tensorflow:loss = 2.3116136, step = 0\n",
      "INFO:tensorflow:Saving checkpoints for 20 into results/Models/Mnist/tf_1_12/estimator/ckpt/model.ckpt.\n",
      "INFO:tensorflow:input_dataset_fn: EVAL, eval\n",
      "not training 1 100\n",
      "INFO:tensorflow:Calling model_fn.\n",
      "INFO:tensorflow:Done calling model_fn.\n",
      "INFO:tensorflow:Starting evaluation at 2019-03-19-17:43:53\n",
      "INFO:tensorflow:Graph was finalized.\n",
      "INFO:tensorflow:Restoring parameters from results/Models/Mnist/tf_1_12/estimator/ckpt/model.ckpt-20\n",
      "INFO:tensorflow:Running local_init_op.\n",
      "INFO:tensorflow:Done running local_init_op.\n",
      "INFO:tensorflow:Evaluation [10/100]\n",
      "INFO:tensorflow:Evaluation [20/100]\n",
      "INFO:tensorflow:Evaluation [30/100]\n",
      "INFO:tensorflow:Evaluation [40/100]\n",
      "INFO:tensorflow:Evaluation [50/100]\n",
      "INFO:tensorflow:Evaluation [60/100]\n",
      "INFO:tensorflow:Evaluation [70/100]\n",
      "INFO:tensorflow:Finished evaluation at 2019-03-19-17:43:55\n",
      "INFO:tensorflow:Saving dict for global step 20: accuracy = 0.7483, global_step = 20, loss = 1.7353637\n",
      "INFO:tensorflow:Saving 'checkpoint_path' summary for global step 20: results/Models/Mnist/tf_1_12/estimator/ckpt/model.ckpt-20\n",
      "INFO:tensorflow:Saving checkpoints for 40 into results/Models/Mnist/tf_1_12/estimator/ckpt/model.ckpt.\n",
      "INFO:tensorflow:Skip the current checkpoint eval due to throttle secs (300 secs).\n",
      "INFO:tensorflow:Saving checkpoints for 60 into results/Models/Mnist/tf_1_12/estimator/ckpt/model.ckpt.\n",
      "INFO:tensorflow:Skip the current checkpoint eval due to throttle secs (300 secs).\n",
      "INFO:tensorflow:Saving checkpoints for 80 into results/Models/Mnist/tf_1_12/estimator/ckpt/model.ckpt.\n",
      "INFO:tensorflow:Skip the current checkpoint eval due to throttle secs (300 secs).\n",
      "INFO:tensorflow:Saving checkpoints for 100 into results/Models/Mnist/tf_1_12/estimator/ckpt/model.ckpt.\n",
      "INFO:tensorflow:Skip the current checkpoint eval due to throttle secs (300 secs).\n",
      "INFO:tensorflow:global_step/sec: 17.0529\n",
      "INFO:tensorflow:loss = 1.539791, step = 100 (5.865 sec)\n",
      "INFO:tensorflow:Saving checkpoints for 120 into results/Models/Mnist/tf_1_12/estimator/ckpt/model.ckpt.\n",
      "INFO:tensorflow:Skip the current checkpoint eval due to throttle secs (300 secs).\n",
      "INFO:tensorflow:Saving checkpoints for 140 into results/Models/Mnist/tf_1_12/estimator/ckpt/model.ckpt.\n",
      "INFO:tensorflow:Skip the current checkpoint eval due to throttle secs (300 secs).\n",
      "INFO:tensorflow:Saving checkpoints for 160 into results/Models/Mnist/tf_1_12/estimator/ckpt/model.ckpt.\n",
      "INFO:tensorflow:Skip the current checkpoint eval due to throttle secs (300 secs).\n",
      "INFO:tensorflow:Saving checkpoints for 180 into results/Models/Mnist/tf_1_12/estimator/ckpt/model.ckpt.\n",
      "INFO:tensorflow:Skip the current checkpoint eval due to throttle secs (300 secs).\n",
      "INFO:tensorflow:Saving checkpoints for 200 into results/Models/Mnist/tf_1_12/estimator/ckpt/model.ckpt.\n",
      "INFO:tensorflow:Skip the current checkpoint eval due to throttle secs (300 secs).\n",
      "INFO:tensorflow:global_step/sec: 28.929\n",
      "INFO:tensorflow:loss = 1.5195472, step = 200 (3.458 sec)\n",
      "INFO:tensorflow:Saving checkpoints for 220 into results/Models/Mnist/tf_1_12/estimator/ckpt/model.ckpt.\n",
      "INFO:tensorflow:Skip the current checkpoint eval due to throttle secs (300 secs).\n",
      "INFO:tensorflow:Saving checkpoints for 240 into results/Models/Mnist/tf_1_12/estimator/ckpt/model.ckpt.\n",
      "INFO:tensorflow:Skip the current checkpoint eval due to throttle secs (300 secs).\n",
      "INFO:tensorflow:Saving checkpoints for 260 into results/Models/Mnist/tf_1_12/estimator/ckpt/model.ckpt.\n",
      "INFO:tensorflow:Skip the current checkpoint eval due to throttle secs (300 secs).\n",
      "INFO:tensorflow:Saving checkpoints for 280 into results/Models/Mnist/tf_1_12/estimator/ckpt/model.ckpt.\n",
      "INFO:tensorflow:Skip the current checkpoint eval due to throttle secs (300 secs).\n",
      "INFO:tensorflow:Saving checkpoints for 300 into results/Models/Mnist/tf_1_12/estimator/ckpt/model.ckpt.\n",
      "INFO:tensorflow:Skip the current checkpoint eval due to throttle secs (300 secs).\n",
      "INFO:tensorflow:global_step/sec: 33.8334\n",
      "INFO:tensorflow:loss = 1.5380609, step = 300 (2.956 sec)\n",
      "INFO:tensorflow:Saving checkpoints for 320 into results/Models/Mnist/tf_1_12/estimator/ckpt/model.ckpt.\n",
      "INFO:tensorflow:Skip the current checkpoint eval due to throttle secs (300 secs).\n",
      "INFO:tensorflow:Saving checkpoints for 340 into results/Models/Mnist/tf_1_12/estimator/ckpt/model.ckpt.\n",
      "INFO:tensorflow:Skip the current checkpoint eval due to throttle secs (300 secs).\n",
      "INFO:tensorflow:Saving checkpoints for 360 into results/Models/Mnist/tf_1_12/estimator/ckpt/model.ckpt.\n",
      "INFO:tensorflow:Skip the current checkpoint eval due to throttle secs (300 secs).\n",
      "INFO:tensorflow:Saving checkpoints for 380 into results/Models/Mnist/tf_1_12/estimator/ckpt/model.ckpt.\n",
      "INFO:tensorflow:Skip the current checkpoint eval due to throttle secs (300 secs).\n",
      "INFO:tensorflow:Saving checkpoints for 400 into results/Models/Mnist/tf_1_12/estimator/ckpt/model.ckpt.\n",
      "INFO:tensorflow:Skip the current checkpoint eval due to throttle secs (300 secs).\n",
      "INFO:tensorflow:global_step/sec: 33.6058\n",
      "INFO:tensorflow:loss = 1.5309547, step = 400 (2.976 sec)\n",
      "INFO:tensorflow:Saving checkpoints for 420 into results/Models/Mnist/tf_1_12/estimator/ckpt/model.ckpt.\n",
      "INFO:tensorflow:Skip the current checkpoint eval due to throttle secs (300 secs).\n",
      "INFO:tensorflow:Saving checkpoints for 440 into results/Models/Mnist/tf_1_12/estimator/ckpt/model.ckpt.\n",
      "INFO:tensorflow:Skip the current checkpoint eval due to throttle secs (300 secs).\n",
      "INFO:tensorflow:Saving checkpoints for 460 into results/Models/Mnist/tf_1_12/estimator/ckpt/model.ckpt.\n",
      "INFO:tensorflow:Skip the current checkpoint eval due to throttle secs (300 secs).\n",
      "INFO:tensorflow:Saving checkpoints for 480 into results/Models/Mnist/tf_1_12/estimator/ckpt/model.ckpt.\n",
      "INFO:tensorflow:Skip the current checkpoint eval due to throttle secs (300 secs).\n",
      "INFO:tensorflow:Saving checkpoints for 500 into results/Models/Mnist/tf_1_12/estimator/ckpt/model.ckpt.\n",
      "INFO:tensorflow:Skip the current checkpoint eval due to throttle secs (300 secs).\n",
      "INFO:tensorflow:global_step/sec: 30.4581\n",
      "INFO:tensorflow:loss = 1.533295, step = 500 (3.285 sec)\n",
      "INFO:tensorflow:Saving checkpoints for 520 into results/Models/Mnist/tf_1_12/estimator/ckpt/model.ckpt.\n"
     ]
    },
    {
     "name": "stdout",
     "output_type": "stream",
     "text": [
      "INFO:tensorflow:Skip the current checkpoint eval due to throttle secs (300 secs).\n",
      "INFO:tensorflow:Saving checkpoints for 540 into results/Models/Mnist/tf_1_12/estimator/ckpt/model.ckpt.\n",
      "INFO:tensorflow:Skip the current checkpoint eval due to throttle secs (300 secs).\n",
      "INFO:tensorflow:Saving checkpoints for 560 into results/Models/Mnist/tf_1_12/estimator/ckpt/model.ckpt.\n",
      "INFO:tensorflow:Skip the current checkpoint eval due to throttle secs (300 secs).\n",
      "INFO:tensorflow:Saving checkpoints for 580 into results/Models/Mnist/tf_1_12/estimator/ckpt/model.ckpt.\n",
      "INFO:tensorflow:Skip the current checkpoint eval due to throttle secs (300 secs).\n",
      "INFO:tensorflow:Saving checkpoints for 600 into results/Models/Mnist/tf_1_12/estimator/ckpt/model.ckpt.\n",
      "INFO:tensorflow:Skip the current checkpoint eval due to throttle secs (300 secs).\n",
      "INFO:tensorflow:global_step/sec: 29.2437\n",
      "INFO:tensorflow:loss = 1.4997287, step = 600 (3.418 sec)\n",
      "INFO:tensorflow:Saving checkpoints for 620 into results/Models/Mnist/tf_1_12/estimator/ckpt/model.ckpt.\n",
      "INFO:tensorflow:Skip the current checkpoint eval due to throttle secs (300 secs).\n",
      "INFO:tensorflow:Saving checkpoints for 640 into results/Models/Mnist/tf_1_12/estimator/ckpt/model.ckpt.\n",
      "INFO:tensorflow:Skip the current checkpoint eval due to throttle secs (300 secs).\n",
      "INFO:tensorflow:Saving checkpoints for 660 into results/Models/Mnist/tf_1_12/estimator/ckpt/model.ckpt.\n",
      "INFO:tensorflow:Skip the current checkpoint eval due to throttle secs (300 secs).\n",
      "INFO:tensorflow:Saving checkpoints for 680 into results/Models/Mnist/tf_1_12/estimator/ckpt/model.ckpt.\n",
      "INFO:tensorflow:Skip the current checkpoint eval due to throttle secs (300 secs).\n",
      "INFO:tensorflow:Saving checkpoints for 700 into results/Models/Mnist/tf_1_12/estimator/ckpt/model.ckpt.\n",
      "INFO:tensorflow:Skip the current checkpoint eval due to throttle secs (300 secs).\n",
      "INFO:tensorflow:global_step/sec: 30.178\n",
      "INFO:tensorflow:loss = 1.5333496, step = 700 (3.312 sec)\n",
      "INFO:tensorflow:Saving checkpoints for 720 into results/Models/Mnist/tf_1_12/estimator/ckpt/model.ckpt.\n",
      "INFO:tensorflow:Skip the current checkpoint eval due to throttle secs (300 secs).\n",
      "INFO:tensorflow:Saving checkpoints for 740 into results/Models/Mnist/tf_1_12/estimator/ckpt/model.ckpt.\n",
      "INFO:tensorflow:Skip the current checkpoint eval due to throttle secs (300 secs).\n",
      "INFO:tensorflow:Saving checkpoints for 760 into results/Models/Mnist/tf_1_12/estimator/ckpt/model.ckpt.\n",
      "INFO:tensorflow:Skip the current checkpoint eval due to throttle secs (300 secs).\n",
      "INFO:tensorflow:Saving checkpoints for 780 into results/Models/Mnist/tf_1_12/estimator/ckpt/model.ckpt.\n",
      "INFO:tensorflow:Skip the current checkpoint eval due to throttle secs (300 secs).\n",
      "INFO:tensorflow:Saving checkpoints for 800 into results/Models/Mnist/tf_1_12/estimator/ckpt/model.ckpt.\n",
      "INFO:tensorflow:Skip the current checkpoint eval due to throttle secs (300 secs).\n",
      "INFO:tensorflow:global_step/sec: 29.3313\n",
      "INFO:tensorflow:loss = 1.477155, step = 800 (3.410 sec)\n",
      "INFO:tensorflow:Saving checkpoints for 820 into results/Models/Mnist/tf_1_12/estimator/ckpt/model.ckpt.\n",
      "INFO:tensorflow:Skip the current checkpoint eval due to throttle secs (300 secs).\n",
      "INFO:tensorflow:Saving checkpoints for 840 into results/Models/Mnist/tf_1_12/estimator/ckpt/model.ckpt.\n",
      "INFO:tensorflow:Skip the current checkpoint eval due to throttle secs (300 secs).\n",
      "INFO:tensorflow:Saving checkpoints for 860 into results/Models/Mnist/tf_1_12/estimator/ckpt/model.ckpt.\n",
      "INFO:tensorflow:Skip the current checkpoint eval due to throttle secs (300 secs).\n",
      "INFO:tensorflow:Saving checkpoints for 880 into results/Models/Mnist/tf_1_12/estimator/ckpt/model.ckpt.\n",
      "INFO:tensorflow:Skip the current checkpoint eval due to throttle secs (300 secs).\n",
      "INFO:tensorflow:Saving checkpoints for 900 into results/Models/Mnist/tf_1_12/estimator/ckpt/model.ckpt.\n",
      "INFO:tensorflow:Skip the current checkpoint eval due to throttle secs (300 secs).\n",
      "INFO:tensorflow:global_step/sec: 26.8767\n",
      "INFO:tensorflow:loss = 1.5126818, step = 900 (3.721 sec)\n",
      "INFO:tensorflow:Saving checkpoints for 920 into results/Models/Mnist/tf_1_12/estimator/ckpt/model.ckpt.\n",
      "INFO:tensorflow:Skip the current checkpoint eval due to throttle secs (300 secs).\n",
      "INFO:tensorflow:Saving checkpoints for 940 into results/Models/Mnist/tf_1_12/estimator/ckpt/model.ckpt.\n",
      "INFO:tensorflow:Skip the current checkpoint eval due to throttle secs (300 secs).\n",
      "INFO:tensorflow:Saving checkpoints for 960 into results/Models/Mnist/tf_1_12/estimator/ckpt/model.ckpt.\n",
      "INFO:tensorflow:Skip the current checkpoint eval due to throttle secs (300 secs).\n",
      "INFO:tensorflow:Saving checkpoints for 980 into results/Models/Mnist/tf_1_12/estimator/ckpt/model.ckpt.\n",
      "INFO:tensorflow:Skip the current checkpoint eval due to throttle secs (300 secs).\n",
      "INFO:tensorflow:Saving checkpoints for 1000 into results/Models/Mnist/tf_1_12/estimator/ckpt/model.ckpt.\n",
      "INFO:tensorflow:Skip the current checkpoint eval due to throttle secs (300 secs).\n",
      "INFO:tensorflow:input_dataset_fn: EVAL, eval\n",
      "not training 1 100\n",
      "INFO:tensorflow:Calling model_fn.\n",
      "INFO:tensorflow:Done calling model_fn.\n",
      "INFO:tensorflow:Starting evaluation at 2019-03-19-17:44:28\n",
      "INFO:tensorflow:Graph was finalized.\n",
      "INFO:tensorflow:Restoring parameters from results/Models/Mnist/tf_1_12/estimator/ckpt/model.ckpt-1000\n",
      "INFO:tensorflow:Running local_init_op.\n",
      "INFO:tensorflow:Done running local_init_op.\n",
      "INFO:tensorflow:Evaluation [10/100]\n",
      "INFO:tensorflow:Evaluation [20/100]\n",
      "INFO:tensorflow:Evaluation [30/100]\n",
      "INFO:tensorflow:Evaluation [40/100]\n",
      "INFO:tensorflow:Evaluation [50/100]\n",
      "INFO:tensorflow:Evaluation [60/100]\n",
      "INFO:tensorflow:Evaluation [70/100]\n",
      "INFO:tensorflow:Finished evaluation at 2019-03-19-17:44:30\n",
      "INFO:tensorflow:Saving dict for global step 1000: accuracy = 0.9631, global_step = 1000, loss = 1.4994668\n",
      "INFO:tensorflow:Saving 'checkpoint_path' summary for global step 1000: results/Models/Mnist/tf_1_12/estimator/ckpt/model.ckpt-1000\n",
      "DEBUG:tensorflow:Calling exporter with the `is_the_final_export=True`.\n",
      "INFO:tensorflow:Finalize system.\n",
      "INFO:tensorflow:Loss for final step: 1.4941732.\n",
      "CPU times: user 2min 39s, sys: 18 s, total: 2min 57s\n",
      "Wall time: 40.9 s\n"
     ]
    }
   ],
   "source": [
    "%%time\n",
    "tf.logging.set_verbosity(tf.logging.DEBUG)\n",
    "# Delete both saved and checkpointed models\n",
    "shutil.rmtree(FLAGS.model_dir, ignore_errors=True)\n",
    "shutil.rmtree(FLAGS.saved_dir, ignore_errors=True)\n",
    "# need if file are removed with previous event files\n",
    "tf.summary.FileWriterCache.clear()\n",
    "# Reset Keras\n",
    "tf.keras.backend.clear_session()\n",
    "# Fit the model (using estimator.train and data.Dataset)\n",
    "mnist_v1.train_and_evaluate(FLAGS, use_keras=False)"
   ]
  },
  {
   "cell_type": "markdown",
   "metadata": {},
   "source": [
    "## Visualization"
   ]
  },
  {
   "cell_type": "code",
   "execution_count": 160,
   "metadata": {},
   "outputs": [],
   "source": [
    "from tensorboard.backend.event_processing import event_accumulator\n",
    "import numpy as np\n",
    "\n",
    "def load_data_tensorboard(path):\n",
    "    event_acc = event_accumulator.EventAccumulator(path)\n",
    "    event_acc.Reload()\n",
    "    data = {}\n",
    "    \n",
    "    for tag in sorted(event_acc.Tags()[\"scalars\"]):\n",
    "        x, y = [], []\n",
    "        for scalar_event in event_acc.Scalars(tag):\n",
    "            x.append(scalar_event.step)\n",
    "            y.append(scalar_event.value)\n",
    "        data[tag] = (np.asarray(x), np.asarray(y))\n",
    "    return data"
   ]
  },
  {
   "cell_type": "code",
   "execution_count": 161,
   "metadata": {},
   "outputs": [
    {
     "name": "stdout",
     "output_type": "stream",
     "text": [
      "DEBUG:tensorflow:Opening a record reader pointing at results/Models/Mnist/tf_1_12/estimator/ckpt/events.out.tfevents.1553016149.Fabien-Tarrades-MacBook-Pro.local\n",
      "DEBUG:tensorflow:Loading events from results/Models/Mnist/tf_1_12/estimator/ckpt/events.out.tfevents.1553016149.Fabien-Tarrades-MacBook-Pro.local\n",
      "WARNING:tensorflow:Found more than one graph event per run, or there was a metagraph containing a graph_def, as well as one or more graph events.  Overwriting the graph with the newest event.\n",
      "WARNING:tensorflow:Found more than one metagraph event per run. Overwriting the metagraph with the newest event.\n",
      "DEBUG:tensorflow:Cannot read more events: Read less bytes than requested\n",
      "DEBUG:tensorflow:No more events in results/Models/Mnist/tf_1_12/estimator/ckpt/events.out.tfevents.1553016149.Fabien-Tarrades-MacBook-Pro.local\n",
      "INFO:tensorflow:No path found after results/Models/Mnist/tf_1_12/estimator/ckpt/events.out.tfevents.1553016149.Fabien-Tarrades-MacBook-Pro.local\n"
     ]
    }
   ],
   "source": [
    "history=load_data_tensorboard(FLAGS.model_dir)"
   ]
  },
  {
   "cell_type": "code",
   "execution_count": 162,
   "metadata": {},
   "outputs": [
    {
     "name": "stdout",
     "output_type": "stream",
     "text": [
      "DEBUG:tensorflow:Opening a record reader pointing at results/Models/Mnist/tf_1_12/estimator/ckpt/events.out.tfevents.1553016149.Fabien-Tarrades-MacBook-Pro.local\n",
      "DEBUG:tensorflow:Loading events from results/Models/Mnist/tf_1_12/estimator/ckpt/events.out.tfevents.1553016149.Fabien-Tarrades-MacBook-Pro.local\n",
      "WARNING:tensorflow:Found more than one graph event per run, or there was a metagraph containing a graph_def, as well as one or more graph events.  Overwriting the graph with the newest event.\n",
      "WARNING:tensorflow:Found more than one metagraph event per run. Overwriting the metagraph with the newest event.\n",
      "DEBUG:tensorflow:Cannot read more events: Read less bytes than requested\n",
      "DEBUG:tensorflow:No more events in results/Models/Mnist/tf_1_12/estimator/ckpt/events.out.tfevents.1553016149.Fabien-Tarrades-MacBook-Pro.local\n",
      "INFO:tensorflow:No path found after results/Models/Mnist/tf_1_12/estimator/ckpt/events.out.tfevents.1553016149.Fabien-Tarrades-MacBook-Pro.local\n",
      "{'accuarcy': (array([  1,  21,  41,  61,  81, 101, 121, 141, 161, 181, 201, 221, 241,\n",
      "       261, 281, 301, 321, 341, 361, 381, 401, 421, 441, 461, 481, 501,\n",
      "       521, 541, 561, 581, 601, 621, 641, 661, 681, 701, 721, 741, 761,\n",
      "       781, 801, 821, 841, 861, 881, 901, 921, 941, 961, 981]), array([0.0703125 , 0.40234375, 0.51041669, 0.59570312, 0.63906252,\n",
      "       0.67317706, 0.69977677, 0.72167969, 0.7439236 , 0.76249999,\n",
      "       0.77840906, 0.7890625 , 0.79807693, 0.81082588, 0.81770831,\n",
      "       0.82568359, 0.83272058, 0.83810765, 0.84498358, 0.85078126,\n",
      "       0.85453868, 0.85546875, 0.86005437, 0.86393231, 0.86843753,\n",
      "       0.87049282, 0.87413192, 0.87695312, 0.8803879 , 0.88385415,\n",
      "       0.88558465, 0.88867188, 0.89038825, 0.89246321, 0.89419645,\n",
      "       0.89561629, 0.8971706 , 0.89864308, 0.8994391 , 0.90097654,\n",
      "       0.90301067, 0.90420389, 0.90515989, 0.90696025, 0.90815973,\n",
      "       0.90930706, 0.91057181, 0.91194659, 0.91326529, 0.91453123])), 'global_step/sec': (array([101, 201, 301, 401, 501, 601, 701, 801, 901]), array([16.23617363, 36.6754303 , 36.8086319 , 37.72642517, 36.24110031,\n",
      "       36.79170609, 35.46988678, 34.36818314, 28.19671059])), 'loss': (array([  1,  21,  41,  61,  81, 101, 121, 141, 161, 181, 201, 221, 241,\n",
      "       261, 281, 301, 321, 341, 361, 381, 401, 421, 441, 461, 481, 501,\n",
      "       521, 541, 561, 581, 601, 621, 641, 661, 681, 701, 721, 741, 761,\n",
      "       781, 801, 821, 841, 861, 881, 901, 921, 941, 961, 981]), array([2.30942273, 1.74005902, 1.73051786, 1.61710811, 1.6700238 ,\n",
      "       1.61973536, 1.61070132, 1.59561515, 1.54475737, 1.53215623,\n",
      "       1.53855479, 1.56040382, 1.55460012, 1.49946332, 1.54466867,\n",
      "       1.52122188, 1.51905119, 1.53127766, 1.50043416, 1.50352371,\n",
      "       1.53091538, 1.58519042, 1.50465679, 1.51339865, 1.49747062,\n",
      "       1.54132485, 1.49207902, 1.50520039, 1.48581541, 1.48280144,\n",
      "       1.51970124, 1.48433256, 1.52266681, 1.50218987, 1.50488949,\n",
      "       1.51898789, 1.51291287, 1.50992763, 1.53264081, 1.49558926,\n",
      "       1.4751147 , 1.50853443, 1.51459491, 1.47873104, 1.5075314 ,\n",
      "       1.4999615 , 1.49161744, 1.48578811, 1.48300123, 1.48796403]))}\n"
     ]
    }
   ],
   "source": [
    "print(load_data_tensorboard(FLAGS.model_dir))"
   ]
  },
  {
   "cell_type": "code",
   "execution_count": 163,
   "metadata": {},
   "outputs": [
    {
     "data": {
      "text/plain": [
       "dict_keys(['accuarcy', 'global_step/sec', 'loss'])"
      ]
     },
     "execution_count": 163,
     "metadata": {},
     "output_type": "execute_result"
    }
   ],
   "source": [
    "history.keys()"
   ]
  },
  {
   "cell_type": "code",
   "execution_count": 166,
   "metadata": {},
   "outputs": [
    {
     "data": {
      "text/plain": [
       "(50, 50)"
      ]
     },
     "execution_count": 166,
     "metadata": {},
     "output_type": "execute_result"
    }
   ],
   "source": [
    "len(history['loss'][1]), len(history['accuarcy'][1])"
   ]
  },
  {
   "cell_type": "code",
   "execution_count": 165,
   "metadata": {},
   "outputs": [
    {
     "data": {
      "image/png": "[encoded data removed]",
      "text/plain": [
       "<Figure size 900x300 with 2 Axes>"
      ]
     },
     "metadata": {},
     "output_type": "display_data"
    }
   ],
   "source": [
    "fig = plt.figure(figsize=(9, 3), dpi=100)\n",
    "plt.subplots_adjust(wspace=0.6)\n",
    "ax1 = plt.subplot(122)\n",
    "ax2 = plt.subplot(121)\n",
    "ax1.plot(history['loss'][0], history['loss'][1], 'b', label='training loss')\n",
    "ax2.plot(history['accuarcy'][0], history['accuarcy'][1], 'r', label='validation accuracy');\n",
    "ax1.set_title('Loss')\n",
    "ax1.set_xlabel(\"Number of steps\")\n",
    "ax1.set_ylabel(\"Loss\")\n",
    "ax1.legend(loc=\"best\");"
   ]
  },
  {
   "cell_type": "code",
   "execution_count": 40,
   "metadata": {},
   "outputs": [
    {
     "data": {
      "image/png": "[encoded data removed]",
      "text/plain": [
       "<Figure size 900x300 with 2 Axes>"
      ]
     },
     "metadata": {},
     "output_type": "display_data"
    }
   ],
   "source": [
    "fig = plt.figure(figsize=(9, 3), dpi=100)\n",
    "plt.subplots_adjust(wspace=0.6)\n",
    "ax1 = plt.subplot(122)\n",
    "ax2 = plt.subplot(121)\n",
    "ax1.plot(history['loss_1'][0], history['loss_1'][1], 'b', label='training loss')\n",
    "#ax1.plot(np.arange(0, epochs), history['loss_1'][1], 'r', label='validation accuracy');\n",
    "ax1.set_title('Loss')\n",
    "ax1.set_xlabel(\"Number of steps\")\n",
    "ax1.set_ylabel(\"Loss\")\n",
    "ax1.legend(loc=\"best\");"
   ]
  },
  {
   "cell_type": "markdown",
   "metadata": {},
   "source": [
    "### Check the output created during the training\n",
    "https://medium.com/@prasadpal107/saving-freezing-optimizing-for-inference-restoring-of-tensorflow-models-b4146deb21b5  \n",
    "- creating a keras model will create the **keras** folder \n",
    "- **checkpoint**, text file that contain all checkpoint information, like model ckpt file name and path\n",
    "- **model.ckpt-xxx.meta** and **model.ckpt-xxx.data-yyyyy-of-zzzzz** and **model.ckpt-xxx.index** file created for each model  \n",
    "  .ckpt-xxx.meta contains the complete graph. It includes GraphDef, SaverDef, and so on  \n",
    "  .ckpt-xxx.data contains the values of variables(weights, biases, placeholders, gradients, hyper-parameters etc)   \n",
    "  .ckpt-xxx.index is a table where each key is the name of a tensor and its value is a serialized BundleEntryProto \n",
    "- **graph.pbtxt** holds a network of nodes, each representing one operation, connected to each other as inputs and outputs (graph structure)\n",
    "- **events.out.tfevents.xxxxxxxxxx** which contain information that TensorBoard uses to create visualizations\n",
    "\n",
    "Meta files holds ,more than just the structure of the graph like MetaInfoDef , GraphDef SaverDef , CollectionDef . Whereas .pbtxt files holds only the structure of the graph."
   ]
  },
  {
   "cell_type": "code",
   "execution_count": 100,
   "metadata": {},
   "outputs": [
    {
     "name": "stdout",
     "output_type": "stream",
     "text": [
      "keras\n",
      "checkpoint\n",
      "model.ckpt-940.data-00000-of-00001\n",
      "model.ckpt-1000.data-00000-of-00001\n",
      "model.ckpt-920.meta\n",
      "model.ckpt-940.meta\n",
      "model.ckpt-1000.meta\n",
      "model.ckpt-960.meta\n",
      "events.out.tfevents.1552739145.Fabien-Tarrades-MacBook-Pro.local\n",
      "graph.pbtxt\n",
      "model.ckpt-980.meta\n",
      "model.ckpt-960.data-00000-of-00001\n",
      "model.ckpt-920.index\n",
      "model.ckpt-920.data-00000-of-00001\n",
      "eval\n",
      "model.ckpt-980.data-00000-of-00001\n",
      "export\n",
      "model.ckpt-960.index\n",
      "model.ckpt-980.index\n",
      "model.ckpt-940.index\n",
      "model.ckpt-1000.index\n"
     ]
    }
   ],
   "source": [
    "for file in glob.glob(FLAGS.model_dir+'*'):\n",
    "    print(re.findall(r'[^\\\\/]+|[\\\\/]',file)[-1])"
   ]
  },
  {
   "cell_type": "markdown",
   "metadata": {},
   "source": [
    "### TensorBoard"
   ]
  },
  {
   "cell_type": "code",
   "execution_count": 39,
   "metadata": {},
   "outputs": [
    {
     "name": "stdout",
     "output_type": "stream",
     "text": [
      "Tensorflow logs will be saved here:\n",
      " results/Models/Mnist/tf_1_12/estimator/ckpt/\n"
     ]
    }
   ],
   "source": [
    "print('Tensorflow logs will be saved here:\\n',FLAGS.model_dir)"
   ]
  },
  {
   "cell_type": "code",
   "execution_count": 40,
   "metadata": {},
   "outputs": [
    {
     "name": "stdout",
     "output_type": "stream",
     "text": [
      "events.out.tfevents.1551962933.Fabien-Tarrades-MacBook-Pro.local\n"
     ]
    }
   ],
   "source": [
    "for file in glob.glob(FLAGS.model_dir+'*events.out.tfevents.*'):\n",
    "    print(re.findall(r'[^\\\\/]+|[\\\\/]',file)[-1])"
   ]
  },
  {
   "cell_type": "code",
   "execution_count": 41,
   "metadata": {},
   "outputs": [],
   "source": [
    "tensorboard_command='tensorboard --logdir \"'+FLAGS.model_dir+'\"'"
   ]
  },
  {
   "cell_type": "code",
   "execution_count": 42,
   "metadata": {},
   "outputs": [
    {
     "name": "stdout",
     "output_type": "stream",
     "text": [
      "In a separate shell with the same env activated (need Tensoflow and TensorBoard)\n",
      "  copy and pate the command below without \">>\":\n",
      "  >> tensorboard --logdir \"results/Models/Mnist/tf_1_12/estimator/ckpt/\"\n"
     ]
    }
   ],
   "source": [
    "print('In a separate shell with the same env activated (need Tensoflow and TensorBoard)')\n",
    "print('  copy and pate the command below without \">>\":')\n",
    "print('  >>',tensorboard_command)\n"
   ]
  },
  {
   "cell_type": "markdown",
   "metadata": {},
   "source": [
    "### Looking at the output of the TimeHistory"
   ]
  },
  {
   "cell_type": "code",
   "execution_count": null,
   "metadata": {},
   "outputs": [],
   "source": [
    "total_time = sum(time_hist.times)\n",
    "print(f\"total time with the current strategy: {total_time} seconds\")"
   ]
  },
  {
   "cell_type": "code",
   "execution_count": null,
   "metadata": {},
   "outputs": [],
   "source": [
    "avg_time_per_batch = np.mean(time_hist.times)\n",
    "print(f\"{BATCH_SIZE/avg_time_per_batch} images/second\")"
   ]
  },
  {
   "cell_type": "markdown",
   "metadata": {},
   "source": [
    "## Accuracy and losses"
   ]
  },
  {
   "cell_type": "raw",
   "metadata": {},
   "source": [
    "# method and arguments\n",
    "evaluate(\n",
    "    input_fn,\n",
    "    steps=None,\n",
    "    hooks=None,\n",
    "    checkpoint_path=None,\n",
    "    name=None\n",
    ")"
   ]
  },
  {
   "cell_type": "markdown",
   "metadata": {},
   "source": [
    "### Training dataset"
   ]
  },
  {
   "cell_type": "code",
   "execution_count": null,
   "metadata": {},
   "outputs": [],
   "source": [
    "score=estimator_train_model.evaluate(input_fn=lambda:mnist_v1.input_mnist_tfrecord_dataset_fn(glob.glob(path_train_tfrecords+'/train*.tfrecords'),\n",
    "                                                                                              FLAGS,\n",
    "                                                                                              mode=tf.estimator.ModeKeys.TRAIN,\n",
    "                                                                                              batch_size=FLAGS.batch_size),\n",
    "                                     steps=1)"
   ]
  },
  {
   "cell_type": "code",
   "execution_count": null,
   "metadata": {},
   "outputs": [],
   "source": [
    "# print test accuracy\n",
    "print('Loss:')\n",
    "print('  - loss [training dataset]: {0:.3f}'.format(score['loss']))\n",
    "print('')\n",
    "print('Accuracy:')\n",
    "print('  - accuracy [training dataset]: {:.2f}%'.format(100*score['accuracy']))\n",
    "print('')\n",
    "print('Number of steps:')\n",
    "print('  - number of steps [training dataset]: {}'.format(score['global_step']))"
   ]
  },
  {
   "cell_type": "markdown",
   "metadata": {},
   "source": [
    "### Testing dataset"
   ]
  },
  {
   "cell_type": "code",
   "execution_count": null,
   "metadata": {},
   "outputs": [],
   "source": [
    "score=estimator_train_model.evaluate(input_fn=lambda:mnist_v1.input_mnist_tfrecord_dataset_fn(glob.glob(path_test_tfrecords+'/test*.tfrecords'),\n",
    "                                                                                              FLAGS,\n",
    "                                                                                              mode=tf.estimator.ModeKeys.EVAL,\n",
    "                                                                                              batch_size=FLAGS.batch_size),\n",
    "                                     steps=1)"
   ]
  },
  {
   "cell_type": "code",
   "execution_count": null,
   "metadata": {},
   "outputs": [],
   "source": [
    "# print test accuracy\n",
    "print('Loss:')\n",
    "print('  - loss [testing dataset]: {0:.3f}'.format(score['loss']))\n",
    "print('')\n",
    "print('Accuracy:')\n",
    "print('  - accuracy [testing dataset]: {:.2f}%'.format(100*score['accuracy']))\n",
    "print('')\n",
    "print('Number of steps:')\n",
    "print('  - number of steps [testing dataset]: {}'.format(score['global_step']))"
   ]
  },
  {
   "cell_type": "markdown",
   "metadata": {},
   "source": [
    "## Test"
   ]
  },
  {
   "cell_type": "code",
   "execution_count": null,
   "metadata": {},
   "outputs": [],
   "source": [
    "# Rebuild the model\n",
    "predictions = model_fn(features, labels, tf.estimator.ModeKeys.EVAL).predictions\n",
    "\n",
    "# Manually load the latest checkpoint\n",
    "saver = tf.train.Saver()\n",
    "with tf.Session() as sess:\n",
    "    ckpt = tf.train.get_checkpoint_state('/my/directory')\n",
    "    saver.restore(sess, ckpt.model_checkpoint_path)\n",
    "\n",
    "    # Loop through the batches and store predictions and labels\n",
    "    prediction_values = []\n",
    "    label_values = []\n",
    "    while True:\n",
    "        try:\n",
    "            preds, lbls = sess.run([predictions, labels])\n",
    "            prediction_values += preds\n",
    "            label_values += lbls\n",
    "        except tf.errors.OutOfRangeError:\n",
    "            break\n",
    "    # store prediction_values and label_values somewhere"
   ]
  },
  {
   "cell_type": "markdown",
   "metadata": {},
   "source": [
    "## Prediction "
   ]
  },
  {
   "cell_type": "raw",
   "metadata": {},
   "source": [
    "# method and arguments\n",
    "predict(\n",
    "    input_fn,\n",
    "    predict_keys=None,\n",
    "    hooks=None,\n",
    "    checkpoint_path=None,\n",
    "    yield_single_examples=True\n",
    ")"
   ]
  },
  {
   "cell_type": "markdown",
   "metadata": {},
   "source": [
    "### Method 1"
   ]
  },
  {
   "cell_type": "code",
   "execution_count": null,
   "metadata": {},
   "outputs": [],
   "source": [
    "testing_dataset = mnist_v1.input_mnist_tfrecord_dataset_fn(sorted(glob.glob(path_test_tfrecords+'/test*.tfrecords'), key=os.path.getmtime),\n",
    "                                                           FLAGS,\n",
    "                                                           mode=tf.estimator.ModeKeys.EVAL)"
   ]
  },
  {
   "cell_type": "code",
   "execution_count": null,
   "metadata": {},
   "outputs": [],
   "source": [
    "iterator = testing_dataset.make_one_shot_iterator()\n",
    "# next_element\n",
    "features, labels = iterator.get_next()"
   ]
  },
  {
   "cell_type": "code",
   "execution_count": null,
   "metadata": {},
   "outputs": [],
   "source": [
    "n=0\n",
    "\n",
    "n_iter=10\n",
    "with tf.Session() as sess:\n",
    "    while True:\n",
    "        try:\n",
    "            start_time = time.clock()\n",
    "            x,y = sess.run([features, labels])\n",
    "            print('iteration n:', n, 'execution time:', time.clock() - start_time, 'seconds')\n",
    "            print(x.shape)\n",
    "            print(y.shape)\n",
    "            print('first label of the batch',np.argmax(y[0]),'\\n')\n",
    "            n+=1\n",
    "            if n>=n_iter:\n",
    "                print('number of iteration reached')\n",
    "                break\n",
    "        except tf.errors.OutOfRangeError:\n",
    "            print('tf.errors.OutOfRangeError')\n",
    "            break"
   ]
  },
  {
   "cell_type": "code",
   "execution_count": null,
   "metadata": {},
   "outputs": [],
   "source": [
    "predictions=list(estimator_train_model.predict(input_fn=lambda:mnist_v1.input_mnist_tfrecord_dataset_fn(sorted(glob.glob(path_test_tfrecords+'/test*.tfrecords'), key=os.path.getmtime),\n",
    "                                                                                                  FLAGS,\n",
    "                                                                                                  mode=tf.estimator.ModeKeys.PREDICT)))"
   ]
  },
  {
   "cell_type": "code",
   "execution_count": null,
   "metadata": {},
   "outputs": [],
   "source": [
    "len(predictions), len(x_test)"
   ]
  },
  {
   "cell_type": "code",
   "execution_count": null,
   "metadata": {},
   "outputs": [],
   "source": [
    "output_layer=model_opt_tf.output_names[0]"
   ]
  },
  {
   "cell_type": "code",
   "execution_count": null,
   "metadata": {},
   "outputs": [],
   "source": [
    "for i in range(10):\n",
    "    prediction_array = predictions[i][output_layer]\n",
    "    predicted_label = np.argmax(prediction_array)\n",
    "    print('Actual label:', y_test[i])\n",
    "    print(\"Predicted label: \", predicted_label)"
   ]
  },
  {
   "cell_type": "markdown",
   "metadata": {},
   "source": [
    "### Method 2"
   ]
  },
  {
   "cell_type": "code",
   "execution_count": null,
   "metadata": {},
   "outputs": [],
   "source": [
    "preds_iter=estimator_train_model.predict(input_fn=lambda:mnist_v1.input_mnist_tfrecord_dataset_fn(sorted(glob.glob(path_test_tfrecords+'/test*.tfrecords'), key=os.path.getmtime),\n",
    "                                                                                                  FLAGS,\n",
    "                                                                                                  mode=tf.estimator.ModeKeys.EVAL,\n",
    "                                                                                                  batch_size=len(x_test)))"
   ]
  },
  {
   "cell_type": "code",
   "execution_count": null,
   "metadata": {},
   "outputs": [],
   "source": [
    "i=0\n",
    "for pred in list(itertools.islice(preds_iter, 5)):\n",
    "    prediction_array = pred['dense_2']\n",
    "    predicted_label = np.argmax(prediction_array)\n",
    "    print(prediction_array)\n",
    "    print(i)\n",
    "    if i==0:\n",
    "        print('--> ',pred.keys())\n",
    "    print()\n",
    "    print('Actual label:', y_test[i])\n",
    "    print(\"Predicted label: \", predicted_label)\n",
    "    i+=1"
   ]
  },
  {
   "cell_type": "markdown",
   "metadata": {},
   "source": [
    "### Keras's model checks"
   ]
  },
  {
   "cell_type": "code",
   "execution_count": null,
   "metadata": {},
   "outputs": [],
   "source": [
    "model_opt_tf.summary()"
   ]
  },
  {
   "cell_type": "code",
   "execution_count": null,
   "metadata": {},
   "outputs": [],
   "source": [
    "model_opt_tf.input_names"
   ]
  },
  {
   "cell_type": "code",
   "execution_count": null,
   "metadata": {},
   "outputs": [],
   "source": [
    "model_opt_tf.output_names"
   ]
  },
  {
   "cell_type": "code",
   "execution_count": null,
   "metadata": {},
   "outputs": [],
   "source": [
    "output_layer=model_opt_tf.output_names[0]"
   ]
  },
  {
   "cell_type": "markdown",
   "metadata": {},
   "source": [
    "### Estimator's model checks"
   ]
  },
  {
   "cell_type": "code",
   "execution_count": null,
   "metadata": {},
   "outputs": [],
   "source": [
    "estimator_train_model.get_variable_names()"
   ]
  },
  {
   "cell_type": "code",
   "execution_count": null,
   "metadata": {},
   "outputs": [],
   "source": [
    "estimator_train_model.get_variable_value(estimator_train_model.get_variable_names()[0]).shape"
   ]
  },
  {
   "cell_type": "code",
   "execution_count": null,
   "metadata": {},
   "outputs": [],
   "source": [
    "estimator_train_model.get_variable_value(estimator_train_model.get_variable_names()[1]).shape"
   ]
  },
  {
   "cell_type": "code",
   "execution_count": null,
   "metadata": {},
   "outputs": [],
   "source": [
    "estimator_train_model.latest_checkpoint()"
   ]
  },
  {
   "cell_type": "markdown",
   "metadata": {},
   "source": [
    "## Model serving using Keras, tf.estimator and tf.data.dataset"
   ]
  },
  {
   "cell_type": "code",
   "execution_count": null,
   "metadata": {},
   "outputs": [],
   "source": [
    "for file in glob.glob(FLAGS.saved_dir+'*'):\n",
    "    print(re.findall(r'[^\\\\/]+|[\\\\/]',file)[-1])"
   ]
  },
  {
   "cell_type": "code",
   "execution_count": null,
   "metadata": {},
   "outputs": [],
   "source": [
    "shutil.rmtree(FLAGS.saved_dir, ignore_errors=True)"
   ]
  },
  {
   "cell_type": "code",
   "execution_count": null,
   "metadata": {},
   "outputs": [],
   "source": [
    "model_opt_tf.input_names"
   ]
  },
  {
   "cell_type": "code",
   "execution_count": null,
   "metadata": {},
   "outputs": [],
   "source": [
    "def serving_input_receiver_fn():\n",
    "    \"\"\"Serving input_fn that builds features from placeholders#\n",
    "\n",
    "    Returns\n",
    "    -------\n",
    "    tf.estimator.export.ServingInputReceiver\n",
    "    \"\"\"\n",
    "    input_images = tf.placeholder(tf.float32, [None, 784])\n",
    "    features = {'dense_2_input' : input_images} # this is the dict that is then passed as \"features\" parameter to your model_fn\n",
    "    receiver_tensors = {'dense_2_input': input_images} # As far as I understand this is needed to map the input to a name you can retrieve later\n",
    "   \n",
    "    return tf.estimator.export.ServingInputReceiver(features, receiver_tensors)"
   ]
  },
  {
   "cell_type": "code",
   "execution_count": null,
   "metadata": {},
   "outputs": [],
   "source": [
    "if not os.path.exists(FLAGS.saved_dir):\n",
    "    os.makedirs(FLAGS.saved_dir)"
   ]
  },
  {
   "cell_type": "code",
   "execution_count": null,
   "metadata": {},
   "outputs": [],
   "source": [
    "# Option 2: Only export predict mode\n",
    "estimator_train_model.export_saved_model(os.path.abspath(FLAGS.saved_dir), \n",
    "                                         serving_input_receiver_fn=serving_input_receiver_fn)"
   ]
  },
  {
   "cell_type": "code",
   "execution_count": null,
   "metadata": {},
   "outputs": [],
   "source": [
    "for file in glob.glob(FLAGS.saved_dir+'*'):\n",
    "    print(re.findall(r'[^\\\\/]+|[\\\\/]',file)[-1])"
   ]
  },
  {
   "cell_type": "markdown",
   "metadata": {},
   "source": [
    "**Update the model id in the path below with the correct one from above i.e'1549040172'**"
   ]
  },
  {
   "cell_type": "code",
   "execution_count": null,
   "metadata": {},
   "outputs": [],
   "source": [
    "model_tag='1549054852'\n",
    "os.environ['MODEL_FOR_SERVING']=FLAGS.saved_dir+model_tag+'/'"
   ]
  },
  {
   "cell_type": "code",
   "execution_count": null,
   "metadata": {},
   "outputs": [],
   "source": [
    "# replace the folder name below with the one from above i.e '1549040172'\n",
    "for file in glob.glob(FLAGS.saved_dir+model_tag+'/*'):\n",
    "    print(re.findall(r'[^\\\\/]+|[\\\\/]',file)[-1])"
   ]
  },
  {
   "cell_type": "markdown",
   "metadata": {},
   "source": [
    "## Check the saved model before serving "
   ]
  },
  {
   "cell_type": "code",
   "execution_count": null,
   "metadata": {},
   "outputs": [],
   "source": [
    "tf.saved_model.signature_constants.DEFAULT_SERVING_SIGNATURE_DEF_KEY,"
   ]
  },
  {
   "cell_type": "code",
   "execution_count": null,
   "metadata": {},
   "outputs": [],
   "source": [
    "! saved_model_cli show --dir $MODEL_FOR_SERVING --tag serve --signature_def serving_default"
   ]
  },
  {
   "cell_type": "markdown",
   "metadata": {},
   "source": [
    "## Use Cloud ML Engine"
   ]
  },
  {
   "cell_type": "markdown",
   "metadata": {},
   "source": [
    "### Checking gcloud installation (SDK)"
   ]
  },
  {
   "cell_type": "raw",
   "metadata": {},
   "source": [
    "install SDK"
   ]
  },
  {
   "cell_type": "raw",
   "metadata": {},
   "source": [
    "in case of issue with \"Bad magic number in .pyc file\" -> mix python 2 and python 3\n",
    "which python -> path (should use python 3)\n",
    "export CLOUDSDK_PYTHON=path (should use python 3)"
   ]
  },
  {
   "cell_type": "raw",
   "metadata": {},
   "source": [
    "!gcloud init"
   ]
  },
  {
   "cell_type": "raw",
   "metadata": {},
   "source": [
    "!gcloud components list"
   ]
  },
  {
   "cell_type": "raw",
   "metadata": {},
   "source": [
    "!gcloud components update"
   ]
  },
  {
   "cell_type": "raw",
   "metadata": {},
   "source": [
    "!gcloud auth configure-docker"
   ]
  },
  {
   "cell_type": "raw",
   "metadata": {},
   "source": [
    "!gcloud version"
   ]
  },
  {
   "cell_type": "raw",
   "metadata": {},
   "source": [
    "!gcloud info"
   ]
  },
  {
   "cell_type": "raw",
   "metadata": {},
   "source": [
    "!gcloud ml-engine versions create --help"
   ]
  },
  {
   "cell_type": "raw",
   "metadata": {},
   "source": [
    "!gcloud ml-engine local predict --help"
   ]
  },
  {
   "cell_type": "code",
   "execution_count": null,
   "metadata": {},
   "outputs": [],
   "source": [
    "os.environ['CLOUDSDK_PYTHON']='/Users/tarrade/anaconda3/bin/python'"
   ]
  },
  {
   "cell_type": "markdown",
   "metadata": {},
   "source": [
    "### Create a input json file and string"
   ]
  },
  {
   "cell_type": "markdown",
   "metadata": {},
   "source": [
    "Input needed to get prediction using ml-engine an option --json-instances: 'dense_2_input' for each new entry"
   ]
  },
  {
   "cell_type": "code",
   "execution_count": null,
   "metadata": {},
   "outputs": [],
   "source": [
    "input_prediction=x_test[0:3]"
   ]
  },
  {
   "cell_type": "code",
   "execution_count": null,
   "metadata": {},
   "outputs": [],
   "source": [
    "data = input_prediction.tolist()\n",
    "json_file = \"../data/input_predict_gcloud.json\" \n",
    "\n",
    "with codecs.open(json_file, 'w', encoding='utf-8') as f:\n",
    "    for el in data:\n",
    "        instance = {'dense_2_input': el}\n",
    "        json.dump(instance, f , sort_keys=True)\n",
    "        f.write(\"\\n\")"
   ]
  },
  {
   "cell_type": "markdown",
   "metadata": {},
   "source": [
    "Input needed to get prediction using ml-engine and cURL"
   ]
  },
  {
   "cell_type": "code",
   "execution_count": null,
   "metadata": {},
   "outputs": [],
   "source": [
    "data = input_prediction.tolist()\n",
    "json_file = \"../data/input_predict_cURL.json\" \n",
    "\n",
    "with codecs.open(json_file, 'w', encoding='utf-8') as f:\n",
    "    tmp={}\n",
    "    list_tmp=[]\n",
    "    for el in data:\n",
    "        tmp['dense_2_input']=el\n",
    "        list_tmp.append(tmp)\n",
    "    instance = {\"instances\": list_tmp}    \n",
    "    json.dump(instance, f , sort_keys=True)\n",
    "    f.write(\"\\n\")"
   ]
  },
  {
   "cell_type": "raw",
   "metadata": {},
   "source": [
    "Input needed to get prediction using ml-engine and requests"
   ]
  },
  {
   "cell_type": "code",
   "execution_count": null,
   "metadata": {},
   "outputs": [],
   "source": [
    "input_predict_request = json.dumps({\"signature_name\": \"serving_default\", \"instances\": input_prediction.tolist()})"
   ]
  },
  {
   "cell_type": "markdown",
   "metadata": {},
   "source": [
    "display example"
   ]
  },
  {
   "cell_type": "code",
   "execution_count": null,
   "metadata": {},
   "outputs": [],
   "source": [
    "def show(img, title):\n",
    "    plt.figure()\n",
    "    plt.imshow(img.reshape(28,28))\n",
    "    plt.axis('off')\n",
    "    plt.title('\\n\\n{}'.format(title), fontdict={'size': 16})"
   ]
  },
  {
   "cell_type": "code",
   "execution_count": null,
   "metadata": {},
   "outputs": [],
   "source": [
    "for i in range(1):\n",
    "    show(x_test[i],'Test dataset, true label: '+str(np.argmax(y_test[i])))"
   ]
  },
  {
   "cell_type": "markdown",
   "metadata": {},
   "source": [
    "### Test the model inference using gcloud locally"
   ]
  },
  {
   "cell_type": "code",
   "execution_count": null,
   "metadata": {},
   "outputs": [],
   "source": [
    "os.environ['CLOUDSDK_PYTHON']='/Users/tarrade/anaconda3/bin/python'"
   ]
  },
  {
   "cell_type": "code",
   "execution_count": null,
   "metadata": {},
   "outputs": [],
   "source": [
    "!gcloud ml-engine local predict --model-dir $MODEL_FOR_SERVING --json-instances ../data/input_predict_gcloud.json "
   ]
  },
  {
   "cell_type": "markdown",
   "metadata": {},
   "source": [
    "### Deploy the model using Cloud ML Engine\n",
    "- https://cloud.google.com/ml-engine/docs/v1/predict-request\n",
    "- https://cloud.google.com/ml-engine/docs/tensorflow/online-predict#requesting_predictions"
   ]
  },
  {
   "cell_type": "code",
   "execution_count": null,
   "metadata": {},
   "outputs": [],
   "source": [
    "os.environ['PROJECT']=subprocess.run('gcloud config list project --format \"value(core.project)\"', shell=True, check=True, stdout=subprocess.PIPE).stdout.decode().replace('\\n', '')\n",
    "os.environ['MODEL']='mnist'\n",
    "os.environ['BUCKET']='gs://'+os.environ['PROJECT']\n",
    "os.environ['VERSION']='v2'"
   ]
  },
  {
   "cell_type": "code",
   "execution_count": null,
   "metadata": {},
   "outputs": [],
   "source": [
    "# gsutil need python 2.7\n",
    "os.environ['CLOUDSDK_PYTHON']='/Users/tarrade/anaconda/bin/python'"
   ]
  },
  {
   "cell_type": "code",
   "execution_count": null,
   "metadata": {},
   "outputs": [],
   "source": [
    "!gsutil cp -r $MODEL_FOR_SERVING $BUCKET/model_dir_tmp/"
   ]
  },
  {
   "cell_type": "code",
   "execution_count": null,
   "metadata": {},
   "outputs": [],
   "source": [
    "!gcloud ml-engine models list"
   ]
  },
  {
   "cell_type": "markdown",
   "metadata": {},
   "source": [
    "when creating the model for the first time"
   ]
  },
  {
   "cell_type": "raw",
   "metadata": {},
   "source": [
    "!gcloud ml-engine models create ${MODEL} \\\n",
    "--regions us-central1"
   ]
  },
  {
   "cell_type": "markdown",
   "metadata": {},
   "source": [
    "create a version and store the model"
   ]
  },
  {
   "cell_type": "code",
   "execution_count": null,
   "metadata": {},
   "outputs": [],
   "source": [
    "!gcloud ml-engine versions create ${VERSION} \\\n",
    "--model ${MODEL} \\\n",
    "--origin=${BUCKET}/model_dir_tmp/1549054852 \\\n",
    "--runtime-version=1.12 \\\n",
    "--staging-bucket=${BUCKET}"
   ]
  },
  {
   "cell_type": "markdown",
   "metadata": {},
   "source": [
    "#### Checking the list of model in ML-Engine"
   ]
  },
  {
   "cell_type": "code",
   "execution_count": null,
   "metadata": {},
   "outputs": [],
   "source": [
    "!gcloud ml-engine models list"
   ]
  },
  {
   "cell_type": "code",
   "execution_count": null,
   "metadata": {},
   "outputs": [],
   "source": [
    " !gcloud ml-engine versions list --model mnist"
   ]
  },
  {
   "cell_type": "markdown",
   "metadata": {},
   "source": [
    "#### Testing our model using ML-Engine"
   ]
  },
  {
   "cell_type": "code",
   "execution_count": null,
   "metadata": {},
   "outputs": [],
   "source": [
    "!gcloud ml-engine predict --model=${MODEL} --version=${VERSION} --json-instances ../data/input_predict_gcloud.json"
   ]
  },
  {
   "cell_type": "markdown",
   "metadata": {},
   "source": [
    "#### Testing using RESTful API \n",
    "- https://www.tensorflow.org/serving/api_rest  \n",
    "RESTful API is an application program interface (API) that uses HTTP requests to GET, PUT, POST and DELETE data (Json)"
   ]
  },
  {
   "cell_type": "markdown",
   "metadata": {},
   "source": [
    "Use cURL"
   ]
  },
  {
   "cell_type": "code",
   "execution_count": null,
   "metadata": {},
   "outputs": [],
   "source": [
    "!curl https://ml.googleapis.com/v1/projects/${PROJECT}/models/${MODEL}/versions/${VERSION} \\\n",
    "-H \"Authorization: Bearer $(gcloud auth print-access-token)\" \\"
   ]
  },
  {
   "cell_type": "code",
   "execution_count": null,
   "metadata": {},
   "outputs": [],
   "source": [
    "!curl -X POST \\\n",
    "https://ml.googleapis.com/v1/projects/${PROJECT}/models/${MODEL}/versions/${VERSION}:predict \\\n",
    "-H \"Content-Type: application/json\" \\\n",
    "-H \"Authorization: Bearer $(gcloud auth print-access-token)\" \\\n",
    "-d @../data/input_predict_cURL.json "
   ]
  },
  {
   "cell_type": "markdown",
   "metadata": {},
   "source": [
    "Use python and requests"
   ]
  },
  {
   "cell_type": "code",
   "execution_count": null,
   "metadata": {},
   "outputs": [],
   "source": [
    "url = 'https://ml.googleapis.com/v1/projects/'+os.environ['PROJECT']+'/models/'+os.environ['MODEL']+'/versions/'+os.environ['VERSION']+':predict'\n",
    "\n",
    "headers = {\n",
    "    'Content-Type': 'application/json',\n",
    "    'Authorization':  'Bearer {}'.format(subprocess.run('gcloud auth print-access-token', shell=True, check=True, stdout=subprocess.PIPE).stdout.decode().replace('\\n', ''))\n",
    "}\n",
    "\n",
    "json_response = requests.post(url=url, data=input_predict_request, headers=headers)\n",
    "json.loads(json_response.text)"
   ]
  },
  {
   "cell_type": "code",
   "execution_count": null,
   "metadata": {},
   "outputs": [],
   "source": [
    "predictions = json.loads(json_response.text)['predictions']"
   ]
  },
  {
   "cell_type": "code",
   "execution_count": null,
   "metadata": {},
   "outputs": [],
   "source": [
    "for i in range(0,3):\n",
    "    show(x_test[i], 'The model thought this was a {} , and it was actually a {}'.format(np.argmax(predictions[i]['dense_3']),np.argmax(y_test[i])))"
   ]
  },
  {
   "cell_type": "markdown",
   "metadata": {},
   "source": [
    "#### Testing using gRPC API \n",
    "- https://cloud.google.com/endpoints/docs/grpc/about-grpc  \n",
    "gRPC is a high performance, open-source universal RPC framework, developed by Google. In gRPC, a client application can directly call methods on a server application on a different machine as if it was a local object, making it easier to create distributed applications and services (Protobuf)"
   ]
  },
  {
   "cell_type": "code",
   "execution_count": null,
   "metadata": {},
   "outputs": [],
   "source": [
    "# to do"
   ]
  },
  {
   "cell_type": "markdown",
   "metadata": {},
   "source": [
    "## Debug Python environment"
   ]
  },
  {
   "cell_type": "code",
   "execution_count": null,
   "metadata": {},
   "outputs": [],
   "source": [
    "!python -c \"import tensorflow as tf; print(tf.GIT_VERSION, tf.VERSION)\""
   ]
  },
  {
   "cell_type": "code",
   "execution_count": null,
   "metadata": {},
   "outputs": [],
   "source": [
    "!conda list"
   ]
  },
  {
   "cell_type": "code",
   "execution_count": null,
   "metadata": {},
   "outputs": [],
   "source": [
    "## Reload the model and make evaluation using Keras"
   ]
  },
  {
   "cell_type": "code",
   "execution_count": null,
   "metadata": {},
   "outputs": [],
   "source": [
    "reload_model_opt_keras=tf.keras.models.load_model(FLAGS.model_dir_keras+'keras_model.h5')"
   ]
  },
  {
   "cell_type": "code",
   "execution_count": null,
   "metadata": {},
   "outputs": [],
   "source": [
    "score = reload_model_opt_keras.evaluate(x_train, \n",
    "                                        y_train, \n",
    "                                        verbose=0)\n",
    "print('Train loss:', score[0])\n",
    "print('Train accuracy:', score[1])"
   ]
  },
  {
   "cell_type": "code",
   "execution_count": null,
   "metadata": {},
   "outputs": [],
   "source": [
    "### Evaluate the model using Keras and tf.data.dataset"
   ]
  },
  {
   "cell_type": "code",
   "execution_count": null,
   "metadata": {},
   "outputs": [],
   "source": [
    "score = model_opt_keras.evaluate(x_test, \n",
    "                       y_test, \n",
    "                       verbose=0)\n",
    "print('Test loss:', score[0])\n",
    "print('Test accuracy:', score[1])"
   ]
  },
  {
   "cell_type": "code",
   "execution_count": null,
   "metadata": {},
   "outputs": [],
   "source": [
    "score = model_opt_keras.evaluate(x_train, \n",
    "                       y_train, \n",
    "                       verbose=0)\n",
    "print('Train loss:', score[0])\n",
    "print('Train accuracy:', score[1])"
   ]
  },
  {
   "cell_type": "code",
   "execution_count": null,
   "metadata": {},
   "outputs": [],
   "source": [
    "for i in range(0,3):\n",
    "    show(x_test[i], 'The model thought this was a {} , and it was actually a {}'.format(np.argmax(predictions[i]['dense_3']),np.argmax(y_test[i])))"
   ]
  }
 ],
 "metadata": {
  "kernelspec": {
   "display_name": "Python [conda env:env_gcp_dl]",
   "language": "python",
   "name": "conda-env-env_gcp_dl-py"
  },
  "language_info": {
   "codemirror_mode": {
    "name": "ipython",
    "version": 3
   },
   "file_extension": ".py",
   "mimetype": "text/x-python",
   "name": "python",
   "nbconvert_exporter": "python",
   "pygments_lexer": "ipython3",
   "version": "3.6.6"
  },
  "latex_envs": {
   "LaTeX_envs_menu_present": true,
   "autoclose": false,
   "autocomplete": true,
   "bibliofile": "biblio.bib",
   "cite_by": "apalike",
   "current_citInitial": 1,
   "eqLabelWithNumbers": true,
   "eqNumInitial": 1,
   "hotkeys": {
    "equation": "Ctrl-E",
    "itemize": "Ctrl-I"
   },
   "labels_anchors": false,
   "latex_user_defs": false,
   "report_style_numbering": false,
   "user_envs_cfg": false
  },
  "toc": {
   "base_numbering": "1",
   "nav_menu": {},
   "number_sections": true,
   "sideBar": true,
   "skip_h1_title": false,
   "title_cell": "Table of Contents",
   "title_sidebar": "Contents",
   "toc_cell": false,
   "toc_position": {},
   "toc_section_display": true,
   "toc_window_display": false
  },
  "varInspector": {
   "cols": {
    "lenName": 16,
    "lenType": 16,
    "lenVar": 40
   },
   "kernels_config": {
    "python": {
     "delete_cmd_postfix": "",
     "delete_cmd_prefix": "del ",
     "library": "var_list.py",
     "varRefreshCmd": "print(var_dic_list())"
    },
    "r": {
     "delete_cmd_postfix": ") ",
     "delete_cmd_prefix": "rm(",
     "library": "var_list.r",
     "varRefreshCmd": "cat(var_dic_list()) "
    }
   },
   "types_to_exclude": [
    "module",
    "function",
    "builtin_function_or_method",
    "instance",
    "_Feature"
   ],
   "window_display": false
  }
 },
 "nbformat": 4,
 "nbformat_minor": 2
}
